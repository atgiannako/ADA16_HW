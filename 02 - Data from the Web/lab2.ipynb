{
 "cells": [
  {
   "cell_type": "code",
   "execution_count": 1,
   "metadata": {
    "collapsed": true
   },
   "outputs": [],
   "source": [
    "# loading all necessary libraries\n",
    "import requests, csv, glob, pandas as pd\n",
    "import numpy as np\n",
    "from bs4 import BeautifulSoup\n",
    "import matplotlib.pyplot as plt\n",
    "import scipy.stats as stats\n",
    "%matplotlib inline\n",
    "\n",
    "pd.options.mode.chained_assignment = None  # default='warn'"
   ]
  },
  {
   "cell_type": "markdown",
   "metadata": {},
   "source": [
    "# Question 1"
   ]
  },
  {
   "cell_type": "markdown",
   "metadata": {},
   "source": [
    "Here we define some useful parameters"
   ]
  },
  {
   "cell_type": "code",
   "execution_count": 2,
   "metadata": {
    "collapsed": true
   },
   "outputs": [],
   "source": [
    "# informatique (value for URL parameter)\n",
    "unite_acad = '249847'\n",
    "# all years from 2007 till 2016 (values in the URL parameter)\n",
    "periode_acad = ['978181', '978187', '978195', '39486325', '123455150', '123456101', '213637754', '213637922', '213638028', '355925344']\n",
    "# all bachelor semesters from 1st to 6th (values in the URL parameter)\n",
    "periode_pedago = ['249108', '249114', '942155', '942163', '942120', '2226768', '942175', '2226785']\n",
    "# filtered periode_pedago (we are only interested in semesters 1, 6, 6b)\n",
    "periode_pedago_filtered = [periode_pedago[0],periode_pedago[-2],periode_pedago[-1]]\n",
    "# all years from 2007 till 2016\n",
    "years = list(range(2007,2017))\n",
    "# semesters we are interested in\n",
    "semesters = ['1','6','6b']"
   ]
  },
  {
   "cell_type": "markdown",
   "metadata": {},
   "source": [
    "We define the function that will parse our html files"
   ]
  },
  {
   "cell_type": "code",
   "execution_count": 3,
   "metadata": {
    "collapsed": true
   },
   "outputs": [],
   "source": [
    "def my_parse(html):\n",
    "    '''\n",
    "    this function is used to parse the html files downloaded from isa.epfl.ch\n",
    "    it extracts the context of the html table that contains all registered information about the students (this information is located between the <td> and <tr> attributes of the html page)\n",
    "    \n",
    "    Arguments\n",
    "    html: contains the html page in string format\n",
    "    '''\n",
    "    table = []\n",
    "    soup = BeautifulSoup(html, 'html.parser')\n",
    "    # we keep the information between the table attribute\n",
    "    content = soup.find_all('table')[0]\n",
    "    # we keep the information between the <tr> and <td> attributes which is the context of each cell for each row\n",
    "    for tr in content.find_all('tr'):\n",
    "        tds = tr.find_all('td')\n",
    "        table.append([elem.text.rstrip('\\n').replace(u'\\xa0', u' ') for elem in tr])\n",
    "    # we return the whole html table as a list of lists\n",
    "    return table"
   ]
  },
  {
   "cell_type": "markdown",
   "metadata": {},
   "source": [
    "Here is a function that creates a csv file which will be later used to load dataframes\n",
    "\n",
    "** We save the data to csv files in order to avoid making the http requests every time we run the code**"
   ]
  },
  {
   "cell_type": "code",
   "execution_count": 4,
   "metadata": {
    "collapsed": true
   },
   "outputs": [],
   "source": [
    "def tableToCSV(table, file_name):\n",
    "    '''\n",
    "    this function is used to print the content of the html table in a csv file\n",
    "\n",
    "    Arguments\n",
    "    table:      is a list of list. each sublist contains the payload of a row\n",
    "                of the html table\n",
    "    file_name:  specifies the file name\n",
    "    '''\n",
    "    started = False\n",
    "    # we skip some rows that do not contain useful information\n",
    "    for row in table:\n",
    "        if row[0].startswith('Civil'):\n",
    "            started = True\n",
    "            f = open(file_name, 'w')\n",
    "        if started:\n",
    "            f.write('|'.join(row)+'\\n')\n",
    "    if started:\n",
    "        f.close()"
   ]
  },
  {
   "cell_type": "markdown",
   "metadata": {},
   "source": [
    "We put all the URL parameters in a dictionary, since the requests.get() function works in that way"
   ]
  },
  {
   "cell_type": "code",
   "execution_count": 5,
   "metadata": {
    "collapsed": false
   },
   "outputs": [],
   "source": [
    "payload = {'ww_x_GPS':'-1', \n",
    "           'ww_i_reportModel':'133685247', \n",
    "           'ww_i_reportModelXsl':'133685270', \n",
    "           'ww_x_UNITE_ACAD':unite_acad, \n",
    "           # we keep the last two parameters with no values, since we will define this value later\n",
    "           'ww_x_PERIODE_ACAD':'', \n",
    "           'ww_x_PERIODE_PEDAGO':''}"
   ]
  },
  {
   "cell_type": "code",
   "execution_count": 6,
   "metadata": {
    "collapsed": true
   },
   "outputs": [],
   "source": [
    "# base url\n",
    "url = 'http://isa.epfl.ch/imoniteur_ISAP/!GEDPUBLICREPORTS.html'"
   ]
  },
  {
   "cell_type": "markdown",
   "metadata": {},
   "source": [
    "We iterate through all years from 2007 to 2016 (using the values of the url parameters) and fetch information about semester 1, 6 and 6b for each year"
   ]
  },
  {
   "cell_type": "code",
   "execution_count": 7,
   "metadata": {
    "collapsed": true
   },
   "outputs": [],
   "source": [
    "for i in range(0, len(periode_acad)):\n",
    "    # we iterate through all the semesters we are interested in, namely 1, 6, and 6b (using the respective values for the URL parameter)\n",
    "    for j in range(0, len(periode_pedago_filtered)):\n",
    "        payload['ww_x_PERIODE_ACAD'] = periode_acad[i]\n",
    "        payload['ww_x_PERIODE_PEDAGO'] = periode_pedago_filtered[j]\n",
    "        # send request to fetch the page\n",
    "        page = requests.get(url, params = payload)\n",
    "        # keep only the text of the response, namely the html file and parse it\n",
    "        rows = my_parse(page.text)\n",
    "        # specify file name according to year and semester\n",
    "        file_name = 'Data/bachelor/bachelor_' + str(years[i]) + '_sem_' + semesters[j]\n",
    "        # save data to csv file (if file is emtpy, then skip) in order to avoid making the request every\n",
    "        # time we run the code\n",
    "        if rows:\n",
    "            tableToCSV(rows, file_name)"
   ]
  },
  {
   "cell_type": "markdown",
   "metadata": {},
   "source": [
    "We fetched all the data we need and we can start loading the csv files into dataframes"
   ]
  },
  {
   "cell_type": "markdown",
   "metadata": {},
   "source": [
    "## Data loading"
   ]
  },
  {
   "cell_type": "markdown",
   "metadata": {},
   "source": [
    "We start by loading all Bachelor students registered in Semester 1 from 2007 till 2016"
   ]
  },
  {
   "cell_type": "code",
   "execution_count": 8,
   "metadata": {
    "collapsed": false
   },
   "outputs": [
    {
     "data": {
      "text/html": [
       "<div>\n",
       "<table border=\"1\" class=\"dataframe\">\n",
       "  <thead>\n",
       "    <tr style=\"text-align: right;\">\n",
       "      <th></th>\n",
       "      <th>Civilité</th>\n",
       "      <th>Nom Prénom</th>\n",
       "      <th>Orientation Bachelor</th>\n",
       "      <th>Orientation Master</th>\n",
       "      <th>Spécialisation</th>\n",
       "      <th>Filière opt.</th>\n",
       "      <th>Mineur</th>\n",
       "      <th>Statut</th>\n",
       "      <th>Type Echange</th>\n",
       "      <th>Ecole Echange</th>\n",
       "      <th>No Sciper</th>\n",
       "      <th>year_1</th>\n",
       "    </tr>\n",
       "  </thead>\n",
       "  <tbody>\n",
       "    <tr>\n",
       "      <th>0</th>\n",
       "      <td>Monsieur</td>\n",
       "      <td>Albrecht Pablo</td>\n",
       "      <td>NaN</td>\n",
       "      <td>NaN</td>\n",
       "      <td>NaN</td>\n",
       "      <td>NaN</td>\n",
       "      <td>NaN</td>\n",
       "      <td>Présent</td>\n",
       "      <td>NaN</td>\n",
       "      <td>NaN</td>\n",
       "      <td>212726</td>\n",
       "      <td>2012</td>\n",
       "    </tr>\n",
       "    <tr>\n",
       "      <th>1</th>\n",
       "      <td>Monsieur</td>\n",
       "      <td>Alvard Edouard</td>\n",
       "      <td>NaN</td>\n",
       "      <td>NaN</td>\n",
       "      <td>NaN</td>\n",
       "      <td>NaN</td>\n",
       "      <td>NaN</td>\n",
       "      <td>Présent</td>\n",
       "      <td>NaN</td>\n",
       "      <td>NaN</td>\n",
       "      <td>223371</td>\n",
       "      <td>2012</td>\n",
       "    </tr>\n",
       "    <tr>\n",
       "      <th>2</th>\n",
       "      <td>Madame</td>\n",
       "      <td>Ammann Gaëlle</td>\n",
       "      <td>NaN</td>\n",
       "      <td>NaN</td>\n",
       "      <td>NaN</td>\n",
       "      <td>NaN</td>\n",
       "      <td>NaN</td>\n",
       "      <td>Présent</td>\n",
       "      <td>NaN</td>\n",
       "      <td>NaN</td>\n",
       "      <td>228116</td>\n",
       "      <td>2012</td>\n",
       "    </tr>\n",
       "    <tr>\n",
       "      <th>3</th>\n",
       "      <td>Monsieur</td>\n",
       "      <td>Amorim Afonso Caldeira Da Silva Pedro Maria</td>\n",
       "      <td>NaN</td>\n",
       "      <td>NaN</td>\n",
       "      <td>NaN</td>\n",
       "      <td>NaN</td>\n",
       "      <td>NaN</td>\n",
       "      <td>Présent</td>\n",
       "      <td>NaN</td>\n",
       "      <td>NaN</td>\n",
       "      <td>213618</td>\n",
       "      <td>2012</td>\n",
       "    </tr>\n",
       "    <tr>\n",
       "      <th>4</th>\n",
       "      <td>Monsieur</td>\n",
       "      <td>Amrani Kamil</td>\n",
       "      <td>NaN</td>\n",
       "      <td>NaN</td>\n",
       "      <td>NaN</td>\n",
       "      <td>NaN</td>\n",
       "      <td>NaN</td>\n",
       "      <td>Présent</td>\n",
       "      <td>NaN</td>\n",
       "      <td>NaN</td>\n",
       "      <td>226305</td>\n",
       "      <td>2012</td>\n",
       "    </tr>\n",
       "  </tbody>\n",
       "</table>\n",
       "</div>"
      ],
      "text/plain": [
       "   Civilité                                   Nom Prénom  \\\n",
       "0  Monsieur                               Albrecht Pablo   \n",
       "1  Monsieur                               Alvard Edouard   \n",
       "2    Madame                                Ammann Gaëlle   \n",
       "3  Monsieur  Amorim Afonso Caldeira Da Silva Pedro Maria   \n",
       "4  Monsieur                                 Amrani Kamil   \n",
       "\n",
       "   Orientation Bachelor  Orientation Master  Spécialisation  Filière opt.  \\\n",
       "0                   NaN                 NaN             NaN           NaN   \n",
       "1                   NaN                 NaN             NaN           NaN   \n",
       "2                   NaN                 NaN             NaN           NaN   \n",
       "3                   NaN                 NaN             NaN           NaN   \n",
       "4                   NaN                 NaN             NaN           NaN   \n",
       "\n",
       "   Mineur   Statut  Type Echange  Ecole Echange  No Sciper  year_1  \n",
       "0     NaN  Présent           NaN            NaN     212726    2012  \n",
       "1     NaN  Présent           NaN            NaN     223371    2012  \n",
       "2     NaN  Présent           NaN            NaN     228116    2012  \n",
       "3     NaN  Présent           NaN            NaN     213618    2012  \n",
       "4     NaN  Présent           NaN            NaN     226305    2012  "
      ]
     },
     "execution_count": 8,
     "metadata": {},
     "output_type": "execute_result"
    }
   ],
   "source": [
    "# define path\n",
    "all_semester_1 = glob.glob('Data/bachelor' + '/*sem_1')\n",
    "# initialize dataframe for all sem 1 students from 2007 till 2016\n",
    "semester_1_students = pd.DataFrame()\n",
    "list_semester_1 = []\n",
    "for file_name in all_semester_1:\n",
    "    df = pd.read_csv(file_name, sep='|', index_col = False)\n",
    "    # append year column to indicate when was each student registered\n",
    "    df['year_1'] = int(file_name.split('_')[1])\n",
    "    list_semester_1.append(df)\n",
    "# concatenate dataframes\n",
    "semester_1_students = pd.concat(list_semester_1)\n",
    "semester_1_students.head()"
   ]
  },
  {
   "cell_type": "code",
   "execution_count": 9,
   "metadata": {
    "collapsed": false
   },
   "outputs": [
    {
     "data": {
      "text/html": [
       "<div>\n",
       "<table border=\"1\" class=\"dataframe\">\n",
       "  <thead>\n",
       "    <tr style=\"text-align: right;\">\n",
       "      <th></th>\n",
       "      <th>Civilité</th>\n",
       "      <th>Nom Prénom</th>\n",
       "      <th>Orientation Bachelor</th>\n",
       "      <th>Orientation Master</th>\n",
       "      <th>Spécialisation</th>\n",
       "      <th>Filière opt.</th>\n",
       "      <th>Mineur</th>\n",
       "      <th>Statut</th>\n",
       "      <th>Type Echange</th>\n",
       "      <th>Ecole Echange</th>\n",
       "      <th>No Sciper</th>\n",
       "      <th>year_1</th>\n",
       "    </tr>\n",
       "  </thead>\n",
       "  <tbody>\n",
       "    <tr>\n",
       "      <th>231</th>\n",
       "      <td>Monsieur</td>\n",
       "      <td>Zeller Corentin Luc Claude</td>\n",
       "      <td>NaN</td>\n",
       "      <td>NaN</td>\n",
       "      <td>NaN</td>\n",
       "      <td>NaN</td>\n",
       "      <td>NaN</td>\n",
       "      <td>Présent</td>\n",
       "      <td>NaN</td>\n",
       "      <td>NaN</td>\n",
       "      <td>276323</td>\n",
       "      <td>2016</td>\n",
       "    </tr>\n",
       "    <tr>\n",
       "      <th>232</th>\n",
       "      <td>Monsieur</td>\n",
       "      <td>Zerbib Jeremy Moïsche Tsion</td>\n",
       "      <td>NaN</td>\n",
       "      <td>NaN</td>\n",
       "      <td>NaN</td>\n",
       "      <td>NaN</td>\n",
       "      <td>NaN</td>\n",
       "      <td>Présent</td>\n",
       "      <td>NaN</td>\n",
       "      <td>NaN</td>\n",
       "      <td>257715</td>\n",
       "      <td>2016</td>\n",
       "    </tr>\n",
       "    <tr>\n",
       "      <th>233</th>\n",
       "      <td>Monsieur</td>\n",
       "      <td>Zghonda Jalel</td>\n",
       "      <td>NaN</td>\n",
       "      <td>NaN</td>\n",
       "      <td>NaN</td>\n",
       "      <td>NaN</td>\n",
       "      <td>NaN</td>\n",
       "      <td>Présent</td>\n",
       "      <td>NaN</td>\n",
       "      <td>NaN</td>\n",
       "      <td>257393</td>\n",
       "      <td>2016</td>\n",
       "    </tr>\n",
       "    <tr>\n",
       "      <th>234</th>\n",
       "      <td>Monsieur</td>\n",
       "      <td>Zhou Jianhan</td>\n",
       "      <td>NaN</td>\n",
       "      <td>NaN</td>\n",
       "      <td>NaN</td>\n",
       "      <td>NaN</td>\n",
       "      <td>NaN</td>\n",
       "      <td>Présent</td>\n",
       "      <td>NaN</td>\n",
       "      <td>NaN</td>\n",
       "      <td>250422</td>\n",
       "      <td>2016</td>\n",
       "    </tr>\n",
       "    <tr>\n",
       "      <th>235</th>\n",
       "      <td>Monsieur</td>\n",
       "      <td>Zumbach Yves Arnaud</td>\n",
       "      <td>NaN</td>\n",
       "      <td>NaN</td>\n",
       "      <td>NaN</td>\n",
       "      <td>NaN</td>\n",
       "      <td>NaN</td>\n",
       "      <td>Présent</td>\n",
       "      <td>NaN</td>\n",
       "      <td>NaN</td>\n",
       "      <td>269845</td>\n",
       "      <td>2016</td>\n",
       "    </tr>\n",
       "  </tbody>\n",
       "</table>\n",
       "</div>"
      ],
      "text/plain": [
       "     Civilité                   Nom Prénom  Orientation Bachelor  \\\n",
       "231  Monsieur   Zeller Corentin Luc Claude                   NaN   \n",
       "232  Monsieur  Zerbib Jeremy Moïsche Tsion                   NaN   \n",
       "233  Monsieur                Zghonda Jalel                   NaN   \n",
       "234  Monsieur                 Zhou Jianhan                   NaN   \n",
       "235  Monsieur          Zumbach Yves Arnaud                   NaN   \n",
       "\n",
       "     Orientation Master  Spécialisation  Filière opt.  Mineur   Statut  \\\n",
       "231                 NaN             NaN           NaN     NaN  Présent   \n",
       "232                 NaN             NaN           NaN     NaN  Présent   \n",
       "233                 NaN             NaN           NaN     NaN  Présent   \n",
       "234                 NaN             NaN           NaN     NaN  Présent   \n",
       "235                 NaN             NaN           NaN     NaN  Présent   \n",
       "\n",
       "     Type Echange  Ecole Echange  No Sciper  year_1  \n",
       "231           NaN            NaN     276323    2016  \n",
       "232           NaN            NaN     257715    2016  \n",
       "233           NaN            NaN     257393    2016  \n",
       "234           NaN            NaN     250422    2016  \n",
       "235           NaN            NaN     269845    2016  "
      ]
     },
     "execution_count": 9,
     "metadata": {},
     "output_type": "execute_result"
    }
   ],
   "source": [
    "semester_1_students[semester_1_students.year_1 == 2016].tail()"
   ]
  },
  {
   "cell_type": "code",
   "execution_count": 10,
   "metadata": {
    "collapsed": false
   },
   "outputs": [
    {
     "data": {
      "text/plain": [
       "(1720, 12)"
      ]
     },
     "execution_count": 10,
     "metadata": {},
     "output_type": "execute_result"
    }
   ],
   "source": [
    "semester_1_students.shape"
   ]
  },
  {
   "cell_type": "markdown",
   "metadata": {},
   "source": [
    "We load all Bachelor students registered in Semester and 6b from 2007 till 2016\n",
    "\n",
    "(Assumption: we assume that stundents registered in semester 6 and 6b are registered in the 6th semester since the difference between 6 and 6b is not clear)"
   ]
  },
  {
   "cell_type": "code",
   "execution_count": 11,
   "metadata": {
    "collapsed": false
   },
   "outputs": [
    {
     "data": {
      "text/html": [
       "<div>\n",
       "<table border=\"1\" class=\"dataframe\">\n",
       "  <thead>\n",
       "    <tr style=\"text-align: right;\">\n",
       "      <th></th>\n",
       "      <th>No Sciper</th>\n",
       "      <th>year_6</th>\n",
       "    </tr>\n",
       "  </thead>\n",
       "  <tbody>\n",
       "    <tr>\n",
       "      <th>0</th>\n",
       "      <td>174774</td>\n",
       "      <td>2008</td>\n",
       "    </tr>\n",
       "    <tr>\n",
       "      <th>1</th>\n",
       "      <td>170220</td>\n",
       "      <td>2008</td>\n",
       "    </tr>\n",
       "    <tr>\n",
       "      <th>2</th>\n",
       "      <td>166701</td>\n",
       "      <td>2008</td>\n",
       "    </tr>\n",
       "    <tr>\n",
       "      <th>3</th>\n",
       "      <td>170654</td>\n",
       "      <td>2008</td>\n",
       "    </tr>\n",
       "    <tr>\n",
       "      <th>4</th>\n",
       "      <td>161279</td>\n",
       "      <td>2008</td>\n",
       "    </tr>\n",
       "  </tbody>\n",
       "</table>\n",
       "</div>"
      ],
      "text/plain": [
       "   No Sciper  year_6\n",
       "0     174774    2008\n",
       "1     170220    2008\n",
       "2     166701    2008\n",
       "3     170654    2008\n",
       "4     161279    2008"
      ]
     },
     "execution_count": 11,
     "metadata": {},
     "output_type": "execute_result"
    }
   ],
   "source": [
    "# define path\n",
    "all_semester_6 = glob.glob('Data/bachelor' + '/*sem_6*')\n",
    "# initialize dataframe for all sem 1 students from 2007 till 2016\n",
    "semester_6_students = pd.DataFrame()\n",
    "list_semester_6 = []\n",
    "\n",
    "for file_name in all_semester_6:\n",
    "    df = pd.read_csv(file_name, sep = '|', index_col = False)\n",
    "    # append year column to indicate when was each student registered\n",
    "    df['year_6'] = int(file_name.split('_')[1])\n",
    "    list_semester_6.append(df)\n",
    "# concatenate dataframes - put all bachelor students of semester 6 in the same dataframe\n",
    "semester_6_students = pd.concat(list_semester_6)\n",
    "semester_6_students = semester_6_students[['No Sciper', 'year_6']]\n",
    "semester_6_students.head()"
   ]
  },
  {
   "cell_type": "code",
   "execution_count": 12,
   "metadata": {
    "collapsed": false
   },
   "outputs": [
    {
     "data": {
      "text/plain": [
       "(664, 2)"
      ]
     },
     "execution_count": 12,
     "metadata": {},
     "output_type": "execute_result"
    }
   ],
   "source": [
    "semester_6_students.shape"
   ]
  },
  {
   "cell_type": "markdown",
   "metadata": {},
   "source": [
    "We join the dataframes that contain bachelor students from semester 1 and semester 6 (sciper is used as join key)"
   ]
  },
  {
   "cell_type": "code",
   "execution_count": 13,
   "metadata": {
    "collapsed": false
   },
   "outputs": [
    {
     "data": {
      "text/html": [
       "<div>\n",
       "<table border=\"1\" class=\"dataframe\">\n",
       "  <thead>\n",
       "    <tr style=\"text-align: right;\">\n",
       "      <th></th>\n",
       "      <th>Civilité</th>\n",
       "      <th>Nom Prénom</th>\n",
       "      <th>No Sciper</th>\n",
       "      <th>year_1</th>\n",
       "      <th>year_6</th>\n",
       "    </tr>\n",
       "  </thead>\n",
       "  <tbody>\n",
       "    <tr>\n",
       "      <th>605</th>\n",
       "      <td>Monsieur</td>\n",
       "      <td>Rutz Valentin Bernard Roger Alain</td>\n",
       "      <td>203909</td>\n",
       "      <td>2011</td>\n",
       "      <td>2013</td>\n",
       "    </tr>\n",
       "    <tr>\n",
       "      <th>606</th>\n",
       "      <td>Madame</td>\n",
       "      <td>Salathé Joanna Béatrice</td>\n",
       "      <td>217489</td>\n",
       "      <td>2011</td>\n",
       "      <td>2013</td>\n",
       "    </tr>\n",
       "    <tr>\n",
       "      <th>607</th>\n",
       "      <td>Monsieur</td>\n",
       "      <td>Séchaud Gaétan</td>\n",
       "      <td>217500</td>\n",
       "      <td>2011</td>\n",
       "      <td>2013</td>\n",
       "    </tr>\n",
       "    <tr>\n",
       "      <th>608</th>\n",
       "      <td>Monsieur</td>\n",
       "      <td>Séguy Louis Marie James</td>\n",
       "      <td>204222</td>\n",
       "      <td>2011</td>\n",
       "      <td>2014</td>\n",
       "    </tr>\n",
       "    <tr>\n",
       "      <th>609</th>\n",
       "      <td>Monsieur</td>\n",
       "      <td>Sidorenko Semion</td>\n",
       "      <td>208359</td>\n",
       "      <td>2011</td>\n",
       "      <td>2014</td>\n",
       "    </tr>\n",
       "    <tr>\n",
       "      <th>610</th>\n",
       "      <td>Monsieur</td>\n",
       "      <td>Sikiaridis Alexandre Jean Denis</td>\n",
       "      <td>217469</td>\n",
       "      <td>2011</td>\n",
       "      <td>2013</td>\n",
       "    </tr>\n",
       "    <tr>\n",
       "      <th>611</th>\n",
       "      <td>Madame</td>\n",
       "      <td>Verstegen Noortje</td>\n",
       "      <td>214015</td>\n",
       "      <td>2011</td>\n",
       "      <td>2013</td>\n",
       "    </tr>\n",
       "    <tr>\n",
       "      <th>612</th>\n",
       "      <td>Monsieur</td>\n",
       "      <td>Walch Pierre</td>\n",
       "      <td>217124</td>\n",
       "      <td>2011</td>\n",
       "      <td>2013</td>\n",
       "    </tr>\n",
       "    <tr>\n",
       "      <th>613</th>\n",
       "      <td>Monsieur</td>\n",
       "      <td>Zellweger Fabien André</td>\n",
       "      <td>209450</td>\n",
       "      <td>2011</td>\n",
       "      <td>2014</td>\n",
       "    </tr>\n",
       "    <tr>\n",
       "      <th>614</th>\n",
       "      <td>Monsieur</td>\n",
       "      <td>Zellweger Fabien André</td>\n",
       "      <td>209450</td>\n",
       "      <td>2011</td>\n",
       "      <td>2013</td>\n",
       "    </tr>\n",
       "  </tbody>\n",
       "</table>\n",
       "</div>"
      ],
      "text/plain": [
       "     Civilité                         Nom Prénom  No Sciper  year_1  year_6\n",
       "605  Monsieur  Rutz Valentin Bernard Roger Alain     203909    2011    2013\n",
       "606    Madame            Salathé Joanna Béatrice     217489    2011    2013\n",
       "607  Monsieur                     Séchaud Gaétan     217500    2011    2013\n",
       "608  Monsieur            Séguy Louis Marie James     204222    2011    2014\n",
       "609  Monsieur                   Sidorenko Semion     208359    2011    2014\n",
       "610  Monsieur    Sikiaridis Alexandre Jean Denis     217469    2011    2013\n",
       "611    Madame                  Verstegen Noortje     214015    2011    2013\n",
       "612  Monsieur                       Walch Pierre     217124    2011    2013\n",
       "613  Monsieur             Zellweger Fabien André     209450    2011    2014\n",
       "614  Monsieur             Zellweger Fabien André     209450    2011    2013"
      ]
     },
     "execution_count": 13,
     "metadata": {},
     "output_type": "execute_result"
    }
   ],
   "source": [
    "merged = pd.merge(semester_1_students, semester_6_students, how = 'inner', on = 'No Sciper')\n",
    "merged = merged[['Civilité', 'Nom Prénom', 'No Sciper', 'year_1', 'year_6']]\n",
    "merged.tail(10)"
   ]
  },
  {
   "cell_type": "markdown",
   "metadata": {},
   "source": [
    "Here we notice that some students (e.g. Wirz Leonardo Enrique with sciper 227775) have duplicate records. We want to keep the last record, so we sort according to year and drop duplicates by keeping the last valid record"
   ]
  },
  {
   "cell_type": "code",
   "execution_count": 14,
   "metadata": {
    "collapsed": false
   },
   "outputs": [
    {
     "data": {
      "text/html": [
       "<div>\n",
       "<table border=\"1\" class=\"dataframe\">\n",
       "  <thead>\n",
       "    <tr style=\"text-align: right;\">\n",
       "      <th></th>\n",
       "      <th>Civilité</th>\n",
       "      <th>Nom Prénom</th>\n",
       "      <th>No Sciper</th>\n",
       "      <th>year_1</th>\n",
       "      <th>year_6</th>\n",
       "    </tr>\n",
       "  </thead>\n",
       "  <tbody>\n",
       "    <tr>\n",
       "      <th>226</th>\n",
       "      <td>Monsieur</td>\n",
       "      <td>Schädeli Andreas</td>\n",
       "      <td>178948</td>\n",
       "      <td>2007</td>\n",
       "      <td>2009</td>\n",
       "    </tr>\n",
       "    <tr>\n",
       "      <th>225</th>\n",
       "      <td>Monsieur</td>\n",
       "      <td>Richter Arnaud</td>\n",
       "      <td>171195</td>\n",
       "      <td>2007</td>\n",
       "      <td>2009</td>\n",
       "    </tr>\n",
       "    <tr>\n",
       "      <th>224</th>\n",
       "      <td>Monsieur</td>\n",
       "      <td>Restani Stéphane</td>\n",
       "      <td>180959</td>\n",
       "      <td>2007</td>\n",
       "      <td>2009</td>\n",
       "    </tr>\n",
       "    <tr>\n",
       "      <th>177</th>\n",
       "      <td>Monsieur</td>\n",
       "      <td>Arévalo Christian</td>\n",
       "      <td>169569</td>\n",
       "      <td>2007</td>\n",
       "      <td>2009</td>\n",
       "    </tr>\n",
       "    <tr>\n",
       "      <th>203</th>\n",
       "      <td>Monsieur</td>\n",
       "      <td>Habfast Paul</td>\n",
       "      <td>180570</td>\n",
       "      <td>2007</td>\n",
       "      <td>2009</td>\n",
       "    </tr>\n",
       "  </tbody>\n",
       "</table>\n",
       "</div>"
      ],
      "text/plain": [
       "     Civilité         Nom Prénom  No Sciper  year_1  year_6\n",
       "226  Monsieur   Schädeli Andreas     178948    2007    2009\n",
       "225  Monsieur     Richter Arnaud     171195    2007    2009\n",
       "224  Monsieur   Restani Stéphane     180959    2007    2009\n",
       "177  Monsieur  Arévalo Christian     169569    2007    2009\n",
       "203  Monsieur       Habfast Paul     180570    2007    2009"
      ]
     },
     "execution_count": 14,
     "metadata": {},
     "output_type": "execute_result"
    }
   ],
   "source": [
    "# sort according to year_6\n",
    "merged.sort_values(by = 'year_6', ascending = True, inplace = True)\n",
    "# drop duplicates (if a sciper number appears more than once)\n",
    "merged.drop_duplicates(subset = 'No Sciper', keep = 'last', inplace = True)\n",
    "merged.head()"
   ]
  },
  {
   "cell_type": "markdown",
   "metadata": {},
   "source": [
    "A student that started in 2007-2008 finished in 2009-2010 (this is why we add + 1 to year_6). Moreover, we assume that each semester is 6 months and that each year has two semesters"
   ]
  },
  {
   "cell_type": "code",
   "execution_count": 15,
   "metadata": {
    "collapsed": false
   },
   "outputs": [
    {
     "data": {
      "text/html": [
       "<div>\n",
       "<table border=\"1\" class=\"dataframe\">\n",
       "  <thead>\n",
       "    <tr style=\"text-align: right;\">\n",
       "      <th></th>\n",
       "      <th>Civilité</th>\n",
       "      <th>Nom Prénom</th>\n",
       "      <th>No Sciper</th>\n",
       "      <th>year_1</th>\n",
       "      <th>year_6</th>\n",
       "      <th>months</th>\n",
       "    </tr>\n",
       "  </thead>\n",
       "  <tbody>\n",
       "    <tr>\n",
       "      <th>226</th>\n",
       "      <td>Monsieur</td>\n",
       "      <td>Schädeli Andreas</td>\n",
       "      <td>178948</td>\n",
       "      <td>2007</td>\n",
       "      <td>2009</td>\n",
       "      <td>36</td>\n",
       "    </tr>\n",
       "    <tr>\n",
       "      <th>225</th>\n",
       "      <td>Monsieur</td>\n",
       "      <td>Richter Arnaud</td>\n",
       "      <td>171195</td>\n",
       "      <td>2007</td>\n",
       "      <td>2009</td>\n",
       "      <td>36</td>\n",
       "    </tr>\n",
       "    <tr>\n",
       "      <th>224</th>\n",
       "      <td>Monsieur</td>\n",
       "      <td>Restani Stéphane</td>\n",
       "      <td>180959</td>\n",
       "      <td>2007</td>\n",
       "      <td>2009</td>\n",
       "      <td>36</td>\n",
       "    </tr>\n",
       "    <tr>\n",
       "      <th>177</th>\n",
       "      <td>Monsieur</td>\n",
       "      <td>Arévalo Christian</td>\n",
       "      <td>169569</td>\n",
       "      <td>2007</td>\n",
       "      <td>2009</td>\n",
       "      <td>36</td>\n",
       "    </tr>\n",
       "    <tr>\n",
       "      <th>203</th>\n",
       "      <td>Monsieur</td>\n",
       "      <td>Habfast Paul</td>\n",
       "      <td>180570</td>\n",
       "      <td>2007</td>\n",
       "      <td>2009</td>\n",
       "      <td>36</td>\n",
       "    </tr>\n",
       "  </tbody>\n",
       "</table>\n",
       "</div>"
      ],
      "text/plain": [
       "     Civilité         Nom Prénom  No Sciper  year_1  year_6  months\n",
       "226  Monsieur   Schädeli Andreas     178948    2007    2009      36\n",
       "225  Monsieur     Richter Arnaud     171195    2007    2009      36\n",
       "224  Monsieur   Restani Stéphane     180959    2007    2009      36\n",
       "177  Monsieur  Arévalo Christian     169569    2007    2009      36\n",
       "203  Monsieur       Habfast Paul     180570    2007    2009      36"
      ]
     },
     "execution_count": 15,
     "metadata": {},
     "output_type": "execute_result"
    }
   ],
   "source": [
    "merged['months'] = ((merged.year_6 + 1) - merged.year_1) * 12\n",
    "merged.head()"
   ]
  },
  {
   "cell_type": "markdown",
   "metadata": {},
   "source": [
    "We calculate the number of men and women that have registered for both semester 1 and 6"
   ]
  },
  {
   "cell_type": "code",
   "execution_count": 16,
   "metadata": {
    "collapsed": false
   },
   "outputs": [
    {
     "data": {
      "text/plain": [
       "Civilité\n",
       "Madame       29\n",
       "Monsieur    368\n",
       "Name: months, dtype: int64"
      ]
     },
     "execution_count": 16,
     "metadata": {},
     "output_type": "execute_result"
    }
   ],
   "source": [
    "merged.groupby(by = 'Civilité').count().months"
   ]
  },
  {
   "cell_type": "markdown",
   "metadata": {},
   "source": [
    "Now we calculate the average number of months needed for men and women to finish ther bachelor studies"
   ]
  },
  {
   "cell_type": "code",
   "execution_count": 17,
   "metadata": {
    "collapsed": false
   },
   "outputs": [
    {
     "data": {
      "text/plain": [
       "Civilité\n",
       "Madame      39.310345\n",
       "Monsieur    40.467391\n",
       "Name: months, dtype: float64"
      ]
     },
     "execution_count": 17,
     "metadata": {},
     "output_type": "execute_result"
    }
   ],
   "source": [
    "merged.groupby(by = 'Civilité').mean().months"
   ]
  },
  {
   "cell_type": "markdown",
   "metadata": {},
   "source": [
    "We see that the average study duration for men and women are pretty close"
   ]
  },
  {
   "cell_type": "code",
   "execution_count": 18,
   "metadata": {
    "collapsed": false
   },
   "outputs": [
    {
     "data": {
      "text/plain": [
       "array([[<matplotlib.axes._subplots.AxesSubplot object at 0x7fc12ff61240>]], dtype=object)"
      ]
     },
     "execution_count": 18,
     "metadata": {},
     "output_type": "execute_result"
    },
    {
     "data": {
      "image/png": "[encoded data removed]",
      "text/plain": [
       "<matplotlib.figure.Figure at 0x7fc130b4be80>"
      ]
     },
     "metadata": {},
     "output_type": "display_data"
    }
   ],
   "source": [
    "merged.hist(column='months')"
   ]
  },
  {
   "cell_type": "code",
   "execution_count": 19,
   "metadata": {
    "collapsed": false
   },
   "outputs": [
    {
     "data": {
      "text/plain": [
       "array([<matplotlib.axes._subplots.AxesSubplot object at 0x7fc12ff43d68>,\n",
       "       <matplotlib.axes._subplots.AxesSubplot object at 0x7fc13004aef0>], dtype=object)"
      ]
     },
     "execution_count": 19,
     "metadata": {},
     "output_type": "execute_result"
    },
    {
     "data": {
      "image/png": "[encoded data removed]",
      "text/plain": [
       "<matplotlib.figure.Figure at 0x7fc12fed76a0>"
      ]
     },
     "metadata": {},
     "output_type": "display_data"
    }
   ],
   "source": [
    "merged.hist(column='months', by='Civilité')"
   ]
  },
  {
   "cell_type": "markdown",
   "metadata": {},
   "source": [
    "**Now we will check if the difference in the study duration of men and women is statistically significant**"
   ]
  },
  {
   "cell_type": "markdown",
   "metadata": {},
   "source": [
    "We want to test whether the average study duration of men differs from the women. The null hypothesis would be that there is no difference between the average study duration.\n",
    "\n",
    "The purpose of a hypothesis test is to determine whether the null hypothesis is likely to be true given sample data. We use the **two-sample t-test** which investigates whether the means of two independent data samples differ from one another. The right statistical test was chosen using the theory from [Hypothesis Testing and the T-Test][1]\n",
    "\n",
    "For typical analysis, using the standard α = 0.05 cutoff, we have strong evidence against the null hypothesis if p < 0.05.\n",
    "\n",
    "We calculate the p-value to see if we have strong evidence against the null hypothesis\n",
    "\n",
    "[1]:http://hamelg.blogspot.ch/2015/11/python-for-data-analysis-part-24.html"
   ]
  },
  {
   "cell_type": "code",
   "execution_count": 20,
   "metadata": {
    "collapsed": false
   },
   "outputs": [
    {
     "data": {
      "text/plain": [
       "(368, 6)"
      ]
     },
     "execution_count": 20,
     "metadata": {},
     "output_type": "execute_result"
    }
   ],
   "source": [
    "men = merged[merged['Civilité'] == 'Monsieur']\n",
    "men.shape"
   ]
  },
  {
   "cell_type": "code",
   "execution_count": 21,
   "metadata": {
    "collapsed": false
   },
   "outputs": [
    {
     "data": {
      "text/plain": [
       "count    368.000000\n",
       "mean      40.467391\n",
       "std        7.722646\n",
       "min       36.000000\n",
       "25%       36.000000\n",
       "50%       36.000000\n",
       "75%       48.000000\n",
       "max       72.000000\n",
       "Name: months, dtype: float64"
      ]
     },
     "execution_count": 21,
     "metadata": {},
     "output_type": "execute_result"
    }
   ],
   "source": [
    "men.describe()['months']"
   ]
  },
  {
   "cell_type": "code",
   "execution_count": 22,
   "metadata": {
    "collapsed": false
   },
   "outputs": [
    {
     "data": {
      "text/plain": [
       "(29, 6)"
      ]
     },
     "execution_count": 22,
     "metadata": {},
     "output_type": "execute_result"
    }
   ],
   "source": [
    "women = merged[merged['Civilité'] == 'Madame']\n",
    "women.shape"
   ]
  },
  {
   "cell_type": "code",
   "execution_count": 23,
   "metadata": {
    "collapsed": false
   },
   "outputs": [
    {
     "data": {
      "text/plain": [
       "count    29.000000\n",
       "mean     39.310345\n",
       "std       5.458306\n",
       "min      36.000000\n",
       "25%      36.000000\n",
       "50%      36.000000\n",
       "75%      48.000000\n",
       "max      48.000000\n",
       "Name: months, dtype: float64"
      ]
     },
     "execution_count": 23,
     "metadata": {},
     "output_type": "execute_result"
    }
   ],
   "source": [
    "women.describe()['months']"
   ]
  },
  {
   "cell_type": "code",
   "execution_count": 24,
   "metadata": {
    "collapsed": false
   },
   "outputs": [
    {
     "name": "stdout",
     "output_type": "stream",
     "text": [
      "p-value =  0.2955\n"
     ]
    }
   ],
   "source": [
    "r = stats.ttest_ind(a=men['months'], b=women['months'], equal_var=False)\n",
    "print('p-value = ', np.round(r[1], 4))"
   ]
  },
  {
   "cell_type": "markdown",
   "metadata": {},
   "source": [
    "The p-value is greater than 0.05, which indicates that there is strong evidence in favor of the null hypothesis. Therefore, the difference in the average study duration between men and women is most likely not to be statistically significant"
   ]
  },
  {
   "cell_type": "markdown",
   "metadata": {},
   "source": [
    "# Question 2"
   ]
  },
  {
   "cell_type": "markdown",
   "metadata": {},
   "source": [
    "We redefine the variables for the Master students"
   ]
  },
  {
   "cell_type": "code",
   "execution_count": 25,
   "metadata": {
    "collapsed": true
   },
   "outputs": [],
   "source": [
    "# informatique (value for URL parameter)\n",
    "unite_acad = '249847'\n",
    "# all years from 2007 till 2016 (values in the URL parameter)\n",
    "periode_acad = ['978181', '978187', '978195', '39486325', '123455150', '123456101', '213637754', '213637922', '213638028', '355925344']\n",
    "# all master semesters from 1st to 3rd (values in the URL parameter)\n",
    "periode_pedago = ['2230106', '942192', '2230128']\n",
    "# filtered periode_pedago (we are only interested in semesters 1, 6, 6b)\n",
    "# all years from 2007 till 2016\n",
    "years = list(range(2007,2017))\n",
    "# semesters we are interested in\n",
    "semesters = ['1','2','3']"
   ]
  },
  {
   "cell_type": "markdown",
   "metadata": {},
   "source": [
    "We fetch all student records from 2007 to 2016 for semesters 1 through 3 (there are no records for the 4th semester)"
   ]
  },
  {
   "cell_type": "code",
   "execution_count": 26,
   "metadata": {
    "collapsed": false
   },
   "outputs": [],
   "source": [
    "for i in range(0, len(periode_acad)):\n",
    "    # we iterate through all the semesters we are interested in, namely 1, 2, and 3 (using the respective values for the URL parameter)\n",
    "    for j in range(0, len(periode_pedago)):\n",
    "        payload['ww_x_PERIODE_ACAD'] = periode_acad[i]\n",
    "        payload['ww_x_PERIODE_PEDAGO'] = periode_pedago[j]\n",
    "        # send request to fetch the page\n",
    "        page = requests.get(url, params = payload)\n",
    "        # keep only the text of the response, namely the html file and parse it\n",
    "        rows = my_parse(page.text)\n",
    "        # specify file name according to year and semester\n",
    "        file_name = 'Data/master/master_' + str(years[i]) + '_sem_' + semesters[j]\n",
    "        # save data to csv file (if file is empty then skip)\n",
    "        if rows:\n",
    "            tableToCSV(rows, file_name)"
   ]
  },
  {
   "cell_type": "markdown",
   "metadata": {},
   "source": [
    "Define function that returns all master students according to semester"
   ]
  },
  {
   "cell_type": "code",
   "execution_count": 27,
   "metadata": {
    "collapsed": false
   },
   "outputs": [],
   "source": [
    "def getMasterStudents(semester, path):\n",
    "    '''\n",
    "    returns a dataframe with all master students registered in a specific semester for all years\n",
    "    \n",
    "    Arguments\n",
    "    semester: number of semester\n",
    "    path:     path to files (name of directory)\n",
    "    '''\n",
    "    # define path\n",
    "    regex = '/*sem_' + str(semester)\n",
    "    all_master = glob.glob('Data/' + path + regex)\n",
    "    # initialize dataframe for all sem 1 students from 2007 till 2016\n",
    "    master_students = pd.DataFrame()\n",
    "    list_master = []\n",
    "    for file_name in all_master:\n",
    "        df = pd.read_csv(file_name, sep='|', index_col = False)\n",
    "        # append year column to indicate when was each student registered\n",
    "        col = 'year_'+str(semester)\n",
    "        df[col] = int(file_name.split('_')[1])\n",
    "        list_master.append(df)\n",
    "    # concatenate dataframes\n",
    "    master_students = pd.concat(list_master)\n",
    "    return master_students"
   ]
  },
  {
   "cell_type": "markdown",
   "metadata": {},
   "source": [
    "Get master students for each year for all semesters (1,2 and 3) and put them into a single dataframe"
   ]
  },
  {
   "cell_type": "code",
   "execution_count": 28,
   "metadata": {
    "collapsed": false
   },
   "outputs": [
    {
     "data": {
      "text/html": [
       "<div>\n",
       "<table border=\"1\" class=\"dataframe\">\n",
       "  <thead>\n",
       "    <tr style=\"text-align: right;\">\n",
       "      <th></th>\n",
       "      <th>Civilité</th>\n",
       "      <th>Ecole Echange</th>\n",
       "      <th>Filière opt.</th>\n",
       "      <th>Mineur</th>\n",
       "      <th>No Sciper</th>\n",
       "      <th>Nom Prénom</th>\n",
       "      <th>Orientation Bachelor</th>\n",
       "      <th>Orientation Master</th>\n",
       "      <th>Spécialisation</th>\n",
       "      <th>Statut</th>\n",
       "      <th>Type Echange</th>\n",
       "      <th>year_1</th>\n",
       "      <th>year_2</th>\n",
       "      <th>year_3</th>\n",
       "      <th>120ECTS</th>\n",
       "    </tr>\n",
       "  </thead>\n",
       "  <tbody>\n",
       "    <tr>\n",
       "      <th>0</th>\n",
       "      <td>Monsieur</td>\n",
       "      <td>NaN</td>\n",
       "      <td>NaN</td>\n",
       "      <td>NaN</td>\n",
       "      <td>166075</td>\n",
       "      <td>Amiguet Jérôme</td>\n",
       "      <td>NaN</td>\n",
       "      <td>NaN</td>\n",
       "      <td>NaN</td>\n",
       "      <td>Présent</td>\n",
       "      <td>NaN</td>\n",
       "      <td>2014.0</td>\n",
       "      <td>NaN</td>\n",
       "      <td>NaN</td>\n",
       "      <td>no</td>\n",
       "    </tr>\n",
       "    <tr>\n",
       "      <th>1</th>\n",
       "      <td>Monsieur</td>\n",
       "      <td>NaN</td>\n",
       "      <td>NaN</td>\n",
       "      <td>NaN</td>\n",
       "      <td>245182</td>\n",
       "      <td>Anadon Laurent Marie Patrick</td>\n",
       "      <td>NaN</td>\n",
       "      <td>NaN</td>\n",
       "      <td>NaN</td>\n",
       "      <td>Présent</td>\n",
       "      <td>NaN</td>\n",
       "      <td>2014.0</td>\n",
       "      <td>NaN</td>\n",
       "      <td>NaN</td>\n",
       "      <td>no</td>\n",
       "    </tr>\n",
       "    <tr>\n",
       "      <th>2</th>\n",
       "      <td>Monsieur</td>\n",
       "      <td>NaN</td>\n",
       "      <td>NaN</td>\n",
       "      <td>NaN</td>\n",
       "      <td>194182</td>\n",
       "      <td>Antognini Marco</td>\n",
       "      <td>NaN</td>\n",
       "      <td>NaN</td>\n",
       "      <td>NaN</td>\n",
       "      <td>Présent</td>\n",
       "      <td>NaN</td>\n",
       "      <td>2014.0</td>\n",
       "      <td>NaN</td>\n",
       "      <td>NaN</td>\n",
       "      <td>no</td>\n",
       "    </tr>\n",
       "    <tr>\n",
       "      <th>3</th>\n",
       "      <td>Monsieur</td>\n",
       "      <td>NaN</td>\n",
       "      <td>NaN</td>\n",
       "      <td>NaN</td>\n",
       "      <td>244650</td>\n",
       "      <td>Ashton Jean Scott Elie Marie</td>\n",
       "      <td>NaN</td>\n",
       "      <td>NaN</td>\n",
       "      <td>NaN</td>\n",
       "      <td>Présent</td>\n",
       "      <td>NaN</td>\n",
       "      <td>2014.0</td>\n",
       "      <td>NaN</td>\n",
       "      <td>NaN</td>\n",
       "      <td>no</td>\n",
       "    </tr>\n",
       "    <tr>\n",
       "      <th>4</th>\n",
       "      <td>Monsieur</td>\n",
       "      <td>NaN</td>\n",
       "      <td>NaN</td>\n",
       "      <td>NaN</td>\n",
       "      <td>245311</td>\n",
       "      <td>Basil John Sachin</td>\n",
       "      <td>NaN</td>\n",
       "      <td>NaN</td>\n",
       "      <td>NaN</td>\n",
       "      <td>Présent</td>\n",
       "      <td>NaN</td>\n",
       "      <td>2014.0</td>\n",
       "      <td>NaN</td>\n",
       "      <td>NaN</td>\n",
       "      <td>no</td>\n",
       "    </tr>\n",
       "  </tbody>\n",
       "</table>\n",
       "</div>"
      ],
      "text/plain": [
       "   Civilité Ecole Echange  Filière opt. Mineur  No Sciper  \\\n",
       "0  Monsieur           NaN           NaN    NaN     166075   \n",
       "1  Monsieur           NaN           NaN    NaN     245182   \n",
       "2  Monsieur           NaN           NaN    NaN     194182   \n",
       "3  Monsieur           NaN           NaN    NaN     244650   \n",
       "4  Monsieur           NaN           NaN    NaN     245311   \n",
       "\n",
       "                     Nom Prénom  Orientation Bachelor  Orientation Master  \\\n",
       "0                Amiguet Jérôme                   NaN                 NaN   \n",
       "1  Anadon Laurent Marie Patrick                   NaN                 NaN   \n",
       "2               Antognini Marco                   NaN                 NaN   \n",
       "3  Ashton Jean Scott Elie Marie                   NaN                 NaN   \n",
       "4             Basil John Sachin                   NaN                 NaN   \n",
       "\n",
       "  Spécialisation   Statut Type Echange  year_1  year_2  year_3 120ECTS  \n",
       "0            NaN  Présent          NaN  2014.0     NaN     NaN      no  \n",
       "1            NaN  Présent          NaN  2014.0     NaN     NaN      no  \n",
       "2            NaN  Présent          NaN  2014.0     NaN     NaN      no  \n",
       "3            NaN  Présent          NaN  2014.0     NaN     NaN      no  \n",
       "4            NaN  Présent          NaN  2014.0     NaN     NaN      no  "
      ]
     },
     "execution_count": 28,
     "metadata": {},
     "output_type": "execute_result"
    }
   ],
   "source": [
    "all_master_students = pd.DataFrame()\n",
    "list_students = []\n",
    "# iterate through all semesters\n",
    "for semester in range(1,4):\n",
    "    students = getMasterStudents(semester, 'master')\n",
    "    list_students.append(students)\n",
    "# concatenate all master students in one dataframe\n",
    "all_master_students = pd.concat(list_students)\n",
    "# create column that indicates if someone follows the 120 ECTS program (has a minor/specialization)\n",
    "# initialize values to 'no'\n",
    "all_master_students['120ECTS'] = 'no'\n",
    "all_master_students.head()"
   ]
  },
  {
   "cell_type": "markdown",
   "metadata": {},
   "source": [
    "We seperate all students who have a specialization or Minor (120 ECTS) from those who have not (90 ECTS). We wish to have an average study duration for students who follow the 90 ECTS program and for those who chose the 120 ECTS program seperately"
   ]
  },
  {
   "cell_type": "code",
   "execution_count": 29,
   "metadata": {
    "collapsed": false
   },
   "outputs": [
    {
     "data": {
      "text/html": [
       "<div>\n",
       "<table border=\"1\" class=\"dataframe\">\n",
       "  <thead>\n",
       "    <tr style=\"text-align: right;\">\n",
       "      <th></th>\n",
       "      <th>Civilité</th>\n",
       "      <th>Ecole Echange</th>\n",
       "      <th>Filière opt.</th>\n",
       "      <th>Mineur</th>\n",
       "      <th>No Sciper</th>\n",
       "      <th>Nom Prénom</th>\n",
       "      <th>Orientation Bachelor</th>\n",
       "      <th>Orientation Master</th>\n",
       "      <th>Spécialisation</th>\n",
       "      <th>Statut</th>\n",
       "      <th>Type Echange</th>\n",
       "      <th>year_1</th>\n",
       "      <th>year_2</th>\n",
       "      <th>year_3</th>\n",
       "      <th>120ECTS</th>\n",
       "    </tr>\n",
       "  </thead>\n",
       "  <tbody>\n",
       "    <tr>\n",
       "      <th>0</th>\n",
       "      <td>Monsieur</td>\n",
       "      <td>NaN</td>\n",
       "      <td>NaN</td>\n",
       "      <td>NaN</td>\n",
       "      <td>166075</td>\n",
       "      <td>Amiguet Jérôme</td>\n",
       "      <td>NaN</td>\n",
       "      <td>NaN</td>\n",
       "      <td>NaN</td>\n",
       "      <td>Présent</td>\n",
       "      <td>NaN</td>\n",
       "      <td>2014.0</td>\n",
       "      <td>NaN</td>\n",
       "      <td>NaN</td>\n",
       "      <td>no</td>\n",
       "    </tr>\n",
       "    <tr>\n",
       "      <th>1</th>\n",
       "      <td>Monsieur</td>\n",
       "      <td>NaN</td>\n",
       "      <td>NaN</td>\n",
       "      <td>NaN</td>\n",
       "      <td>245182</td>\n",
       "      <td>Anadon Laurent Marie Patrick</td>\n",
       "      <td>NaN</td>\n",
       "      <td>NaN</td>\n",
       "      <td>NaN</td>\n",
       "      <td>Présent</td>\n",
       "      <td>NaN</td>\n",
       "      <td>2014.0</td>\n",
       "      <td>NaN</td>\n",
       "      <td>NaN</td>\n",
       "      <td>no</td>\n",
       "    </tr>\n",
       "    <tr>\n",
       "      <th>2</th>\n",
       "      <td>Monsieur</td>\n",
       "      <td>NaN</td>\n",
       "      <td>NaN</td>\n",
       "      <td>NaN</td>\n",
       "      <td>194182</td>\n",
       "      <td>Antognini Marco</td>\n",
       "      <td>NaN</td>\n",
       "      <td>NaN</td>\n",
       "      <td>NaN</td>\n",
       "      <td>Présent</td>\n",
       "      <td>NaN</td>\n",
       "      <td>2014.0</td>\n",
       "      <td>NaN</td>\n",
       "      <td>NaN</td>\n",
       "      <td>yes</td>\n",
       "    </tr>\n",
       "    <tr>\n",
       "      <th>3</th>\n",
       "      <td>Monsieur</td>\n",
       "      <td>NaN</td>\n",
       "      <td>NaN</td>\n",
       "      <td>NaN</td>\n",
       "      <td>244650</td>\n",
       "      <td>Ashton Jean Scott Elie Marie</td>\n",
       "      <td>NaN</td>\n",
       "      <td>NaN</td>\n",
       "      <td>NaN</td>\n",
       "      <td>Présent</td>\n",
       "      <td>NaN</td>\n",
       "      <td>2014.0</td>\n",
       "      <td>NaN</td>\n",
       "      <td>NaN</td>\n",
       "      <td>no</td>\n",
       "    </tr>\n",
       "    <tr>\n",
       "      <th>4</th>\n",
       "      <td>Monsieur</td>\n",
       "      <td>NaN</td>\n",
       "      <td>NaN</td>\n",
       "      <td>NaN</td>\n",
       "      <td>245311</td>\n",
       "      <td>Basil John Sachin</td>\n",
       "      <td>NaN</td>\n",
       "      <td>NaN</td>\n",
       "      <td>NaN</td>\n",
       "      <td>Présent</td>\n",
       "      <td>NaN</td>\n",
       "      <td>2014.0</td>\n",
       "      <td>NaN</td>\n",
       "      <td>NaN</td>\n",
       "      <td>yes</td>\n",
       "    </tr>\n",
       "  </tbody>\n",
       "</table>\n",
       "</div>"
      ],
      "text/plain": [
       "   Civilité Ecole Echange  Filière opt. Mineur  No Sciper  \\\n",
       "0  Monsieur           NaN           NaN    NaN     166075   \n",
       "1  Monsieur           NaN           NaN    NaN     245182   \n",
       "2  Monsieur           NaN           NaN    NaN     194182   \n",
       "3  Monsieur           NaN           NaN    NaN     244650   \n",
       "4  Monsieur           NaN           NaN    NaN     245311   \n",
       "\n",
       "                     Nom Prénom  Orientation Bachelor  Orientation Master  \\\n",
       "0                Amiguet Jérôme                   NaN                 NaN   \n",
       "1  Anadon Laurent Marie Patrick                   NaN                 NaN   \n",
       "2               Antognini Marco                   NaN                 NaN   \n",
       "3  Ashton Jean Scott Elie Marie                   NaN                 NaN   \n",
       "4             Basil John Sachin                   NaN                 NaN   \n",
       "\n",
       "  Spécialisation   Statut Type Echange  year_1  year_2  year_3 120ECTS  \n",
       "0            NaN  Présent          NaN  2014.0     NaN     NaN      no  \n",
       "1            NaN  Présent          NaN  2014.0     NaN     NaN      no  \n",
       "2            NaN  Présent          NaN  2014.0     NaN     NaN     yes  \n",
       "3            NaN  Présent          NaN  2014.0     NaN     NaN      no  \n",
       "4            NaN  Présent          NaN  2014.0     NaN     NaN     yes  "
      ]
     },
     "execution_count": 29,
     "metadata": {},
     "output_type": "execute_result"
    }
   ],
   "source": [
    "# index of students who have minor\n",
    "index_mineur_yes = all_master_students['Mineur'].notnull()\n",
    "# index of students who have specialization\n",
    "index_specialization_yes = all_master_students['Spécialisation'].notnull()\n",
    "\n",
    "# keep sciper number of students with minor\n",
    "sciper_minor = all_master_students.loc[index_mineur_yes, 'No Sciper']\n",
    "sciper_minor = sciper_minor.to_frame()\n",
    "sciper_minor.drop_duplicates(subset = 'No Sciper', inplace = True)\n",
    "sciper_minor = sciper_minor['No Sciper'].values.tolist()\n",
    "\n",
    "# keep sciper number of students with specialization\n",
    "sciper_specialization = all_master_students.loc[index_specialization_yes, 'No Sciper']\n",
    "sciper_specialization = sciper_specialization.to_frame()\n",
    "sciper_specialization.drop_duplicates(subset = 'No Sciper', inplace = True)\n",
    "sciper_specialization = sciper_specialization['No Sciper'].values.tolist()\n",
    "\n",
    "# set '120ECTS' variable to 'yes' for those who have a minor/specialization\n",
    "all_master_students.set_value(all_master_students['No Sciper'].isin(sciper_minor), '120ECTS', 'yes')\n",
    "all_master_students.set_value(all_master_students['No Sciper'].isin(sciper_specialization), '120ECTS', 'yes')\n",
    "\n",
    "all_master_students.head()"
   ]
  },
  {
   "cell_type": "markdown",
   "metadata": {},
   "source": [
    "We set variables to fetch students from the \"Project Master\" tables of ISA"
   ]
  },
  {
   "cell_type": "code",
   "execution_count": 30,
   "metadata": {
    "collapsed": true
   },
   "outputs": [],
   "source": [
    "# informatique (value for URL parameter)\n",
    "unite_acad = '249847'\n",
    "# all years from 2007 till 2016 (values in the URL parameter)\n",
    "periode_acad = ['978181', '978187', '978195', '39486325', '123455150', '123456101', '213637754', '213637922', '213638028', '355925344']\n",
    "# all master semesters from 1st to 3rd (values in the URL parameter)\n",
    "periode_pedago = ['249127', '3781783']\n",
    "# filtered periode_pedago (we are only interested in semesters 1, 6, 6b)\n",
    "# all years from 2007 till 2016\n",
    "years = list(range(2007,2017))\n",
    "semesters = ['autumn','spring']"
   ]
  },
  {
   "cell_type": "markdown",
   "metadata": {},
   "source": [
    "We fetch all the students that did or are currently doing their master thesis from the Progect Master option of the ISA"
   ]
  },
  {
   "cell_type": "code",
   "execution_count": 31,
   "metadata": {
    "collapsed": false
   },
   "outputs": [],
   "source": [
    "for i in range(0, len(periode_acad)):\n",
    "    # we iterate through all the semesters we are interested in, namely autumn and spring semester (using the respective values for the URL parameter)\n",
    "    for j in range(0, len(periode_pedago)):\n",
    "        payload['ww_x_PERIODE_ACAD'] = periode_acad[i]\n",
    "        payload['ww_x_PERIODE_PEDAGO'] = periode_pedago[j]\n",
    "        # send request to fetch the page\n",
    "        page = requests.get(url, params = payload)\n",
    "        # keep only the text of the response, namely the html file and parse it\n",
    "        rows = my_parse(page.text)\n",
    "        # specify file name according to year and semester\n",
    "        file_name = 'Data/thesis/thesis_' + str(years[i]) + '_sem_' + semesters[j]\n",
    "        # save data to csv file (if file is empty then skip)\n",
    "        if rows:\n",
    "            tableToCSV(rows, file_name)"
   ]
  },
  {
   "cell_type": "markdown",
   "metadata": {},
   "source": [
    "We found the same sciper in more than one records for students who did their project thesis, therefore we drop duplicates"
   ]
  },
  {
   "cell_type": "code",
   "execution_count": 32,
   "metadata": {
    "collapsed": false
   },
   "outputs": [
    {
     "data": {
      "text/html": [
       "<div>\n",
       "<table border=\"1\" class=\"dataframe\">\n",
       "  <thead>\n",
       "    <tr style=\"text-align: right;\">\n",
       "      <th></th>\n",
       "      <th>No Sciper</th>\n",
       "    </tr>\n",
       "  </thead>\n",
       "  <tbody>\n",
       "    <tr>\n",
       "      <th>0</th>\n",
       "      <td>196669</td>\n",
       "    </tr>\n",
       "    <tr>\n",
       "      <th>1</th>\n",
       "      <td>200065</td>\n",
       "    </tr>\n",
       "    <tr>\n",
       "      <th>2</th>\n",
       "      <td>171619</td>\n",
       "    </tr>\n",
       "    <tr>\n",
       "      <th>3</th>\n",
       "      <td>200597</td>\n",
       "    </tr>\n",
       "    <tr>\n",
       "      <th>4</th>\n",
       "      <td>170239</td>\n",
       "    </tr>\n",
       "  </tbody>\n",
       "</table>\n",
       "</div>"
      ],
      "text/plain": [
       "   No Sciper\n",
       "0     196669\n",
       "1     200065\n",
       "2     171619\n",
       "3     200597\n",
       "4     170239"
      ]
     },
     "execution_count": 32,
     "metadata": {},
     "output_type": "execute_result"
    }
   ],
   "source": [
    "thesis_students = pd.DataFrame()\n",
    "list_students = []\n",
    "for semester in semesters:\n",
    "    students = getMasterStudents(semester, 'thesis')\n",
    "    list_students.append(students)\n",
    "thesis_students = pd.concat(list_students)\n",
    "thesis_students = thesis_students['No Sciper']\n",
    "thesis_students = thesis_students.to_frame()\n",
    "thesis_students.drop_duplicates(subset='No Sciper', inplace=True)\n",
    "thesis_students.head()"
   ]
  },
  {
   "cell_type": "code",
   "execution_count": 33,
   "metadata": {
    "collapsed": false
   },
   "outputs": [
    {
     "data": {
      "text/plain": [
       "(121, 1)"
      ]
     },
     "execution_count": 33,
     "metadata": {},
     "output_type": "execute_result"
    }
   ],
   "source": [
    "thesis_students.shape"
   ]
  },
  {
   "cell_type": "markdown",
   "metadata": {},
   "source": [
    "Graduates are students that did their complete master studies at EPFL (courses + thesis). Therefore, we join master students and students registered in the \"Project Master\" in order to end up with graduates"
   ]
  },
  {
   "cell_type": "code",
   "execution_count": 34,
   "metadata": {
    "collapsed": false
   },
   "outputs": [],
   "source": [
    "graduated = pd.merge(all_master_students, thesis_students, how='inner')"
   ]
  },
  {
   "cell_type": "markdown",
   "metadata": {},
   "source": [
    "We test if all the students registeredin the project list are also registered during the semester"
   ]
  },
  {
   "cell_type": "code",
   "execution_count": 35,
   "metadata": {
    "collapsed": false
   },
   "outputs": [
    {
     "data": {
      "text/html": [
       "<div>\n",
       "<table border=\"1\" class=\"dataframe\">\n",
       "  <thead>\n",
       "    <tr style=\"text-align: right;\">\n",
       "      <th></th>\n",
       "      <th>No Sciper</th>\n",
       "    </tr>\n",
       "  </thead>\n",
       "  <tbody>\n",
       "    <tr>\n",
       "      <th>0</th>\n",
       "      <td>173527</td>\n",
       "    </tr>\n",
       "  </tbody>\n",
       "</table>\n",
       "</div>"
      ],
      "text/plain": [
       "   No Sciper\n",
       "0     173527"
      ]
     },
     "execution_count": 35,
     "metadata": {},
     "output_type": "execute_result"
    }
   ],
   "source": [
    "# sciper number of students who graduated\n",
    "scip_num = graduated['No Sciper'].tolist()\n",
    "# sciper number of those who did their thesis and are also in the scip_num dataframe\n",
    "sciper_grad = thesis_students['No Sciper'].isin(scip_num)\n",
    "sciper_not_grad = ~sciper_grad\n",
    "# sciper number of student who did hir/her thesis but was not registered in the Master students\n",
    "thesis_students[sciper_not_grad].drop_duplicates()"
   ]
  },
  {
   "cell_type": "markdown",
   "metadata": {},
   "source": [
    "We found that there is such a student"
   ]
  },
  {
   "cell_type": "code",
   "execution_count": 36,
   "metadata": {
    "collapsed": false
   },
   "outputs": [],
   "source": [
    "# graduated['120ECTS'] = np.where((graduated['Mineur'].notnull() | graduated['Spécialisation'].notnull()), 'yes', 'no')\n",
    "# graduated[['No Sciper', 'Nom Prénom', 'Spécialisation', 'Mineur', '120ECTS']].head()"
   ]
  },
  {
   "cell_type": "markdown",
   "metadata": {},
   "source": [
    "We group students who graduated by specialization/minor and sciper number to calculate the average study duration"
   ]
  },
  {
   "cell_type": "code",
   "execution_count": 37,
   "metadata": {
    "collapsed": false
   },
   "outputs": [
    {
     "data": {
      "text/plain": [
       "(120, 2)"
      ]
     },
     "execution_count": 37,
     "metadata": {},
     "output_type": "execute_result"
    }
   ],
   "source": [
    "grouped = graduated.groupby(by = ['120ECTS', 'Civilité', 'No Sciper']).count().reset_index()\n",
    "grouped.set_index(['120ECTS', 'No Sciper'], inplace=True)\n",
    "grouped = grouped[['Civilité', 'Nom Prénom']]\n",
    "grouped.columns = ['Civilité', 'Count']\n",
    "grouped.shape"
   ]
  },
  {
   "cell_type": "markdown",
   "metadata": {},
   "source": [
    "The **grouped** dataframe contains all students that have graduated. Therefore, we should increase the 'count' column by one for the thesis semester"
   ]
  },
  {
   "cell_type": "code",
   "execution_count": 38,
   "metadata": {
    "collapsed": false,
    "scrolled": true
   },
   "outputs": [
    {
     "data": {
      "text/html": [
       "<div>\n",
       "<table border=\"1\" class=\"dataframe\">\n",
       "  <thead>\n",
       "    <tr style=\"text-align: right;\">\n",
       "      <th></th>\n",
       "      <th></th>\n",
       "      <th>Civilité</th>\n",
       "      <th>Count</th>\n",
       "    </tr>\n",
       "    <tr>\n",
       "      <th>120ECTS</th>\n",
       "      <th>No Sciper</th>\n",
       "      <th></th>\n",
       "      <th></th>\n",
       "    </tr>\n",
       "  </thead>\n",
       "  <tbody>\n",
       "    <tr>\n",
       "      <th rowspan=\"5\" valign=\"top\">no</th>\n",
       "      <th>180027</th>\n",
       "      <td>Madame</td>\n",
       "      <td>3</td>\n",
       "    </tr>\n",
       "    <tr>\n",
       "      <th>183512</th>\n",
       "      <td>Madame</td>\n",
       "      <td>3</td>\n",
       "    </tr>\n",
       "    <tr>\n",
       "      <th>183605</th>\n",
       "      <td>Madame</td>\n",
       "      <td>3</td>\n",
       "    </tr>\n",
       "    <tr>\n",
       "      <th>200065</th>\n",
       "      <td>Madame</td>\n",
       "      <td>3</td>\n",
       "    </tr>\n",
       "    <tr>\n",
       "      <th>225388</th>\n",
       "      <td>Madame</td>\n",
       "      <td>3</td>\n",
       "    </tr>\n",
       "  </tbody>\n",
       "</table>\n",
       "</div>"
      ],
      "text/plain": [
       "                  Civilité  Count\n",
       "120ECTS No Sciper                \n",
       "no      180027      Madame      3\n",
       "        183512      Madame      3\n",
       "        183605      Madame      3\n",
       "        200065      Madame      3\n",
       "        225388      Madame      3"
      ]
     },
     "execution_count": 38,
     "metadata": {},
     "output_type": "execute_result"
    }
   ],
   "source": [
    "grouped['Count'] = grouped['Count'] + 1\n",
    "grouped.head()"
   ]
  },
  {
   "cell_type": "markdown",
   "metadata": {},
   "source": [
    "We drop students that have a count <= 2 (2 semesters) because it is not possible to graduate after two semesters. We cannot treat the data otherwise because of missing data of the ISA"
   ]
  },
  {
   "cell_type": "code",
   "execution_count": 39,
   "metadata": {
    "collapsed": false
   },
   "outputs": [
    {
     "data": {
      "text/html": [
       "<div>\n",
       "<table border=\"1\" class=\"dataframe\">\n",
       "  <thead>\n",
       "    <tr style=\"text-align: right;\">\n",
       "      <th></th>\n",
       "      <th></th>\n",
       "      <th>Civilité</th>\n",
       "      <th>Count</th>\n",
       "    </tr>\n",
       "    <tr>\n",
       "      <th>120ECTS</th>\n",
       "      <th>No Sciper</th>\n",
       "      <th></th>\n",
       "      <th></th>\n",
       "    </tr>\n",
       "  </thead>\n",
       "  <tbody>\n",
       "    <tr>\n",
       "      <th rowspan=\"5\" valign=\"top\">no</th>\n",
       "      <th>180027</th>\n",
       "      <td>Madame</td>\n",
       "      <td>3</td>\n",
       "    </tr>\n",
       "    <tr>\n",
       "      <th>183512</th>\n",
       "      <td>Madame</td>\n",
       "      <td>3</td>\n",
       "    </tr>\n",
       "    <tr>\n",
       "      <th>183605</th>\n",
       "      <td>Madame</td>\n",
       "      <td>3</td>\n",
       "    </tr>\n",
       "    <tr>\n",
       "      <th>200065</th>\n",
       "      <td>Madame</td>\n",
       "      <td>3</td>\n",
       "    </tr>\n",
       "    <tr>\n",
       "      <th>225388</th>\n",
       "      <td>Madame</td>\n",
       "      <td>3</td>\n",
       "    </tr>\n",
       "  </tbody>\n",
       "</table>\n",
       "</div>"
      ],
      "text/plain": [
       "                  Civilité  Count\n",
       "120ECTS No Sciper                \n",
       "no      180027      Madame      3\n",
       "        183512      Madame      3\n",
       "        183605      Madame      3\n",
       "        200065      Madame      3\n",
       "        225388      Madame      3"
      ]
     },
     "execution_count": 39,
     "metadata": {},
     "output_type": "execute_result"
    }
   ],
   "source": [
    "grouped = grouped[grouped['Count'] > 2]\n",
    "grouped.head()"
   ]
  },
  {
   "cell_type": "code",
   "execution_count": 40,
   "metadata": {
    "collapsed": false
   },
   "outputs": [
    {
     "data": {
      "text/plain": [
       "(115, 2)"
      ]
     },
     "execution_count": 40,
     "metadata": {},
     "output_type": "execute_result"
    }
   ],
   "source": [
    "grouped.shape"
   ]
  },
  {
   "cell_type": "markdown",
   "metadata": {},
   "source": [
    "We calculate the average study duration of men and women who have or have not a specialization"
   ]
  },
  {
   "cell_type": "code",
   "execution_count": 41,
   "metadata": {
    "collapsed": false
   },
   "outputs": [
    {
     "data": {
      "text/plain": [
       "array([[<matplotlib.axes._subplots.AxesSubplot object at 0x7fc12fc729b0>,\n",
       "        <matplotlib.axes._subplots.AxesSubplot object at 0x7fc12fc65b70>],\n",
       "       [<matplotlib.axes._subplots.AxesSubplot object at 0x7fc12fb27a20>,\n",
       "        <matplotlib.axes._subplots.AxesSubplot object at 0x7fc1300b6dd8>]], dtype=object)"
      ]
     },
     "execution_count": 41,
     "metadata": {},
     "output_type": "execute_result"
    },
    {
     "data": {
      "image/png": "[encoded data removed]",
      "text/plain": [
       "<matplotlib.figure.Figure at 0x7fc12fc6cda0>"
      ]
     },
     "metadata": {},
     "output_type": "display_data"
    }
   ],
   "source": [
    "grouped.reset_index(inplace = True)\n",
    "grouped['Count'] = grouped['Count'] * 6\n",
    "grouped.hist(column='Count', by=['120ECTS', 'Civilité'])"
   ]
  },
  {
   "cell_type": "markdown",
   "metadata": {},
   "source": [
    "We want to test if the difference in the study duration of men and women without specialization is statistically significant. Therefore, we perform the following analysis"
   ]
  },
  {
   "cell_type": "code",
   "execution_count": 42,
   "metadata": {
    "collapsed": false
   },
   "outputs": [],
   "source": [
    "men_without_specialization = grouped[(grouped['120ECTS'] == 'no') & (grouped['Civilité'] == 'Monsieur')]\n",
    "women_without_specialization = grouped[(grouped['120ECTS'] == 'no') & (grouped['Civilité'] == 'Madame')]"
   ]
  },
  {
   "cell_type": "code",
   "execution_count": 43,
   "metadata": {
    "collapsed": false
   },
   "outputs": [
    {
     "name": "stdout",
     "output_type": "stream",
     "text": [
      "p-value =  0.7814\n"
     ]
    }
   ],
   "source": [
    "r = stats.ttest_ind(a=men_without_specialization['Count'], b=women_without_specialization['Count'], equal_var=False)\n",
    "print('p-value = ', np.round(r[1], 4))"
   ]
  },
  {
   "cell_type": "markdown",
   "metadata": {},
   "source": [
    "Since the p-value is greater than 0.05, we have strong evidence in favor of the null hypothesis. Therefore, the difference in the average study of men and women without specialization is **not** considered to be statistically significant"
   ]
  },
  {
   "cell_type": "markdown",
   "metadata": {},
   "source": [
    "We want to test if the difference in the study duration of men and women with specialization is statistically significant. Therefore, we perform the following analysis"
   ]
  },
  {
   "cell_type": "code",
   "execution_count": 44,
   "metadata": {
    "collapsed": true
   },
   "outputs": [],
   "source": [
    "men_with_specialization = grouped[(grouped['120ECTS'] == 'yes') & (grouped['Civilité'] == 'Monsieur')]\n",
    "women_with_specialization = grouped[(grouped['120ECTS'] == 'yes') & (grouped['Civilité'] == 'Madame')]"
   ]
  },
  {
   "cell_type": "code",
   "execution_count": 45,
   "metadata": {
    "collapsed": false
   },
   "outputs": [
    {
     "name": "stdout",
     "output_type": "stream",
     "text": [
      "p-value =  0.8909\n"
     ]
    }
   ],
   "source": [
    "r = stats.ttest_ind(a=men_with_specialization['Count'], b=women_with_specialization['Count'], equal_var=False)\n",
    "print('p-value = ', np.round(r[1], 4))"
   ]
  },
  {
   "cell_type": "markdown",
   "metadata": {},
   "source": [
    "Since the p-value is greater than 0.05, we have strong evidence in favor of the null hypothesis. Therefore, the difference in the average study of men and women without specialization is **not** considered to be statistically significant"
   ]
  },
  {
   "cell_type": "markdown",
   "metadata": {},
   "source": [
    "<span id='ref1'>Here we perform a **gender based analysis on Master students with and without specialization**</span> These results concern master students who have been registered in the Master Project table of the ISA."
   ]
  },
  {
   "cell_type": "code",
   "execution_count": 46,
   "metadata": {
    "collapsed": false,
    "scrolled": true
   },
   "outputs": [
    {
     "data": {
      "text/plain": [
       "120ECTS  Civilité\n",
       "no       Madame      22.800000\n",
       "         Monsieur    23.391304\n",
       "yes      Madame      30.000000\n",
       "         Monsieur    29.454545\n",
       "Name: Count, dtype: float64"
      ]
     },
     "execution_count": 46,
     "metadata": {},
     "output_type": "execute_result"
    }
   ],
   "source": [
    "grouped = grouped.groupby(by = ['120ECTS', 'Civilité'], as_index = True).mean()\n",
    "grouped.drop('No Sciper', axis = 1, inplace=True)\n",
    "grouped['Count'].head()"
   ]
  },
  {
   "cell_type": "markdown",
   "metadata": {},
   "source": [
    "Since the number of registered graduates in ISA is very small, we forget about the \"Project Master\" tables of the ISA and start making our own assumptions\n",
    "\n",
    "We find all student that have been registered for at least 2 semester. We find those who have chosen a specialization/minor and those who have not. For the first category, we assume a minimum study duration of 24 months and for the latter we assume a minimum study duration of 18 months. \n",
    "\n",
    "We get rid of active students (apart from students that are currently doing their thesis) who are not yet able to start their thesis in the next semester\n",
    "\n",
    "In order to make that more clear we give some examples:\n",
    "* a student who is registered in only one semester is considered as a new master student and is not included in our analysis\n",
    "* a student with a specialization/minor and a sum of 2 semesters needs at least 2 more semesters to finish the studies, so he/she is not included in our analysis\n",
    "* a student with no specialization/minor and a sum of 2 semesters is considered to finish in the next semester\n",
    "* a student with specialization/minor and a sum of 3 semesters is considered to finish in the next semester"
   ]
  },
  {
   "cell_type": "markdown",
   "metadata": {},
   "source": [
    "In order to do the aforementioned analysis, all students that did or are currently doing their thesis are removed from the **all_master_students** dataframe"
   ]
  },
  {
   "cell_type": "code",
   "execution_count": 47,
   "metadata": {
    "collapsed": false
   },
   "outputs": [
    {
     "data": {
      "text/plain": [
       "(2716, 15)"
      ]
     },
     "execution_count": 47,
     "metadata": {},
     "output_type": "execute_result"
    }
   ],
   "source": [
    "all_master_students.shape"
   ]
  },
  {
   "cell_type": "code",
   "execution_count": 48,
   "metadata": {
    "collapsed": false
   },
   "outputs": [
    {
     "data": {
      "text/plain": [
       "(2342, 15)"
      ]
     },
     "execution_count": 48,
     "metadata": {},
     "output_type": "execute_result"
    }
   ],
   "source": [
    "# here we remove all students that graduated / are currently doing their thesis \n",
    "students = all_master_students[~all_master_students['No Sciper'].isin(scip_num)]\n",
    "students.shape"
   ]
  },
  {
   "cell_type": "markdown",
   "metadata": {},
   "source": [
    "We count the study duration of each student and keep information about his/her sex and the program he/she chose (120 ECTS: 'yes' or 'no')"
   ]
  },
  {
   "cell_type": "code",
   "execution_count": 49,
   "metadata": {
    "collapsed": false
   },
   "outputs": [
    {
     "data": {
      "text/html": [
       "<div>\n",
       "<table border=\"1\" class=\"dataframe\">\n",
       "  <thead>\n",
       "    <tr style=\"text-align: right;\">\n",
       "      <th></th>\n",
       "      <th>120ECTS</th>\n",
       "      <th>Civilité</th>\n",
       "      <th>Count</th>\n",
       "    </tr>\n",
       "    <tr>\n",
       "      <th>No Sciper</th>\n",
       "      <th></th>\n",
       "      <th></th>\n",
       "      <th></th>\n",
       "    </tr>\n",
       "  </thead>\n",
       "  <tbody>\n",
       "    <tr>\n",
       "      <th>180027</th>\n",
       "      <td>no</td>\n",
       "      <td>Madame</td>\n",
       "      <td>2</td>\n",
       "    </tr>\n",
       "    <tr>\n",
       "      <th>183512</th>\n",
       "      <td>no</td>\n",
       "      <td>Madame</td>\n",
       "      <td>2</td>\n",
       "    </tr>\n",
       "    <tr>\n",
       "      <th>183605</th>\n",
       "      <td>no</td>\n",
       "      <td>Madame</td>\n",
       "      <td>2</td>\n",
       "    </tr>\n",
       "    <tr>\n",
       "      <th>200065</th>\n",
       "      <td>no</td>\n",
       "      <td>Madame</td>\n",
       "      <td>2</td>\n",
       "    </tr>\n",
       "    <tr>\n",
       "      <th>225388</th>\n",
       "      <td>no</td>\n",
       "      <td>Madame</td>\n",
       "      <td>2</td>\n",
       "    </tr>\n",
       "  </tbody>\n",
       "</table>\n",
       "</div>"
      ],
      "text/plain": [
       "          120ECTS Civilité  Count\n",
       "No Sciper                        \n",
       "180027         no   Madame      2\n",
       "183512         no   Madame      2\n",
       "183605         no   Madame      2\n",
       "200065         no   Madame      2\n",
       "225388         no   Madame      2"
      ]
     },
     "execution_count": 49,
     "metadata": {},
     "output_type": "execute_result"
    }
   ],
   "source": [
    "grouped = graduated.groupby(by = ['120ECTS', 'Civilité', 'No Sciper']).count().reset_index()\n",
    "grouped.set_index('No Sciper', inplace=True)\n",
    "grouped = grouped[['120ECTS','Civilité', 'Nom Prénom']]\n",
    "grouped.rename(columns={'Nom Prénom': 'Count'}, inplace=True)\n",
    "grouped.head()"
   ]
  },
  {
   "cell_type": "markdown",
   "metadata": {},
   "source": [
    "We remove students who are still studying. This means:\n",
    "* students that have no minor/specialization and are only registered in one semester\n",
    "* students that have a minor/specialization and are registered in only two semester"
   ]
  },
  {
   "cell_type": "code",
   "execution_count": 50,
   "metadata": {
    "collapsed": false
   },
   "outputs": [
    {
     "data": {
      "text/html": [
       "<div>\n",
       "<table border=\"1\" class=\"dataframe\">\n",
       "  <thead>\n",
       "    <tr style=\"text-align: right;\">\n",
       "      <th></th>\n",
       "      <th>120ECTS</th>\n",
       "      <th>Civilité</th>\n",
       "      <th>Count</th>\n",
       "    </tr>\n",
       "    <tr>\n",
       "      <th>No Sciper</th>\n",
       "      <th></th>\n",
       "      <th></th>\n",
       "      <th></th>\n",
       "    </tr>\n",
       "  </thead>\n",
       "  <tbody>\n",
       "    <tr>\n",
       "      <th>180027</th>\n",
       "      <td>no</td>\n",
       "      <td>Madame</td>\n",
       "      <td>2</td>\n",
       "    </tr>\n",
       "    <tr>\n",
       "      <th>183512</th>\n",
       "      <td>no</td>\n",
       "      <td>Madame</td>\n",
       "      <td>2</td>\n",
       "    </tr>\n",
       "    <tr>\n",
       "      <th>183605</th>\n",
       "      <td>no</td>\n",
       "      <td>Madame</td>\n",
       "      <td>2</td>\n",
       "    </tr>\n",
       "    <tr>\n",
       "      <th>200065</th>\n",
       "      <td>no</td>\n",
       "      <td>Madame</td>\n",
       "      <td>2</td>\n",
       "    </tr>\n",
       "    <tr>\n",
       "      <th>225388</th>\n",
       "      <td>no</td>\n",
       "      <td>Madame</td>\n",
       "      <td>2</td>\n",
       "    </tr>\n",
       "  </tbody>\n",
       "</table>\n",
       "</div>"
      ],
      "text/plain": [
       "          120ECTS Civilité  Count\n",
       "No Sciper                        \n",
       "180027         no   Madame      2\n",
       "183512         no   Madame      2\n",
       "183605         no   Madame      2\n",
       "200065         no   Madame      2\n",
       "225388         no   Madame      2"
      ]
     },
     "execution_count": 50,
     "metadata": {},
     "output_type": "execute_result"
    }
   ],
   "source": [
    "grouped = grouped[((grouped['120ECTS'] == 'no') & (grouped['Count'] > 1) | \n",
    "                 (grouped['120ECTS'] == 'yes') & (grouped['Count'] > 2))]\n",
    "grouped.head()"
   ]
  },
  {
   "cell_type": "markdown",
   "metadata": {},
   "source": [
    "We make the following assumptions for our analysis:\n",
    "\n",
    "* students who have no minor/specialization and are already for 2 semesters at EPFL are going to graduate in the next semester\n",
    "* students who have a minor/specialization and are already for 3 semesters at EPFL are going to graduate in the next semester\n",
    "\n",
    "We add one more semester to the study duration of all student that satisfy the aforementioned criteria\n",
    "\n",
    "Moreover, we assume that:\n",
    "\n",
    "* students who have not chosen any minor/specialization and are already registered for 3 semesters are considered as graduates\n",
    "* students who have chosen a minor/specialization and are already registered for 4 semesters are also considered as graduates\n",
    "\n",
    "Finally, we assume that:\n",
    "* students who do their internship at a company also did their master thesis there\n",
    "* students who did their thesis at EPFL, did a summer internship\n",
    "\n",
    "The two last assumptions mean that the expected study duration is 3 and 4 semesters for students without and with specialization respectively"
   ]
  },
  {
   "cell_type": "code",
   "execution_count": 51,
   "metadata": {
    "collapsed": false
   },
   "outputs": [
    {
     "data": {
      "text/html": [
       "<div>\n",
       "<table border=\"1\" class=\"dataframe\">\n",
       "  <thead>\n",
       "    <tr style=\"text-align: right;\">\n",
       "      <th></th>\n",
       "      <th>120ECTS</th>\n",
       "      <th>Civilité</th>\n",
       "      <th>Count</th>\n",
       "    </tr>\n",
       "    <tr>\n",
       "      <th>No Sciper</th>\n",
       "      <th></th>\n",
       "      <th></th>\n",
       "      <th></th>\n",
       "    </tr>\n",
       "  </thead>\n",
       "  <tbody>\n",
       "    <tr>\n",
       "      <th>180027</th>\n",
       "      <td>no</td>\n",
       "      <td>Madame</td>\n",
       "      <td>3</td>\n",
       "    </tr>\n",
       "    <tr>\n",
       "      <th>183512</th>\n",
       "      <td>no</td>\n",
       "      <td>Madame</td>\n",
       "      <td>3</td>\n",
       "    </tr>\n",
       "    <tr>\n",
       "      <th>183605</th>\n",
       "      <td>no</td>\n",
       "      <td>Madame</td>\n",
       "      <td>3</td>\n",
       "    </tr>\n",
       "    <tr>\n",
       "      <th>200065</th>\n",
       "      <td>no</td>\n",
       "      <td>Madame</td>\n",
       "      <td>3</td>\n",
       "    </tr>\n",
       "    <tr>\n",
       "      <th>225388</th>\n",
       "      <td>no</td>\n",
       "      <td>Madame</td>\n",
       "      <td>3</td>\n",
       "    </tr>\n",
       "  </tbody>\n",
       "</table>\n",
       "</div>"
      ],
      "text/plain": [
       "          120ECTS Civilité  Count\n",
       "No Sciper                        \n",
       "180027         no   Madame      3\n",
       "183512         no   Madame      3\n",
       "183605         no   Madame      3\n",
       "200065         no   Madame      3\n",
       "225388         no   Madame      3"
      ]
     },
     "execution_count": 51,
     "metadata": {},
     "output_type": "execute_result"
    }
   ],
   "source": [
    "grouped.set_value((grouped['120ECTS'] == 'no') & (grouped['Count'] == 2), 'Count', 3)\n",
    "grouped.head()"
   ]
  },
  {
   "cell_type": "code",
   "execution_count": 52,
   "metadata": {
    "collapsed": false
   },
   "outputs": [
    {
     "data": {
      "text/html": [
       "<div>\n",
       "<table border=\"1\" class=\"dataframe\">\n",
       "  <thead>\n",
       "    <tr style=\"text-align: right;\">\n",
       "      <th></th>\n",
       "      <th>120ECTS</th>\n",
       "      <th>Civilité</th>\n",
       "      <th>Count</th>\n",
       "    </tr>\n",
       "    <tr>\n",
       "      <th>No Sciper</th>\n",
       "      <th></th>\n",
       "      <th></th>\n",
       "      <th></th>\n",
       "    </tr>\n",
       "  </thead>\n",
       "  <tbody>\n",
       "    <tr>\n",
       "      <th>218353</th>\n",
       "      <td>yes</td>\n",
       "      <td>Monsieur</td>\n",
       "      <td>4</td>\n",
       "    </tr>\n",
       "    <tr>\n",
       "      <th>227848</th>\n",
       "      <td>yes</td>\n",
       "      <td>Monsieur</td>\n",
       "      <td>4</td>\n",
       "    </tr>\n",
       "    <tr>\n",
       "      <th>233543</th>\n",
       "      <td>yes</td>\n",
       "      <td>Monsieur</td>\n",
       "      <td>4</td>\n",
       "    </tr>\n",
       "    <tr>\n",
       "      <th>244136</th>\n",
       "      <td>yes</td>\n",
       "      <td>Monsieur</td>\n",
       "      <td>4</td>\n",
       "    </tr>\n",
       "    <tr>\n",
       "      <th>244587</th>\n",
       "      <td>yes</td>\n",
       "      <td>Monsieur</td>\n",
       "      <td>4</td>\n",
       "    </tr>\n",
       "  </tbody>\n",
       "</table>\n",
       "</div>"
      ],
      "text/plain": [
       "          120ECTS  Civilité  Count\n",
       "No Sciper                         \n",
       "218353        yes  Monsieur      4\n",
       "227848        yes  Monsieur      4\n",
       "233543        yes  Monsieur      4\n",
       "244136        yes  Monsieur      4\n",
       "244587        yes  Monsieur      4"
      ]
     },
     "execution_count": 52,
     "metadata": {},
     "output_type": "execute_result"
    }
   ],
   "source": [
    "grouped.set_value((grouped['120ECTS'] == 'yes') & (grouped['Count'] == 3), 'Count', 4)\n",
    "grouped.tail()"
   ]
  },
  {
   "cell_type": "markdown",
   "metadata": {},
   "source": [
    "We convert 'Count' from semesters to months"
   ]
  },
  {
   "cell_type": "code",
   "execution_count": 53,
   "metadata": {
    "collapsed": false
   },
   "outputs": [
    {
     "data": {
      "text/plain": [
       "array([<matplotlib.axes._subplots.AxesSubplot object at 0x7fc12d40ff98>,\n",
       "       <matplotlib.axes._subplots.AxesSubplot object at 0x7fc1301586a0>], dtype=object)"
      ]
     },
     "execution_count": 53,
     "metadata": {},
     "output_type": "execute_result"
    },
    {
     "data": {
      "image/png": "[encoded data removed]",
      "text/plain": [
       "<matplotlib.figure.Figure at 0x7fc12fd67240>"
      ]
     },
     "metadata": {},
     "output_type": "display_data"
    }
   ],
   "source": [
    "grouped['Count'] = grouped['Count'] * 6\n",
    "grouped.hist(column='Count', by='Civilité')"
   ]
  },
  {
   "cell_type": "markdown",
   "metadata": {},
   "source": [
    "We test if the difference in the study duration between men and women without specialization is statistically significant. Therefore, we follow the methodology presented in the first part of the exercise"
   ]
  },
  {
   "cell_type": "code",
   "execution_count": 54,
   "metadata": {
    "collapsed": false
   },
   "outputs": [],
   "source": [
    "men_without_specialization = grouped[(grouped['120ECTS'] == 'no') & (grouped['Civilité'] == 'Monsieur')]\n",
    "women_without_specialization = grouped[(grouped['120ECTS'] == 'no') & (grouped['Civilité'] == 'Madame')]"
   ]
  },
  {
   "cell_type": "code",
   "execution_count": 55,
   "metadata": {
    "collapsed": false
   },
   "outputs": [
    {
     "name": "stdout",
     "output_type": "stream",
     "text": [
      "p-value =  0.6614\n"
     ]
    }
   ],
   "source": [
    "r = stats.ttest_ind(a=men_without_specialization['Count'], b=women_without_specialization['Count'], equal_var=False)\n",
    "print('p-value = ', np.round(r[1], 4))"
   ]
  },
  {
   "cell_type": "markdown",
   "metadata": {},
   "source": [
    "Since the p-value is greater than 0.05, we have strong evidence in favor of the null hypothesis. Therefore, the difference in the average study of men and women without specialization is **not** considered to be statistically significant"
   ]
  },
  {
   "cell_type": "markdown",
   "metadata": {},
   "source": [
    "We repeat the same process for men and women with specialization"
   ]
  },
  {
   "cell_type": "code",
   "execution_count": 56,
   "metadata": {
    "collapsed": true
   },
   "outputs": [],
   "source": [
    "men_with_specialization = grouped[(grouped['120ECTS'] == 'yes') & (grouped['Civilité'] == 'Monsieur')]\n",
    "women_with_specialization = grouped[(grouped['120ECTS'] == 'yes') & (grouped['Civilité'] == 'Madame')]"
   ]
  },
  {
   "cell_type": "code",
   "execution_count": 57,
   "metadata": {
    "collapsed": false
   },
   "outputs": [
    {
     "name": "stdout",
     "output_type": "stream",
     "text": [
      "p-value =  0.6389\n"
     ]
    }
   ],
   "source": [
    "r = stats.ttest_ind(a=men_with_specialization['Count'], b=women_with_specialization['Count'])\n",
    "print('p-value = ', np.round(r[1], 4))"
   ]
  },
  {
   "cell_type": "markdown",
   "metadata": {},
   "source": [
    "The p-value is again greater than 0.05. Therefore, we have strong evidence in favor of the null hypothesis and believe that the difference in the average study of men and women with specialization is **not** considered to be statistically significant"
   ]
  },
  {
   "cell_type": "markdown",
   "metadata": {},
   "source": [
    "<span id='ref2'>Here we perform again a **gender based analysis on Master students with and without specialization**</span> These results concern master students who have **not** been registered in the Master Project table of the ISA."
   ]
  },
  {
   "cell_type": "code",
   "execution_count": 58,
   "metadata": {
    "collapsed": false
   },
   "outputs": [
    {
     "data": {
      "text/html": [
       "<div>\n",
       "<table border=\"1\" class=\"dataframe\">\n",
       "  <thead>\n",
       "    <tr style=\"text-align: right;\">\n",
       "      <th></th>\n",
       "      <th></th>\n",
       "      <th>Count</th>\n",
       "    </tr>\n",
       "    <tr>\n",
       "      <th>120ECTS</th>\n",
       "      <th>Civilité</th>\n",
       "      <th></th>\n",
       "    </tr>\n",
       "  </thead>\n",
       "  <tbody>\n",
       "    <tr>\n",
       "      <th rowspan=\"2\" valign=\"top\">no</th>\n",
       "      <th>Madame</th>\n",
       "      <td>20.400000</td>\n",
       "    </tr>\n",
       "    <tr>\n",
       "      <th>Monsieur</th>\n",
       "      <td>19.913043</td>\n",
       "    </tr>\n",
       "    <tr>\n",
       "      <th rowspan=\"2\" valign=\"top\">yes</th>\n",
       "      <th>Madame</th>\n",
       "      <td>26.000000</td>\n",
       "    </tr>\n",
       "    <tr>\n",
       "      <th>Monsieur</th>\n",
       "      <td>25.090909</td>\n",
       "    </tr>\n",
       "  </tbody>\n",
       "</table>\n",
       "</div>"
      ],
      "text/plain": [
       "                      Count\n",
       "120ECTS Civilité           \n",
       "no      Madame    20.400000\n",
       "        Monsieur  19.913043\n",
       "yes     Madame    26.000000\n",
       "        Monsieur  25.090909"
      ]
     },
     "execution_count": 58,
     "metadata": {},
     "output_type": "execute_result"
    }
   ],
   "source": [
    "grouped.reset_index(inplace = True)\n",
    "result = grouped.groupby(by = ['120ECTS', 'Civilité'], as_index = True).mean()\n",
    "result.drop('No Sciper', axis = 1, inplace=True)\n",
    "result"
   ]
  },
  {
   "cell_type": "markdown",
   "metadata": {},
   "source": [
    "However, we know that this result is biased as we made the assumption of adding one semester to students who are about to finish their studies in the next semester. Moreover, we made the assumption that the expected study duration is 3 / 4 semesters for students without / with specialization respectively. However, this is not always the case since some students choose to take less than 30 ECTS per semester, may fail in a course, work, etc. All these reasons extend the study duration beyond the minimum expected. However, we are not able to capture such events from the ISA records. Therefore, we stick to the assumption described before but clarify that our results are biased."
   ]
  },
  {
   "cell_type": "markdown",
   "metadata": {},
   "source": [
    "Now, we extract all the students with a Spécialisation and compute the average stay per each category of that attribute"
   ]
  },
  {
   "cell_type": "code",
   "execution_count": 59,
   "metadata": {
    "collapsed": false
   },
   "outputs": [
    {
     "data": {
      "text/html": [
       "<div>\n",
       "<table border=\"1\" class=\"dataframe\">\n",
       "  <thead>\n",
       "    <tr style=\"text-align: right;\">\n",
       "      <th></th>\n",
       "      <th>Civilité</th>\n",
       "      <th>Ecole Echange</th>\n",
       "      <th>Filière opt.</th>\n",
       "      <th>Mineur</th>\n",
       "      <th>No Sciper</th>\n",
       "      <th>Nom Prénom</th>\n",
       "      <th>Orientation Bachelor</th>\n",
       "      <th>Orientation Master</th>\n",
       "      <th>Spécialisation</th>\n",
       "      <th>Statut</th>\n",
       "      <th>Type Echange</th>\n",
       "      <th>year_1</th>\n",
       "      <th>year_2</th>\n",
       "      <th>year_3</th>\n",
       "      <th>120ECTS</th>\n",
       "    </tr>\n",
       "  </thead>\n",
       "  <tbody>\n",
       "    <tr>\n",
       "      <th>2</th>\n",
       "      <td>Monsieur</td>\n",
       "      <td>NaN</td>\n",
       "      <td>NaN</td>\n",
       "      <td>NaN</td>\n",
       "      <td>194182</td>\n",
       "      <td>Antognini Marco</td>\n",
       "      <td>NaN</td>\n",
       "      <td>NaN</td>\n",
       "      <td>NaN</td>\n",
       "      <td>Présent</td>\n",
       "      <td>NaN</td>\n",
       "      <td>2014.0</td>\n",
       "      <td>NaN</td>\n",
       "      <td>NaN</td>\n",
       "      <td>yes</td>\n",
       "    </tr>\n",
       "    <tr>\n",
       "      <th>4</th>\n",
       "      <td>Monsieur</td>\n",
       "      <td>NaN</td>\n",
       "      <td>NaN</td>\n",
       "      <td>NaN</td>\n",
       "      <td>245311</td>\n",
       "      <td>Basil John Sachin</td>\n",
       "      <td>NaN</td>\n",
       "      <td>NaN</td>\n",
       "      <td>NaN</td>\n",
       "      <td>Présent</td>\n",
       "      <td>NaN</td>\n",
       "      <td>2014.0</td>\n",
       "      <td>NaN</td>\n",
       "      <td>NaN</td>\n",
       "      <td>yes</td>\n",
       "    </tr>\n",
       "  </tbody>\n",
       "</table>\n",
       "</div>"
      ],
      "text/plain": [
       "   Civilité Ecole Echange  Filière opt. Mineur  No Sciper         Nom Prénom  \\\n",
       "2  Monsieur           NaN           NaN    NaN     194182    Antognini Marco   \n",
       "4  Monsieur           NaN           NaN    NaN     245311  Basil John Sachin   \n",
       "\n",
       "   Orientation Bachelor  Orientation Master Spécialisation   Statut  \\\n",
       "2                   NaN                 NaN            NaN  Présent   \n",
       "4                   NaN                 NaN            NaN  Présent   \n",
       "\n",
       "  Type Echange  year_1  year_2  year_3 120ECTS  \n",
       "2          NaN  2014.0     NaN     NaN     yes  \n",
       "4          NaN  2014.0     NaN     NaN     yes  "
      ]
     },
     "execution_count": 59,
     "metadata": {},
     "output_type": "execute_result"
    }
   ],
   "source": [
    "students_specialization = all_master_students[all_master_students['No Sciper'].isin(sciper_specialization)]\n",
    "students_specialization.head(2)"
   ]
  },
  {
   "cell_type": "markdown",
   "metadata": {},
   "source": [
    "We discover the following problem: some students with specialization appear to have NaN values in the respective field for early semesters"
   ]
  },
  {
   "cell_type": "code",
   "execution_count": 60,
   "metadata": {
    "collapsed": false
   },
   "outputs": [
    {
     "data": {
      "text/html": [
       "<div>\n",
       "<table border=\"1\" class=\"dataframe\">\n",
       "  <thead>\n",
       "    <tr style=\"text-align: right;\">\n",
       "      <th></th>\n",
       "      <th>Civilité</th>\n",
       "      <th>Ecole Echange</th>\n",
       "      <th>Filière opt.</th>\n",
       "      <th>Mineur</th>\n",
       "      <th>No Sciper</th>\n",
       "      <th>Nom Prénom</th>\n",
       "      <th>Orientation Bachelor</th>\n",
       "      <th>Orientation Master</th>\n",
       "      <th>Spécialisation</th>\n",
       "      <th>Statut</th>\n",
       "      <th>Type Echange</th>\n",
       "      <th>year_1</th>\n",
       "      <th>year_2</th>\n",
       "      <th>year_3</th>\n",
       "      <th>120ECTS</th>\n",
       "    </tr>\n",
       "  </thead>\n",
       "  <tbody>\n",
       "    <tr>\n",
       "      <th>2</th>\n",
       "      <td>Monsieur</td>\n",
       "      <td>NaN</td>\n",
       "      <td>NaN</td>\n",
       "      <td>NaN</td>\n",
       "      <td>194182</td>\n",
       "      <td>Antognini Marco</td>\n",
       "      <td>NaN</td>\n",
       "      <td>NaN</td>\n",
       "      <td>NaN</td>\n",
       "      <td>Présent</td>\n",
       "      <td>NaN</td>\n",
       "      <td>2014.0</td>\n",
       "      <td>NaN</td>\n",
       "      <td>NaN</td>\n",
       "      <td>yes</td>\n",
       "    </tr>\n",
       "    <tr>\n",
       "      <th>4</th>\n",
       "      <td>Monsieur</td>\n",
       "      <td>NaN</td>\n",
       "      <td>NaN</td>\n",
       "      <td>NaN</td>\n",
       "      <td>194182</td>\n",
       "      <td>Antognini Marco</td>\n",
       "      <td>NaN</td>\n",
       "      <td>NaN</td>\n",
       "      <td>NaN</td>\n",
       "      <td>Congé</td>\n",
       "      <td>NaN</td>\n",
       "      <td>2013.0</td>\n",
       "      <td>NaN</td>\n",
       "      <td>NaN</td>\n",
       "      <td>yes</td>\n",
       "    </tr>\n",
       "    <tr>\n",
       "      <th>2</th>\n",
       "      <td>Monsieur</td>\n",
       "      <td>NaN</td>\n",
       "      <td>NaN</td>\n",
       "      <td>NaN</td>\n",
       "      <td>194182</td>\n",
       "      <td>Antognini Marco</td>\n",
       "      <td>NaN</td>\n",
       "      <td>NaN</td>\n",
       "      <td>Foundations of Software</td>\n",
       "      <td>Présent</td>\n",
       "      <td>NaN</td>\n",
       "      <td>NaN</td>\n",
       "      <td>2014.0</td>\n",
       "      <td>NaN</td>\n",
       "      <td>yes</td>\n",
       "    </tr>\n",
       "    <tr>\n",
       "      <th>7</th>\n",
       "      <td>Monsieur</td>\n",
       "      <td>NaN</td>\n",
       "      <td>NaN</td>\n",
       "      <td>NaN</td>\n",
       "      <td>194182</td>\n",
       "      <td>Antognini Marco</td>\n",
       "      <td>NaN</td>\n",
       "      <td>NaN</td>\n",
       "      <td>Foundations of Software</td>\n",
       "      <td>Présent</td>\n",
       "      <td>NaN</td>\n",
       "      <td>NaN</td>\n",
       "      <td>2015.0</td>\n",
       "      <td>NaN</td>\n",
       "      <td>yes</td>\n",
       "    </tr>\n",
       "    <tr>\n",
       "      <th>4</th>\n",
       "      <td>Monsieur</td>\n",
       "      <td>NaN</td>\n",
       "      <td>NaN</td>\n",
       "      <td>NaN</td>\n",
       "      <td>194182</td>\n",
       "      <td>Antognini Marco</td>\n",
       "      <td>NaN</td>\n",
       "      <td>NaN</td>\n",
       "      <td>NaN</td>\n",
       "      <td>Congé</td>\n",
       "      <td>NaN</td>\n",
       "      <td>NaN</td>\n",
       "      <td>2013.0</td>\n",
       "      <td>NaN</td>\n",
       "      <td>yes</td>\n",
       "    </tr>\n",
       "    <tr>\n",
       "      <th>0</th>\n",
       "      <td>Monsieur</td>\n",
       "      <td>NaN</td>\n",
       "      <td>NaN</td>\n",
       "      <td>NaN</td>\n",
       "      <td>194182</td>\n",
       "      <td>Antognini Marco</td>\n",
       "      <td>NaN</td>\n",
       "      <td>NaN</td>\n",
       "      <td>Foundations of Software</td>\n",
       "      <td>Présent</td>\n",
       "      <td>NaN</td>\n",
       "      <td>NaN</td>\n",
       "      <td>NaN</td>\n",
       "      <td>2015.0</td>\n",
       "      <td>yes</td>\n",
       "    </tr>\n",
       "  </tbody>\n",
       "</table>\n",
       "</div>"
      ],
      "text/plain": [
       "   Civilité Ecole Echange  Filière opt. Mineur  No Sciper       Nom Prénom  \\\n",
       "2  Monsieur           NaN           NaN    NaN     194182  Antognini Marco   \n",
       "4  Monsieur           NaN           NaN    NaN     194182  Antognini Marco   \n",
       "2  Monsieur           NaN           NaN    NaN     194182  Antognini Marco   \n",
       "7  Monsieur           NaN           NaN    NaN     194182  Antognini Marco   \n",
       "4  Monsieur           NaN           NaN    NaN     194182  Antognini Marco   \n",
       "0  Monsieur           NaN           NaN    NaN     194182  Antognini Marco   \n",
       "\n",
       "   Orientation Bachelor  Orientation Master           Spécialisation   Statut  \\\n",
       "2                   NaN                 NaN                      NaN  Présent   \n",
       "4                   NaN                 NaN                      NaN    Congé   \n",
       "2                   NaN                 NaN  Foundations of Software  Présent   \n",
       "7                   NaN                 NaN  Foundations of Software  Présent   \n",
       "4                   NaN                 NaN                      NaN    Congé   \n",
       "0                   NaN                 NaN  Foundations of Software  Présent   \n",
       "\n",
       "  Type Echange  year_1  year_2  year_3 120ECTS  \n",
       "2          NaN  2014.0     NaN     NaN     yes  \n",
       "4          NaN  2013.0     NaN     NaN     yes  \n",
       "2          NaN     NaN  2014.0     NaN     yes  \n",
       "7          NaN     NaN  2015.0     NaN     yes  \n",
       "4          NaN     NaN  2013.0     NaN     yes  \n",
       "0          NaN     NaN     NaN  2015.0     yes  "
      ]
     },
     "execution_count": 60,
     "metadata": {},
     "output_type": "execute_result"
    }
   ],
   "source": [
    "students_specialization[students_specialization['No Sciper'] == 194182]"
   ]
  },
  {
   "cell_type": "markdown",
   "metadata": {},
   "source": [
    "In order to perfom the groupby() operation per specialization, we have to get rid of these NaN values by replacing them with the actual specialization title"
   ]
  },
  {
   "cell_type": "code",
   "execution_count": 61,
   "metadata": {
    "collapsed": false
   },
   "outputs": [],
   "source": [
    "grouped_by_sciper = students_specialization.groupby('No Sciper')\n",
    "titles = grouped_by_sciper['Spécialisation'].transform('first')"
   ]
  },
  {
   "cell_type": "code",
   "execution_count": 62,
   "metadata": {
    "collapsed": false
   },
   "outputs": [
    {
     "data": {
      "text/plain": [
       "False"
      ]
     },
     "execution_count": 62,
     "metadata": {},
     "output_type": "execute_result"
    }
   ],
   "source": [
    "# check if the titles we created contain any NaN\n",
    "titles.isnull().values.any()"
   ]
  },
  {
   "cell_type": "code",
   "execution_count": 63,
   "metadata": {
    "collapsed": false
   },
   "outputs": [
    {
     "data": {
      "text/plain": [
       "2            Foundations of Software\n",
       "4                   Software Systems\n",
       "5                 Internet computing\n",
       "6     Signals, Images and Interfaces\n",
       "10                Internet computing\n",
       "dtype: object"
      ]
     },
     "execution_count": 63,
     "metadata": {},
     "output_type": "execute_result"
    }
   ],
   "source": [
    "titles.head()"
   ]
  },
  {
   "cell_type": "code",
   "execution_count": 64,
   "metadata": {
    "collapsed": false
   },
   "outputs": [
    {
     "data": {
      "text/html": [
       "<div>\n",
       "<table border=\"1\" class=\"dataframe\">\n",
       "  <thead>\n",
       "    <tr style=\"text-align: right;\">\n",
       "      <th></th>\n",
       "      <th>Civilité</th>\n",
       "      <th>Ecole Echange</th>\n",
       "      <th>Filière opt.</th>\n",
       "      <th>Mineur</th>\n",
       "      <th>No Sciper</th>\n",
       "      <th>Nom Prénom</th>\n",
       "      <th>Orientation Bachelor</th>\n",
       "      <th>Orientation Master</th>\n",
       "      <th>Spécialisation</th>\n",
       "      <th>Statut</th>\n",
       "      <th>Type Echange</th>\n",
       "      <th>year_1</th>\n",
       "      <th>year_2</th>\n",
       "      <th>year_3</th>\n",
       "      <th>120ECTS</th>\n",
       "    </tr>\n",
       "  </thead>\n",
       "  <tbody>\n",
       "    <tr>\n",
       "      <th>2</th>\n",
       "      <td>Monsieur</td>\n",
       "      <td>NaN</td>\n",
       "      <td>NaN</td>\n",
       "      <td>NaN</td>\n",
       "      <td>194182</td>\n",
       "      <td>Antognini Marco</td>\n",
       "      <td>NaN</td>\n",
       "      <td>NaN</td>\n",
       "      <td>Foundations of Software</td>\n",
       "      <td>Présent</td>\n",
       "      <td>NaN</td>\n",
       "      <td>2014.0</td>\n",
       "      <td>NaN</td>\n",
       "      <td>NaN</td>\n",
       "      <td>yes</td>\n",
       "    </tr>\n",
       "    <tr>\n",
       "      <th>4</th>\n",
       "      <td>Monsieur</td>\n",
       "      <td>NaN</td>\n",
       "      <td>NaN</td>\n",
       "      <td>NaN</td>\n",
       "      <td>245311</td>\n",
       "      <td>Basil John Sachin</td>\n",
       "      <td>NaN</td>\n",
       "      <td>NaN</td>\n",
       "      <td>Software Systems</td>\n",
       "      <td>Présent</td>\n",
       "      <td>NaN</td>\n",
       "      <td>2014.0</td>\n",
       "      <td>NaN</td>\n",
       "      <td>NaN</td>\n",
       "      <td>yes</td>\n",
       "    </tr>\n",
       "    <tr>\n",
       "      <th>5</th>\n",
       "      <td>Monsieur</td>\n",
       "      <td>NaN</td>\n",
       "      <td>NaN</td>\n",
       "      <td>NaN</td>\n",
       "      <td>185991</td>\n",
       "      <td>Benhamadi Yassine</td>\n",
       "      <td>NaN</td>\n",
       "      <td>NaN</td>\n",
       "      <td>Internet computing</td>\n",
       "      <td>Présent</td>\n",
       "      <td>NaN</td>\n",
       "      <td>2014.0</td>\n",
       "      <td>NaN</td>\n",
       "      <td>NaN</td>\n",
       "      <td>yes</td>\n",
       "    </tr>\n",
       "    <tr>\n",
       "      <th>6</th>\n",
       "      <td>Monsieur</td>\n",
       "      <td>NaN</td>\n",
       "      <td>NaN</td>\n",
       "      <td>NaN</td>\n",
       "      <td>204393</td>\n",
       "      <td>Berdat Johan</td>\n",
       "      <td>NaN</td>\n",
       "      <td>NaN</td>\n",
       "      <td>Signals, Images and Interfaces</td>\n",
       "      <td>Présent</td>\n",
       "      <td>NaN</td>\n",
       "      <td>2014.0</td>\n",
       "      <td>NaN</td>\n",
       "      <td>NaN</td>\n",
       "      <td>yes</td>\n",
       "    </tr>\n",
       "    <tr>\n",
       "      <th>10</th>\n",
       "      <td>Monsieur</td>\n",
       "      <td>NaN</td>\n",
       "      <td>NaN</td>\n",
       "      <td>NaN</td>\n",
       "      <td>214637</td>\n",
       "      <td>Bovet Sidney</td>\n",
       "      <td>NaN</td>\n",
       "      <td>NaN</td>\n",
       "      <td>Internet computing</td>\n",
       "      <td>Présent</td>\n",
       "      <td>NaN</td>\n",
       "      <td>2014.0</td>\n",
       "      <td>NaN</td>\n",
       "      <td>NaN</td>\n",
       "      <td>yes</td>\n",
       "    </tr>\n",
       "  </tbody>\n",
       "</table>\n",
       "</div>"
      ],
      "text/plain": [
       "    Civilité Ecole Echange  Filière opt. Mineur  No Sciper         Nom Prénom  \\\n",
       "2   Monsieur           NaN           NaN    NaN     194182    Antognini Marco   \n",
       "4   Monsieur           NaN           NaN    NaN     245311  Basil John Sachin   \n",
       "5   Monsieur           NaN           NaN    NaN     185991  Benhamadi Yassine   \n",
       "6   Monsieur           NaN           NaN    NaN     204393       Berdat Johan   \n",
       "10  Monsieur           NaN           NaN    NaN     214637       Bovet Sidney   \n",
       "\n",
       "    Orientation Bachelor  Orientation Master                  Spécialisation  \\\n",
       "2                    NaN                 NaN         Foundations of Software   \n",
       "4                    NaN                 NaN                Software Systems   \n",
       "5                    NaN                 NaN              Internet computing   \n",
       "6                    NaN                 NaN  Signals, Images and Interfaces   \n",
       "10                   NaN                 NaN              Internet computing   \n",
       "\n",
       "     Statut Type Echange  year_1  year_2  year_3 120ECTS  \n",
       "2   Présent          NaN  2014.0     NaN     NaN     yes  \n",
       "4   Présent          NaN  2014.0     NaN     NaN     yes  \n",
       "5   Présent          NaN  2014.0     NaN     NaN     yes  \n",
       "6   Présent          NaN  2014.0     NaN     NaN     yes  \n",
       "10  Présent          NaN  2014.0     NaN     NaN     yes  "
      ]
     },
     "execution_count": 64,
     "metadata": {},
     "output_type": "execute_result"
    }
   ],
   "source": [
    "# set specialization to titles\n",
    "students_specialization['Spécialisation'] = titles\n",
    "students_specialization.head()"
   ]
  },
  {
   "cell_type": "code",
   "execution_count": 65,
   "metadata": {
    "collapsed": false
   },
   "outputs": [
    {
     "data": {
      "text/html": [
       "<div>\n",
       "<table border=\"1\" class=\"dataframe\">\n",
       "  <thead>\n",
       "    <tr style=\"text-align: right;\">\n",
       "      <th></th>\n",
       "      <th>Civilité</th>\n",
       "      <th>Ecole Echange</th>\n",
       "      <th>Filière opt.</th>\n",
       "      <th>Mineur</th>\n",
       "      <th>No Sciper</th>\n",
       "      <th>Nom Prénom</th>\n",
       "      <th>Orientation Bachelor</th>\n",
       "      <th>Orientation Master</th>\n",
       "      <th>Spécialisation</th>\n",
       "      <th>Statut</th>\n",
       "      <th>Type Echange</th>\n",
       "      <th>year_1</th>\n",
       "      <th>year_2</th>\n",
       "      <th>year_3</th>\n",
       "      <th>120ECTS</th>\n",
       "    </tr>\n",
       "  </thead>\n",
       "  <tbody>\n",
       "    <tr>\n",
       "      <th>5</th>\n",
       "      <td>Monsieur</td>\n",
       "      <td>NaN</td>\n",
       "      <td>NaN</td>\n",
       "      <td>NaN</td>\n",
       "      <td>185991</td>\n",
       "      <td>Benhamadi Yassine</td>\n",
       "      <td>NaN</td>\n",
       "      <td>NaN</td>\n",
       "      <td>Internet computing</td>\n",
       "      <td>Présent</td>\n",
       "      <td>NaN</td>\n",
       "      <td>2014.0</td>\n",
       "      <td>NaN</td>\n",
       "      <td>NaN</td>\n",
       "      <td>yes</td>\n",
       "    </tr>\n",
       "    <tr>\n",
       "      <th>11</th>\n",
       "      <td>Monsieur</td>\n",
       "      <td>NaN</td>\n",
       "      <td>NaN</td>\n",
       "      <td>NaN</td>\n",
       "      <td>185991</td>\n",
       "      <td>Benhamadi Yassine</td>\n",
       "      <td>NaN</td>\n",
       "      <td>NaN</td>\n",
       "      <td>Internet computing</td>\n",
       "      <td>Présent</td>\n",
       "      <td>NaN</td>\n",
       "      <td>NaN</td>\n",
       "      <td>2014.0</td>\n",
       "      <td>NaN</td>\n",
       "      <td>yes</td>\n",
       "    </tr>\n",
       "    <tr>\n",
       "      <th>11</th>\n",
       "      <td>Monsieur</td>\n",
       "      <td>NaN</td>\n",
       "      <td>NaN</td>\n",
       "      <td>NaN</td>\n",
       "      <td>185991</td>\n",
       "      <td>Benhamadi Yassine</td>\n",
       "      <td>NaN</td>\n",
       "      <td>NaN</td>\n",
       "      <td>Internet computing</td>\n",
       "      <td>Présent</td>\n",
       "      <td>NaN</td>\n",
       "      <td>NaN</td>\n",
       "      <td>2015.0</td>\n",
       "      <td>NaN</td>\n",
       "      <td>yes</td>\n",
       "    </tr>\n",
       "    <tr>\n",
       "      <th>8</th>\n",
       "      <td>Monsieur</td>\n",
       "      <td>NaN</td>\n",
       "      <td>NaN</td>\n",
       "      <td>NaN</td>\n",
       "      <td>185991</td>\n",
       "      <td>Benhamadi Yassine</td>\n",
       "      <td>NaN</td>\n",
       "      <td>NaN</td>\n",
       "      <td>Internet computing</td>\n",
       "      <td>Présent</td>\n",
       "      <td>NaN</td>\n",
       "      <td>NaN</td>\n",
       "      <td>NaN</td>\n",
       "      <td>2016.0</td>\n",
       "      <td>yes</td>\n",
       "    </tr>\n",
       "    <tr>\n",
       "      <th>4</th>\n",
       "      <td>Monsieur</td>\n",
       "      <td>NaN</td>\n",
       "      <td>NaN</td>\n",
       "      <td>NaN</td>\n",
       "      <td>185991</td>\n",
       "      <td>Benhamadi Yassine</td>\n",
       "      <td>NaN</td>\n",
       "      <td>NaN</td>\n",
       "      <td>Internet computing</td>\n",
       "      <td>Présent</td>\n",
       "      <td>NaN</td>\n",
       "      <td>NaN</td>\n",
       "      <td>NaN</td>\n",
       "      <td>2015.0</td>\n",
       "      <td>yes</td>\n",
       "    </tr>\n",
       "  </tbody>\n",
       "</table>\n",
       "</div>"
      ],
      "text/plain": [
       "    Civilité Ecole Echange  Filière opt. Mineur  No Sciper         Nom Prénom  \\\n",
       "5   Monsieur           NaN           NaN    NaN     185991  Benhamadi Yassine   \n",
       "11  Monsieur           NaN           NaN    NaN     185991  Benhamadi Yassine   \n",
       "11  Monsieur           NaN           NaN    NaN     185991  Benhamadi Yassine   \n",
       "8   Monsieur           NaN           NaN    NaN     185991  Benhamadi Yassine   \n",
       "4   Monsieur           NaN           NaN    NaN     185991  Benhamadi Yassine   \n",
       "\n",
       "    Orientation Bachelor  Orientation Master      Spécialisation   Statut  \\\n",
       "5                    NaN                 NaN  Internet computing  Présent   \n",
       "11                   NaN                 NaN  Internet computing  Présent   \n",
       "11                   NaN                 NaN  Internet computing  Présent   \n",
       "8                    NaN                 NaN  Internet computing  Présent   \n",
       "4                    NaN                 NaN  Internet computing  Présent   \n",
       "\n",
       "   Type Echange  year_1  year_2  year_3 120ECTS  \n",
       "5           NaN  2014.0     NaN     NaN     yes  \n",
       "11          NaN     NaN  2014.0     NaN     yes  \n",
       "11          NaN     NaN  2015.0     NaN     yes  \n",
       "8           NaN     NaN     NaN  2016.0     yes  \n",
       "4           NaN     NaN     NaN  2015.0     yes  "
      ]
     },
     "execution_count": 65,
     "metadata": {},
     "output_type": "execute_result"
    }
   ],
   "source": [
    "students_specialization[students_specialization['No Sciper'] == 185991]"
   ]
  },
  {
   "cell_type": "markdown",
   "metadata": {},
   "source": [
    "We group by specialization and sciper number to find the study duration of each student"
   ]
  },
  {
   "cell_type": "code",
   "execution_count": 66,
   "metadata": {
    "collapsed": false
   },
   "outputs": [
    {
     "data": {
      "text/html": [
       "<div>\n",
       "<table border=\"1\" class=\"dataframe\">\n",
       "  <thead>\n",
       "    <tr style=\"text-align: right;\">\n",
       "      <th></th>\n",
       "      <th></th>\n",
       "      <th>Count</th>\n",
       "    </tr>\n",
       "    <tr>\n",
       "      <th>Spécialisation</th>\n",
       "      <th>No Sciper</th>\n",
       "      <th></th>\n",
       "    </tr>\n",
       "  </thead>\n",
       "  <tbody>\n",
       "    <tr>\n",
       "      <th rowspan=\"5\" valign=\"top\">Biocomputing</th>\n",
       "      <th>153640</th>\n",
       "      <td>1</td>\n",
       "    </tr>\n",
       "    <tr>\n",
       "      <th>154573</th>\n",
       "      <td>5</td>\n",
       "    </tr>\n",
       "    <tr>\n",
       "      <th>154936</th>\n",
       "      <td>1</td>\n",
       "    </tr>\n",
       "    <tr>\n",
       "      <th>154969</th>\n",
       "      <td>1</td>\n",
       "    </tr>\n",
       "    <tr>\n",
       "      <th>160150</th>\n",
       "      <td>1</td>\n",
       "    </tr>\n",
       "  </tbody>\n",
       "</table>\n",
       "</div>"
      ],
      "text/plain": [
       "                          Count\n",
       "Spécialisation No Sciper       \n",
       "Biocomputing   153640         1\n",
       "               154573         5\n",
       "               154936         1\n",
       "               154969         1\n",
       "               160150         1"
      ]
     },
     "execution_count": 66,
     "metadata": {},
     "output_type": "execute_result"
    }
   ],
   "source": [
    "# group by specialization and sciper number\n",
    "grouped_specialization = students_specialization.groupby(by=['Spécialisation', 'No Sciper']).count()\n",
    "grouped_specialization = grouped_specialization[['120ECTS']]\n",
    "grouped_specialization.columns = ['Count']\n",
    "grouped_specialization.head()"
   ]
  },
  {
   "cell_type": "markdown",
   "metadata": {},
   "source": [
    "We keep only students with a study duration of more than 3 semesters"
   ]
  },
  {
   "cell_type": "code",
   "execution_count": 67,
   "metadata": {
    "collapsed": true
   },
   "outputs": [],
   "source": [
    "grouped_specialization = grouped_specialization[grouped_specialization['Count'] > 2]"
   ]
  },
  {
   "cell_type": "markdown",
   "metadata": {},
   "source": [
    "We assume that students with a study duration of 3 semesters are going to graduate in the next semester, therefore we set 3 to 4"
   ]
  },
  {
   "cell_type": "code",
   "execution_count": 68,
   "metadata": {
    "collapsed": true
   },
   "outputs": [],
   "source": [
    "grouped_specialization.loc[grouped_specialization['Count'] == 3, 'Count'] = 4"
   ]
  },
  {
   "cell_type": "markdown",
   "metadata": {},
   "source": [
    "We group by specialization and compute the average study duration for each specialization in months"
   ]
  },
  {
   "cell_type": "code",
   "execution_count": 69,
   "metadata": {
    "collapsed": false
   },
   "outputs": [
    {
     "data": {
      "text/html": [
       "<div>\n",
       "<table border=\"1\" class=\"dataframe\">\n",
       "  <thead>\n",
       "    <tr style=\"text-align: right;\">\n",
       "      <th></th>\n",
       "      <th>Count</th>\n",
       "    </tr>\n",
       "    <tr>\n",
       "      <th>Spécialisation</th>\n",
       "      <th></th>\n",
       "    </tr>\n",
       "  </thead>\n",
       "  <tbody>\n",
       "    <tr>\n",
       "      <th>Biocomputing</th>\n",
       "      <td>27.000000</td>\n",
       "    </tr>\n",
       "    <tr>\n",
       "      <th>Computer Engineering - SP</th>\n",
       "      <td>24.900000</td>\n",
       "    </tr>\n",
       "    <tr>\n",
       "      <th>Computer Science Theory</th>\n",
       "      <td>24.000000</td>\n",
       "    </tr>\n",
       "    <tr>\n",
       "      <th>Data Analytics</th>\n",
       "      <td>24.000000</td>\n",
       "    </tr>\n",
       "    <tr>\n",
       "      <th>Foundations of Software</th>\n",
       "      <td>25.800000</td>\n",
       "    </tr>\n",
       "    <tr>\n",
       "      <th>Information Security - SP</th>\n",
       "      <td>24.000000</td>\n",
       "    </tr>\n",
       "    <tr>\n",
       "      <th>Internet Information Systems</th>\n",
       "      <td>24.000000</td>\n",
       "    </tr>\n",
       "    <tr>\n",
       "      <th>Internet computing</th>\n",
       "      <td>25.695652</td>\n",
       "    </tr>\n",
       "    <tr>\n",
       "      <th>Service science</th>\n",
       "      <td>24.000000</td>\n",
       "    </tr>\n",
       "    <tr>\n",
       "      <th>Signals, Images and Interfaces</th>\n",
       "      <td>27.000000</td>\n",
       "    </tr>\n",
       "    <tr>\n",
       "      <th>Software Systems</th>\n",
       "      <td>24.000000</td>\n",
       "    </tr>\n",
       "  </tbody>\n",
       "</table>\n",
       "</div>"
      ],
      "text/plain": [
       "                                    Count\n",
       "Spécialisation                           \n",
       "Biocomputing                    27.000000\n",
       "Computer Engineering - SP       24.900000\n",
       "Computer Science Theory         24.000000\n",
       "Data Analytics                  24.000000\n",
       "Foundations of Software         25.800000\n",
       "Information Security - SP       24.000000\n",
       "Internet Information Systems    24.000000\n",
       "Internet computing              25.695652\n",
       "Service science                 24.000000\n",
       "Signals, Images and Interfaces  27.000000\n",
       "Software Systems                24.000000"
      ]
     },
     "execution_count": 69,
     "metadata": {},
     "output_type": "execute_result"
    }
   ],
   "source": [
    "grouped_specialization.reset_index(inplace=True)\n",
    "grouped_specialization.drop('No Sciper', axis=1, inplace=True)\n",
    "grouped_specialization.columns = ['Spécialisation', 'Count']\n",
    "grouped_specialization.groupby(by='Spécialisation').mean() * 6"
   ]
  },
  {
   "cell_type": "markdown",
   "metadata": {},
   "source": [
    "Here, we calculate the average study duration off all those that have chosen a specialization"
   ]
  },
  {
   "cell_type": "code",
   "execution_count": 70,
   "metadata": {
    "collapsed": false
   },
   "outputs": [
    {
     "data": {
      "text/plain": [
       "25.6"
      ]
     },
     "execution_count": 70,
     "metadata": {},
     "output_type": "execute_result"
    }
   ],
   "source": [
    "specialization_mean = grouped_specialization['Count'].mean() * 6\n",
    "specialization_mean"
   ]
  },
  {
   "cell_type": "code",
   "execution_count": 71,
   "metadata": {
    "collapsed": false
   },
   "outputs": [],
   "source": [
    "specializations = titles.unique()"
   ]
  },
  {
   "cell_type": "markdown",
   "metadata": {},
   "source": [
    "We find how many students are registered per specialization"
   ]
  },
  {
   "cell_type": "code",
   "execution_count": 72,
   "metadata": {
    "collapsed": false
   },
   "outputs": [
    {
     "data": {
      "text/html": [
       "<div>\n",
       "<table border=\"1\" class=\"dataframe\">\n",
       "  <thead>\n",
       "    <tr style=\"text-align: right;\">\n",
       "      <th></th>\n",
       "      <th>Count</th>\n",
       "    </tr>\n",
       "    <tr>\n",
       "      <th>Spécialisation</th>\n",
       "      <th></th>\n",
       "    </tr>\n",
       "  </thead>\n",
       "  <tbody>\n",
       "    <tr>\n",
       "      <th>Biocomputing</th>\n",
       "      <td>4</td>\n",
       "    </tr>\n",
       "    <tr>\n",
       "      <th>Computer Engineering - SP</th>\n",
       "      <td>20</td>\n",
       "    </tr>\n",
       "    <tr>\n",
       "      <th>Computer Science Theory</th>\n",
       "      <td>1</td>\n",
       "    </tr>\n",
       "    <tr>\n",
       "      <th>Data Analytics</th>\n",
       "      <td>4</td>\n",
       "    </tr>\n",
       "    <tr>\n",
       "      <th>Foundations of Software</th>\n",
       "      <td>60</td>\n",
       "    </tr>\n",
       "    <tr>\n",
       "      <th>Information Security - SP</th>\n",
       "      <td>7</td>\n",
       "    </tr>\n",
       "    <tr>\n",
       "      <th>Internet Information Systems</th>\n",
       "      <td>1</td>\n",
       "    </tr>\n",
       "    <tr>\n",
       "      <th>Internet computing</th>\n",
       "      <td>92</td>\n",
       "    </tr>\n",
       "    <tr>\n",
       "      <th>Service science</th>\n",
       "      <td>4</td>\n",
       "    </tr>\n",
       "    <tr>\n",
       "      <th>Signals, Images and Interfaces</th>\n",
       "      <td>30</td>\n",
       "    </tr>\n",
       "    <tr>\n",
       "      <th>Software Systems</th>\n",
       "      <td>17</td>\n",
       "    </tr>\n",
       "  </tbody>\n",
       "</table>\n",
       "</div>"
      ],
      "text/plain": [
       "                                Count\n",
       "Spécialisation                       \n",
       "Biocomputing                        4\n",
       "Computer Engineering - SP          20\n",
       "Computer Science Theory             1\n",
       "Data Analytics                      4\n",
       "Foundations of Software            60\n",
       "Information Security - SP           7\n",
       "Internet Information Systems        1\n",
       "Internet computing                 92\n",
       "Service science                     4\n",
       "Signals, Images and Interfaces     30\n",
       "Software Systems                   17"
      ]
     },
     "execution_count": 72,
     "metadata": {},
     "output_type": "execute_result"
    }
   ],
   "source": [
    "grouped_specialization.groupby('Spécialisation').count()"
   ]
  },
  {
   "cell_type": "markdown",
   "metadata": {},
   "source": [
    "We remove those specializations that have less than 10 records to get accurate results. Specializations with few records are new"
   ]
  },
  {
   "cell_type": "markdown",
   "metadata": {},
   "source": [
    "Here, we will use the **one-sample t-test** to check whether the mean of a specific specialization differs from the mean of all specializations"
   ]
  },
  {
   "cell_type": "code",
   "execution_count": 73,
   "metadata": {
    "collapsed": false,
    "scrolled": true
   },
   "outputs": [
    {
     "name": "stdout",
     "output_type": "stream",
     "text": [
      "Foundations of Software : p-value =  0.6473\n",
      "Software Systems : p-value =  0.0\n",
      "Internet computing : p-value =  0.7991\n",
      "Signals, Images and Interfaces : p-value =  0.1107\n",
      "Computer Engineering - SP : p-value =  0.1706\n"
     ]
    }
   ],
   "source": [
    "for spec in specializations:\n",
    "    df = grouped_specialization[grouped_specialization['Spécialisation'] == spec]\n",
    "    if df.shape[0] > 10:\n",
    "        r = stats.ttest_1samp(a=df['Count'] * 6, popmean=specialization_mean)\n",
    "        print(spec, ': p-value = ', np.round(r[1], 4))"
   ]
  },
  {
   "cell_type": "markdown",
   "metadata": {},
   "source": [
    "Here, the null hypothtesis is that the average duration of each specialization is close to the general average of study duration with specialization. We have strong evidence against the null hypothesis for those specializations that have a p values smaller than 0.05 "
   ]
  },
  {
   "cell_type": "markdown",
   "metadata": {},
   "source": [
    "## Bonus: Data Visualization"
   ]
  },
  {
   "cell_type": "markdown",
   "metadata": {},
   "source": [
    "We use scatterplots to visually identify changes over time. First, we focus on the **bachelor students**"
   ]
  },
  {
   "cell_type": "markdown",
   "metadata": {},
   "source": [
    "The Bachelor students who were registered in both Semester 1 and 6 are in the **merged** dataframe"
   ]
  },
  {
   "cell_type": "code",
   "execution_count": 74,
   "metadata": {
    "collapsed": false
   },
   "outputs": [
    {
     "data": {
      "text/html": [
       "<div>\n",
       "<table border=\"1\" class=\"dataframe\">\n",
       "  <thead>\n",
       "    <tr style=\"text-align: right;\">\n",
       "      <th></th>\n",
       "      <th>Civilité</th>\n",
       "      <th>Nom Prénom</th>\n",
       "      <th>No Sciper</th>\n",
       "      <th>year_1</th>\n",
       "      <th>year_6</th>\n",
       "      <th>months</th>\n",
       "    </tr>\n",
       "  </thead>\n",
       "  <tbody>\n",
       "    <tr>\n",
       "      <th>226</th>\n",
       "      <td>Monsieur</td>\n",
       "      <td>Schädeli Andreas</td>\n",
       "      <td>178948</td>\n",
       "      <td>2007</td>\n",
       "      <td>2009</td>\n",
       "      <td>36</td>\n",
       "    </tr>\n",
       "    <tr>\n",
       "      <th>225</th>\n",
       "      <td>Monsieur</td>\n",
       "      <td>Richter Arnaud</td>\n",
       "      <td>171195</td>\n",
       "      <td>2007</td>\n",
       "      <td>2009</td>\n",
       "      <td>36</td>\n",
       "    </tr>\n",
       "    <tr>\n",
       "      <th>224</th>\n",
       "      <td>Monsieur</td>\n",
       "      <td>Restani Stéphane</td>\n",
       "      <td>180959</td>\n",
       "      <td>2007</td>\n",
       "      <td>2009</td>\n",
       "      <td>36</td>\n",
       "    </tr>\n",
       "    <tr>\n",
       "      <th>177</th>\n",
       "      <td>Monsieur</td>\n",
       "      <td>Arévalo Christian</td>\n",
       "      <td>169569</td>\n",
       "      <td>2007</td>\n",
       "      <td>2009</td>\n",
       "      <td>36</td>\n",
       "    </tr>\n",
       "    <tr>\n",
       "      <th>203</th>\n",
       "      <td>Monsieur</td>\n",
       "      <td>Habfast Paul</td>\n",
       "      <td>180570</td>\n",
       "      <td>2007</td>\n",
       "      <td>2009</td>\n",
       "      <td>36</td>\n",
       "    </tr>\n",
       "  </tbody>\n",
       "</table>\n",
       "</div>"
      ],
      "text/plain": [
       "     Civilité         Nom Prénom  No Sciper  year_1  year_6  months\n",
       "226  Monsieur   Schädeli Andreas     178948    2007    2009      36\n",
       "225  Monsieur     Richter Arnaud     171195    2007    2009      36\n",
       "224  Monsieur   Restani Stéphane     180959    2007    2009      36\n",
       "177  Monsieur  Arévalo Christian     169569    2007    2009      36\n",
       "203  Monsieur       Habfast Paul     180570    2007    2009      36"
      ]
     },
     "execution_count": 74,
     "metadata": {},
     "output_type": "execute_result"
    }
   ],
   "source": [
    "merged.head()"
   ]
  },
  {
   "cell_type": "code",
   "execution_count": 75,
   "metadata": {
    "collapsed": false,
    "scrolled": true
   },
   "outputs": [
    {
     "data": {
      "text/html": [
       "<div>\n",
       "<table border=\"1\" class=\"dataframe\">\n",
       "  <thead>\n",
       "    <tr style=\"text-align: right;\">\n",
       "      <th></th>\n",
       "      <th>Civilité</th>\n",
       "      <th>year_1</th>\n",
       "      <th>months</th>\n",
       "      <th>count</th>\n",
       "    </tr>\n",
       "  </thead>\n",
       "  <tbody>\n",
       "    <tr>\n",
       "      <th>0</th>\n",
       "      <td>Madame</td>\n",
       "      <td>2007</td>\n",
       "      <td>36</td>\n",
       "      <td>2</td>\n",
       "    </tr>\n",
       "    <tr>\n",
       "      <th>1</th>\n",
       "      <td>Madame</td>\n",
       "      <td>2008</td>\n",
       "      <td>36</td>\n",
       "      <td>4</td>\n",
       "    </tr>\n",
       "    <tr>\n",
       "      <th>2</th>\n",
       "      <td>Madame</td>\n",
       "      <td>2008</td>\n",
       "      <td>48</td>\n",
       "      <td>1</td>\n",
       "    </tr>\n",
       "    <tr>\n",
       "      <th>3</th>\n",
       "      <td>Madame</td>\n",
       "      <td>2009</td>\n",
       "      <td>36</td>\n",
       "      <td>1</td>\n",
       "    </tr>\n",
       "    <tr>\n",
       "      <th>4</th>\n",
       "      <td>Madame</td>\n",
       "      <td>2009</td>\n",
       "      <td>48</td>\n",
       "      <td>1</td>\n",
       "    </tr>\n",
       "  </tbody>\n",
       "</table>\n",
       "</div>"
      ],
      "text/plain": [
       "  Civilité  year_1  months  count\n",
       "0   Madame    2007      36      2\n",
       "1   Madame    2008      36      4\n",
       "2   Madame    2008      48      1\n",
       "3   Madame    2009      36      1\n",
       "4   Madame    2009      48      1"
      ]
     },
     "execution_count": 75,
     "metadata": {},
     "output_type": "execute_result"
    }
   ],
   "source": [
    "groups = merged.groupby(by=['Civilité','year_1', 'months']).count()\n",
    "groups.reset_index(inplace=True)\n",
    "groups.rename(columns={'year_6': 'count'}, inplace=True)\n",
    "groups = groups[['Civilité','year_1','months', 'count']]\n",
    "groups.head()"
   ]
  },
  {
   "cell_type": "code",
   "execution_count": 76,
   "metadata": {
    "collapsed": false
   },
   "outputs": [
    {
     "data": {
      "text/plain": [
       "<matplotlib.text.Text at 0x7fc12fc28f28>"
      ]
     },
     "execution_count": 76,
     "metadata": {},
     "output_type": "execute_result"
    },
    {
     "data": {
      "image/png": "[encoded data removed]",
      "text/plain": [
       "<matplotlib.figure.Figure at 0x7fc13000f400>"
      ]
     },
     "metadata": {},
     "output_type": "display_data"
    }
   ],
   "source": [
    "men = groups[groups['Civilité'] == 'Monsieur']\n",
    "fig, ax = plt.subplots()\n",
    "f = men.plot(kind='scatter', x='year_1', y='months', c='count', s=100, figsize=(10, 6), ax=ax);\n",
    "lables = f.get_xticks()\n",
    "years = pd.Series([int(item) for item in lables])\n",
    "ax.set_xticklabels(years)\n",
    "ax.set_xlabel('Entry year')\n",
    "ax.set_title('Entry year-months-count plot for male bachelor students')"
   ]
  },
  {
   "cell_type": "markdown",
   "metadata": {},
   "source": [
    "This figure shows the study duration for the bachelor male students registered both in Semester 1 and 6. The color intensity indicates the number of students. For example, the penultimate bullet in the first row indicates that more than 48 students manage to finish their  bachelor studies in 36 months in 2013\n",
    "\n",
    "The figure shows that starting from 2010, the number of male students that need more than 36 months to finish their studies decreases\n",
    "\n",
    "We see that starting from 2013, all students finish their bachelor studies after 36 months"
   ]
  },
  {
   "cell_type": "markdown",
   "metadata": {},
   "source": [
    "Now, we perform the same analysis for female students"
   ]
  },
  {
   "cell_type": "code",
   "execution_count": 77,
   "metadata": {
    "collapsed": false
   },
   "outputs": [
    {
     "data": {
      "text/plain": [
       "<matplotlib.text.Text at 0x7fc12d3f0390>"
      ]
     },
     "execution_count": 77,
     "metadata": {},
     "output_type": "execute_result"
    },
    {
     "data": {
      "image/png": "[encoded data removed]",
      "text/plain": [
       "<matplotlib.figure.Figure at 0x7fc12ffcb128>"
      ]
     },
     "metadata": {},
     "output_type": "display_data"
    }
   ],
   "source": [
    "women = groups[groups['Civilité'] == 'Madame']\n",
    "fig, ax = plt.subplots()\n",
    "f = women.plot(kind='scatter', x='year_1', y='months', c='count', s=100, figsize=(10, 6), ax=ax);\n",
    "labels = f.get_xticks()\n",
    "years = pd.Series([int(item) for item in labels])\n",
    "ax.set_xticklabels(years)\n",
    "ax.set_xlabel('Entry year')\n",
    "ax.set_title('Entry year-months-count plot for female bachelor students')"
   ]
  },
  {
   "cell_type": "markdown",
   "metadata": {},
   "source": [
    "This figure shows the study duration for the bachelor female students registered both in Semester 1 and 6\n",
    "\n",
    "The first thing that is noticable is that female students need either 36 or 48 months to finish their studies\n",
    "\n",
    "2012 is the only year in which the majority of the female students needed 48 months to finish their studies\n",
    "\n",
    "In all the other year, the majority of the female students finished after 36 months (there appears to be a tie in 2009)\n",
    "\n",
    "Finally, we see that there in no trend to indicate that all female students tend to finish their studies in 36 months. We see that in each year, there exist female students to finish in 36 and 48 months"
   ]
  },
  {
   "cell_type": "markdown",
   "metadata": {},
   "source": [
    "In order for our **master student analysis** to be more compact:\n",
    "<p>**The gender based study for Master students who have also a record in the Project Master table of ISA has already been performed in this ** <a href='#ref1'> **part** </a> **of the report**</p>\n",
    "<p>**The gender based study for Master students who have not a record in the Project Master table of ISA has already been performed in this ** <a href='#ref2'> **part** </a> **of the report**</p>"
   ]
  },
  {
   "cell_type": "markdown",
   "metadata": {},
   "source": [
    "We visualize the data only for all master students that have no record in the Project table of the ISA. We reminde that these results are obtained using the assumption described in Question 2. The **grouped** relation contains all master studenths. The 'Count' attribute contains the duration of the master studies of each student in months"
   ]
  },
  {
   "cell_type": "code",
   "execution_count": 78,
   "metadata": {
    "collapsed": false
   },
   "outputs": [
    {
     "data": {
      "text/html": [
       "<div>\n",
       "<table border=\"1\" class=\"dataframe\">\n",
       "  <thead>\n",
       "    <tr style=\"text-align: right;\">\n",
       "      <th></th>\n",
       "      <th>No Sciper</th>\n",
       "      <th>120ECTS</th>\n",
       "      <th>Civilité</th>\n",
       "      <th>Count</th>\n",
       "    </tr>\n",
       "  </thead>\n",
       "  <tbody>\n",
       "    <tr>\n",
       "      <th>0</th>\n",
       "      <td>180027</td>\n",
       "      <td>no</td>\n",
       "      <td>Madame</td>\n",
       "      <td>18</td>\n",
       "    </tr>\n",
       "    <tr>\n",
       "      <th>1</th>\n",
       "      <td>183512</td>\n",
       "      <td>no</td>\n",
       "      <td>Madame</td>\n",
       "      <td>18</td>\n",
       "    </tr>\n",
       "    <tr>\n",
       "      <th>2</th>\n",
       "      <td>183605</td>\n",
       "      <td>no</td>\n",
       "      <td>Madame</td>\n",
       "      <td>18</td>\n",
       "    </tr>\n",
       "    <tr>\n",
       "      <th>3</th>\n",
       "      <td>200065</td>\n",
       "      <td>no</td>\n",
       "      <td>Madame</td>\n",
       "      <td>18</td>\n",
       "    </tr>\n",
       "    <tr>\n",
       "      <th>4</th>\n",
       "      <td>225388</td>\n",
       "      <td>no</td>\n",
       "      <td>Madame</td>\n",
       "      <td>18</td>\n",
       "    </tr>\n",
       "  </tbody>\n",
       "</table>\n",
       "</div>"
      ],
      "text/plain": [
       "   No Sciper 120ECTS Civilité  Count\n",
       "0     180027      no   Madame     18\n",
       "1     183512      no   Madame     18\n",
       "2     183605      no   Madame     18\n",
       "3     200065      no   Madame     18\n",
       "4     225388      no   Madame     18"
      ]
     },
     "execution_count": 78,
     "metadata": {},
     "output_type": "execute_result"
    }
   ],
   "source": [
    "grouped.head()"
   ]
  },
  {
   "cell_type": "code",
   "execution_count": 79,
   "metadata": {
    "collapsed": false
   },
   "outputs": [
    {
     "data": {
      "text/plain": [
       "(115, 4)"
      ]
     },
     "execution_count": 79,
     "metadata": {},
     "output_type": "execute_result"
    }
   ],
   "source": [
    "grouped.shape"
   ]
  },
  {
   "cell_type": "code",
   "execution_count": 80,
   "metadata": {
    "collapsed": false
   },
   "outputs": [],
   "source": [
    "# grouped['No Sciper'].is_unique"
   ]
  },
  {
   "cell_type": "code",
   "execution_count": 81,
   "metadata": {
    "collapsed": false
   },
   "outputs": [],
   "source": [
    "sciper_and_entry_year = all_master_students[['No Sciper', 'year_1']]\n",
    "sciper_and_entry_year.drop_duplicates(subset='No Sciper', inplace=True)\n",
    "sciper_and_entry_year.dropna(subset=['year_1'], inplace=True)\n",
    "# sciper_and_entry_year['No Sciper'].is_unique"
   ]
  },
  {
   "cell_type": "code",
   "execution_count": 82,
   "metadata": {
    "collapsed": false
   },
   "outputs": [
    {
     "data": {
      "text/plain": [
       "(114, 5)"
      ]
     },
     "execution_count": 82,
     "metadata": {},
     "output_type": "execute_result"
    }
   ],
   "source": [
    "master_students = grouped.merge(sciper_and_entry_year, how='inner', on='No Sciper')\n",
    "master_students.shape"
   ]
  },
  {
   "cell_type": "markdown",
   "metadata": {},
   "source": [
    "We notice that there is one missing enty between the **master_students** and the **grouped** dataframes. This entry belongs to the student with sciper number 175190. This student started his master studies in the spring semester of 2010. Our analysis concernes only students that started their studies in the fall semester"
   ]
  },
  {
   "cell_type": "code",
   "execution_count": 83,
   "metadata": {
    "collapsed": false
   },
   "outputs": [
    {
     "data": {
      "text/html": [
       "<div>\n",
       "<table border=\"1\" class=\"dataframe\">\n",
       "  <thead>\n",
       "    <tr style=\"text-align: right;\">\n",
       "      <th></th>\n",
       "      <th>No Sciper</th>\n",
       "      <th>120ECTS</th>\n",
       "      <th>Civilité</th>\n",
       "      <th>Count</th>\n",
       "    </tr>\n",
       "  </thead>\n",
       "  <tbody>\n",
       "    <tr>\n",
       "      <th>28</th>\n",
       "      <td>175190</td>\n",
       "      <td>no</td>\n",
       "      <td>Monsieur</td>\n",
       "      <td>18</td>\n",
       "    </tr>\n",
       "  </tbody>\n",
       "</table>\n",
       "</div>"
      ],
      "text/plain": [
       "    No Sciper 120ECTS  Civilité  Count\n",
       "28     175190      no  Monsieur     18"
      ]
     },
     "execution_count": 83,
     "metadata": {},
     "output_type": "execute_result"
    }
   ],
   "source": [
    "grouped[~grouped['No Sciper'].isin(sciper_and_entry_year['No Sciper'])]"
   ]
  },
  {
   "cell_type": "markdown",
   "metadata": {},
   "source": [
    "The **master_students** dataframe contains all master students with their respective study duration (in months) and their entry year"
   ]
  },
  {
   "cell_type": "code",
   "execution_count": 84,
   "metadata": {
    "collapsed": false
   },
   "outputs": [
    {
     "data": {
      "text/html": [
       "<div>\n",
       "<table border=\"1\" class=\"dataframe\">\n",
       "  <thead>\n",
       "    <tr style=\"text-align: right;\">\n",
       "      <th></th>\n",
       "      <th>No Sciper</th>\n",
       "      <th>120ECTS</th>\n",
       "      <th>Civilité</th>\n",
       "      <th>Count</th>\n",
       "      <th>year_1</th>\n",
       "    </tr>\n",
       "  </thead>\n",
       "  <tbody>\n",
       "    <tr>\n",
       "      <th>0</th>\n",
       "      <td>180027</td>\n",
       "      <td>no</td>\n",
       "      <td>Madame</td>\n",
       "      <td>18</td>\n",
       "      <td>2007.0</td>\n",
       "    </tr>\n",
       "    <tr>\n",
       "      <th>1</th>\n",
       "      <td>183512</td>\n",
       "      <td>no</td>\n",
       "      <td>Madame</td>\n",
       "      <td>18</td>\n",
       "      <td>2008.0</td>\n",
       "    </tr>\n",
       "    <tr>\n",
       "      <th>2</th>\n",
       "      <td>183605</td>\n",
       "      <td>no</td>\n",
       "      <td>Madame</td>\n",
       "      <td>18</td>\n",
       "      <td>2008.0</td>\n",
       "    </tr>\n",
       "    <tr>\n",
       "      <th>3</th>\n",
       "      <td>200065</td>\n",
       "      <td>no</td>\n",
       "      <td>Madame</td>\n",
       "      <td>18</td>\n",
       "      <td>2010.0</td>\n",
       "    </tr>\n",
       "    <tr>\n",
       "      <th>4</th>\n",
       "      <td>225388</td>\n",
       "      <td>no</td>\n",
       "      <td>Madame</td>\n",
       "      <td>18</td>\n",
       "      <td>2015.0</td>\n",
       "    </tr>\n",
       "  </tbody>\n",
       "</table>\n",
       "</div>"
      ],
      "text/plain": [
       "   No Sciper 120ECTS Civilité  Count  year_1\n",
       "0     180027      no   Madame     18  2007.0\n",
       "1     183512      no   Madame     18  2008.0\n",
       "2     183605      no   Madame     18  2008.0\n",
       "3     200065      no   Madame     18  2010.0\n",
       "4     225388      no   Madame     18  2015.0"
      ]
     },
     "execution_count": 84,
     "metadata": {},
     "output_type": "execute_result"
    }
   ],
   "source": [
    "master_students.head()"
   ]
  },
  {
   "cell_type": "markdown",
   "metadata": {},
   "source": [
    "We modify our dataframes in a format that is convenient for visualization. We make 4 different dataframes for men and women with and without specialization"
   ]
  },
  {
   "cell_type": "code",
   "execution_count": 85,
   "metadata": {
    "collapsed": true
   },
   "outputs": [],
   "source": [
    "men_without_specialization = master_students[(master_students['120ECTS'] == 'no') & (master_students['Civilité'] == 'Monsieur')]\n",
    "women_without_specialization = master_students[(master_students['120ECTS'] == 'no') & (master_students['Civilité'] == 'Madame')]\n",
    "men_with_specialization = master_students[(master_students['120ECTS'] == 'yes') & (master_students['Civilité'] == 'Monsieur')]\n",
    "women_with_specialization = master_students[(master_students['120ECTS'] == 'yes') & (master_students['Civilité'] == 'Madame')]"
   ]
  },
  {
   "cell_type": "code",
   "execution_count": 86,
   "metadata": {
    "collapsed": false
   },
   "outputs": [],
   "source": [
    "men_without_specialization = men_without_specialization.groupby(by=['Civilité','year_1', 'Count', '120ECTS']).count()\n",
    "women_without_specialization = women_without_specialization.groupby(by=['Civilité','year_1', 'Count', '120ECTS']).count()\n",
    "men_with_specialization = men_with_specialization.groupby(by=['Civilité','year_1', 'Count', '120ECTS']).count()\n",
    "women_with_specialization = women_with_specialization.groupby(by=['Civilité','year_1', 'Count', '120ECTS']).count()\n",
    "\n",
    "men_without_specialization.reset_index(inplace=True)\n",
    "women_without_specialization.reset_index(inplace=True)\n",
    "men_with_specialization.reset_index(inplace=True)\n",
    "women_with_specialization.reset_index(inplace=True)\n",
    "\n",
    "men_without_specialization.rename(columns={'No Sciper': 'count', 'Count': 'months'}, inplace=True)\n",
    "women_without_specialization.rename(columns={'No Sciper': 'count', 'Count': 'months'}, inplace=True)\n",
    "men_with_specialization.rename(columns={'No Sciper': 'count', 'Count': 'months'}, inplace=True)\n",
    "women_with_specialization.rename(columns={'No Sciper': 'count', 'Count': 'months'}, inplace=True)"
   ]
  },
  {
   "cell_type": "markdown",
   "metadata": {},
   "source": [
    "We use scatterplots to visually identify changes over time. We focus on the master students"
   ]
  },
  {
   "cell_type": "code",
   "execution_count": 87,
   "metadata": {
    "collapsed": false
   },
   "outputs": [
    {
     "data": {
      "text/plain": [
       "<matplotlib.text.Text at 0x7fc130229d68>"
      ]
     },
     "execution_count": 87,
     "metadata": {},
     "output_type": "execute_result"
    },
    {
     "data": {
      "image/png": "[encoded data removed]",
      "text/plain": [
       "<matplotlib.figure.Figure at 0x7fc12fc56550>"
      ]
     },
     "metadata": {},
     "output_type": "display_data"
    }
   ],
   "source": [
    "fig, ax = plt.subplots()\n",
    "f = men_without_specialization.plot(kind='scatter', x='year_1', y='months', c='count', s=100, figsize=(10, 6), ax=ax);\n",
    "lables = f.get_xticks()\n",
    "years = pd.Series([int(item) for item in lables])\n",
    "ax.set_xticklabels(years)\n",
    "ax.set_xlabel('Entry year')\n",
    "ax.set_title('Entry year-months-count plot for men without specialization')"
   ]
  },
  {
   "cell_type": "code",
   "execution_count": 88,
   "metadata": {
    "collapsed": false
   },
   "outputs": [
    {
     "data": {
      "text/plain": [
       "<matplotlib.text.Text at 0x7fc12faf6ac8>"
      ]
     },
     "execution_count": 88,
     "metadata": {},
     "output_type": "execute_result"
    },
    {
     "data": {
      "image/png": "[encoded data removed]",
      "text/plain": [
       "<matplotlib.figure.Figure at 0x7fc12fc56400>"
      ]
     },
     "metadata": {},
     "output_type": "display_data"
    }
   ],
   "source": [
    "fig, ax = plt.subplots()\n",
    "f = women_without_specialization.plot(kind='scatter', x='year_1', y='months', c='count', s=100, figsize=(10, 6), ax=ax);\n",
    "lables = f.get_xticks()\n",
    "years = pd.Series([int(item) for item in lables])\n",
    "ax.set_xticklabels(years)\n",
    "ax.set_xlabel('Entry year')\n",
    "ax.set_title('Entry year-months-count plot for women without specialization')"
   ]
  },
  {
   "cell_type": "code",
   "execution_count": 89,
   "metadata": {
    "collapsed": false
   },
   "outputs": [
    {
     "data": {
      "text/plain": [
       "<matplotlib.text.Text at 0x7fc12fcd5d68>"
      ]
     },
     "execution_count": 89,
     "metadata": {},
     "output_type": "execute_result"
    },
    {
     "data": {
      "image/png": "[encoded data removed]",
      "text/plain": [
       "<matplotlib.figure.Figure at 0x7fc12fb1d7f0>"
      ]
     },
     "metadata": {},
     "output_type": "display_data"
    }
   ],
   "source": [
    "fig, ax = plt.subplots()\n",
    "f = men_with_specialization.plot(kind='scatter', x='year_1', y='months', c='count', s=100, figsize=(10, 6), ax=ax);\n",
    "lables = f.get_xticks()\n",
    "years = pd.Series([int(item) for item in lables])\n",
    "ax.set_xticklabels(years)\n",
    "ax.set_xlabel('Entry year')\n",
    "ax.set_title('Entry year-months-count plot for men with specialization')"
   ]
  },
  {
   "cell_type": "code",
   "execution_count": 90,
   "metadata": {
    "collapsed": false
   },
   "outputs": [
    {
     "data": {
      "text/plain": [
       "<matplotlib.text.Text at 0x7fc12d4f64e0>"
      ]
     },
     "execution_count": 90,
     "metadata": {},
     "output_type": "execute_result"
    },
    {
     "data": {
      "image/png": "[encoded data removed]",
      "text/plain": [
       "<matplotlib.figure.Figure at 0x7fc12d5371d0>"
      ]
     },
     "metadata": {},
     "output_type": "display_data"
    }
   ],
   "source": [
    "fig, ax = plt.subplots()\n",
    "f = women_with_specialization.plot(kind='scatter', x='year_1', y='months', c='count', s=100, figsize=(10, 6), ax=ax);\n",
    "lables = f.get_xticks()\n",
    "years = pd.Series([int(item) for item in lables])\n",
    "ax.set_xticklabels(years)\n",
    "ax.set_xlabel('Entry year')\n",
    "ax.set_title('Entry year-months-count plot for women with specialization')"
   ]
  },
  {
   "cell_type": "markdown",
   "metadata": {},
   "source": [
    "From the plots, we can draw similar conclusions like the ones we drew from the analysis of the bachelor students"
   ]
  }
 ],
 "metadata": {
  "anaconda-cloud": {},
  "kernelspec": {
   "display_name": "Python [Root]",
   "language": "python",
   "name": "Python [Root]"
  },
  "language_info": {
   "codemirror_mode": {
    "name": "ipython",
    "version": 3
   },
   "file_extension": ".py",
   "mimetype": "text/x-python",
   "name": "python",
   "nbconvert_exporter": "python",
   "pygments_lexer": "ipython3",
   "version": "3.5.2"
  }
 },
 "nbformat": 4,
 "nbformat_minor": 0
}
