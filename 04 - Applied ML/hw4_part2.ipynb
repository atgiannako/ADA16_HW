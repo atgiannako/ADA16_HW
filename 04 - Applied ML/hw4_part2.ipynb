{
 "cells": [
  {
   "cell_type": "code",
   "execution_count": 1,
   "metadata": {
    "collapsed": false
   },
   "outputs": [],
   "source": [
    "%matplotlib inline\n",
    "import numpy as np\n",
    "import pandas as pd\n",
    "import matplotlib.pyplot as plt\n",
    "import matplotlib.cm as cm\n",
    "from utils import *\n",
    "\n",
    "import warnings\n",
    "warnings.filterwarnings('ignore')"
   ]
  },
  {
   "cell_type": "markdown",
   "metadata": {},
   "source": [
    "## Homework Structure\n",
    "\n",
    "This homework consists of 3 files:\n",
    "* [hw3_part1](./hw3_part1.ipynb): It contains an analysis for the first part of the homework. The dataset given contains player-referee dyads and therefore each player appears more than once in the dataset. In our first approach, we keep the dataset as it is, i.e. we do not perform any <code>groupby</code> operation. We remove features that add noise to the dataset and achieve an of 77%.\n",
    "* [hw3_part1_second_approach](./hw3_part1_second_approach.ipynb): It contains an analysis for the first part of the homework with a second approach on the dataset. More concretely, we do perform a <code>groupby</code> operation using the player name. Achieve a very poor accuracy.\n",
    "* [hw3_part2](./hw3_part2.ipynb): It contains an analysis for the second part of the homework. More concretely, we perform a <code>groupby</code> operation on the player name and investigate if we can build to separate clusters for white and black soccer player. Our analysis shows that this clustering is not successful."
   ]
  },
  {
   "cell_type": "markdown",
   "metadata": {},
   "source": [
    "## Data loading"
   ]
  },
  {
   "cell_type": "code",
   "execution_count": 2,
   "metadata": {
    "collapsed": false
   },
   "outputs": [
    {
     "data": {
      "text/plain": [
       "(146028, 28)"
      ]
     },
     "execution_count": 2,
     "metadata": {},
     "output_type": "execute_result"
    }
   ],
   "source": [
    "data = pd.read_csv('CrowdstormingDataJuly1st.csv')\n",
    "data.shape"
   ]
  },
  {
   "cell_type": "code",
   "execution_count": 3,
   "metadata": {
    "collapsed": false
   },
   "outputs": [
    {
     "data": {
      "text/html": [
       "<div>\n",
       "<table border=\"1\" class=\"dataframe\">\n",
       "  <thead>\n",
       "    <tr style=\"text-align: right;\">\n",
       "      <th></th>\n",
       "      <th>playerShort</th>\n",
       "      <th>player</th>\n",
       "      <th>club</th>\n",
       "      <th>leagueCountry</th>\n",
       "      <th>birthday</th>\n",
       "      <th>height</th>\n",
       "      <th>weight</th>\n",
       "      <th>position</th>\n",
       "      <th>games</th>\n",
       "      <th>victories</th>\n",
       "      <th>...</th>\n",
       "      <th>rater2</th>\n",
       "      <th>refNum</th>\n",
       "      <th>refCountry</th>\n",
       "      <th>Alpha_3</th>\n",
       "      <th>meanIAT</th>\n",
       "      <th>nIAT</th>\n",
       "      <th>seIAT</th>\n",
       "      <th>meanExp</th>\n",
       "      <th>nExp</th>\n",
       "      <th>seExp</th>\n",
       "    </tr>\n",
       "  </thead>\n",
       "  <tbody>\n",
       "    <tr>\n",
       "      <th>0</th>\n",
       "      <td>lucas-wilchez</td>\n",
       "      <td>Lucas Wilchez</td>\n",
       "      <td>Real Zaragoza</td>\n",
       "      <td>Spain</td>\n",
       "      <td>31.08.1983</td>\n",
       "      <td>177.0</td>\n",
       "      <td>72.0</td>\n",
       "      <td>Attacking Midfielder</td>\n",
       "      <td>1</td>\n",
       "      <td>0</td>\n",
       "      <td>...</td>\n",
       "      <td>0.50</td>\n",
       "      <td>1</td>\n",
       "      <td>1</td>\n",
       "      <td>GRC</td>\n",
       "      <td>0.326391</td>\n",
       "      <td>712.0</td>\n",
       "      <td>0.000564</td>\n",
       "      <td>0.396000</td>\n",
       "      <td>750.0</td>\n",
       "      <td>0.002696</td>\n",
       "    </tr>\n",
       "    <tr>\n",
       "      <th>1</th>\n",
       "      <td>john-utaka</td>\n",
       "      <td>John Utaka</td>\n",
       "      <td>Montpellier HSC</td>\n",
       "      <td>France</td>\n",
       "      <td>08.01.1982</td>\n",
       "      <td>179.0</td>\n",
       "      <td>82.0</td>\n",
       "      <td>Right Winger</td>\n",
       "      <td>1</td>\n",
       "      <td>0</td>\n",
       "      <td>...</td>\n",
       "      <td>0.75</td>\n",
       "      <td>2</td>\n",
       "      <td>2</td>\n",
       "      <td>ZMB</td>\n",
       "      <td>0.203375</td>\n",
       "      <td>40.0</td>\n",
       "      <td>0.010875</td>\n",
       "      <td>-0.204082</td>\n",
       "      <td>49.0</td>\n",
       "      <td>0.061504</td>\n",
       "    </tr>\n",
       "    <tr>\n",
       "      <th>2</th>\n",
       "      <td>abdon-prats</td>\n",
       "      <td>Abdón Prats</td>\n",
       "      <td>RCD Mallorca</td>\n",
       "      <td>Spain</td>\n",
       "      <td>17.12.1992</td>\n",
       "      <td>181.0</td>\n",
       "      <td>79.0</td>\n",
       "      <td>NaN</td>\n",
       "      <td>1</td>\n",
       "      <td>0</td>\n",
       "      <td>...</td>\n",
       "      <td>NaN</td>\n",
       "      <td>3</td>\n",
       "      <td>3</td>\n",
       "      <td>ESP</td>\n",
       "      <td>0.369894</td>\n",
       "      <td>1785.0</td>\n",
       "      <td>0.000229</td>\n",
       "      <td>0.588297</td>\n",
       "      <td>1897.0</td>\n",
       "      <td>0.001002</td>\n",
       "    </tr>\n",
       "    <tr>\n",
       "      <th>3</th>\n",
       "      <td>pablo-mari</td>\n",
       "      <td>Pablo Marí</td>\n",
       "      <td>RCD Mallorca</td>\n",
       "      <td>Spain</td>\n",
       "      <td>31.08.1993</td>\n",
       "      <td>191.0</td>\n",
       "      <td>87.0</td>\n",
       "      <td>Center Back</td>\n",
       "      <td>1</td>\n",
       "      <td>1</td>\n",
       "      <td>...</td>\n",
       "      <td>NaN</td>\n",
       "      <td>3</td>\n",
       "      <td>3</td>\n",
       "      <td>ESP</td>\n",
       "      <td>0.369894</td>\n",
       "      <td>1785.0</td>\n",
       "      <td>0.000229</td>\n",
       "      <td>0.588297</td>\n",
       "      <td>1897.0</td>\n",
       "      <td>0.001002</td>\n",
       "    </tr>\n",
       "    <tr>\n",
       "      <th>4</th>\n",
       "      <td>ruben-pena</td>\n",
       "      <td>Rubén Peña</td>\n",
       "      <td>Real Valladolid</td>\n",
       "      <td>Spain</td>\n",
       "      <td>18.07.1991</td>\n",
       "      <td>172.0</td>\n",
       "      <td>70.0</td>\n",
       "      <td>Right Midfielder</td>\n",
       "      <td>1</td>\n",
       "      <td>1</td>\n",
       "      <td>...</td>\n",
       "      <td>NaN</td>\n",
       "      <td>3</td>\n",
       "      <td>3</td>\n",
       "      <td>ESP</td>\n",
       "      <td>0.369894</td>\n",
       "      <td>1785.0</td>\n",
       "      <td>0.000229</td>\n",
       "      <td>0.588297</td>\n",
       "      <td>1897.0</td>\n",
       "      <td>0.001002</td>\n",
       "    </tr>\n",
       "  </tbody>\n",
       "</table>\n",
       "<p>5 rows × 28 columns</p>\n",
       "</div>"
      ],
      "text/plain": [
       "     playerShort         player             club leagueCountry    birthday  \\\n",
       "0  lucas-wilchez  Lucas Wilchez    Real Zaragoza         Spain  31.08.1983   \n",
       "1     john-utaka     John Utaka  Montpellier HSC        France  08.01.1982   \n",
       "2    abdon-prats    Abdón Prats     RCD Mallorca         Spain  17.12.1992   \n",
       "3     pablo-mari     Pablo Marí     RCD Mallorca         Spain  31.08.1993   \n",
       "4     ruben-pena     Rubén Peña  Real Valladolid         Spain  18.07.1991   \n",
       "\n",
       "   height  weight              position  games  victories    ...     rater2  \\\n",
       "0   177.0    72.0  Attacking Midfielder      1          0    ...       0.50   \n",
       "1   179.0    82.0          Right Winger      1          0    ...       0.75   \n",
       "2   181.0    79.0                   NaN      1          0    ...        NaN   \n",
       "3   191.0    87.0           Center Back      1          1    ...        NaN   \n",
       "4   172.0    70.0      Right Midfielder      1          1    ...        NaN   \n",
       "\n",
       "   refNum  refCountry  Alpha_3   meanIAT    nIAT     seIAT   meanExp    nExp  \\\n",
       "0       1           1      GRC  0.326391   712.0  0.000564  0.396000   750.0   \n",
       "1       2           2      ZMB  0.203375    40.0  0.010875 -0.204082    49.0   \n",
       "2       3           3      ESP  0.369894  1785.0  0.000229  0.588297  1897.0   \n",
       "3       3           3      ESP  0.369894  1785.0  0.000229  0.588297  1897.0   \n",
       "4       3           3      ESP  0.369894  1785.0  0.000229  0.588297  1897.0   \n",
       "\n",
       "      seExp  \n",
       "0  0.002696  \n",
       "1  0.061504  \n",
       "2  0.001002  \n",
       "3  0.001002  \n",
       "4  0.001002  \n",
       "\n",
       "[5 rows x 28 columns]"
      ]
     },
     "execution_count": 3,
     "metadata": {},
     "output_type": "execute_result"
    }
   ],
   "source": [
    "data.head()"
   ]
  },
  {
   "cell_type": "markdown",
   "metadata": {},
   "source": [
    "We remove features that are considered to have no impact on the clustering that we are planning to do."
   ]
  },
  {
   "cell_type": "code",
   "execution_count": 4,
   "metadata": {
    "collapsed": false
   },
   "outputs": [
    {
     "data": {
      "text/plain": [
       "(146028, 20)"
      ]
     },
     "execution_count": 4,
     "metadata": {},
     "output_type": "execute_result"
    }
   ],
   "source": [
    "# list of features to drop\n",
    "drop_features = ['photoID','player', 'position', 'Alpha_3', 'birthday', 'club', 'weight', 'height']\n",
    "data = data.drop(drop_features, axis=1)\n",
    "data.shape"
   ]
  },
  {
   "cell_type": "markdown",
   "metadata": {},
   "source": [
    "We remove rows that have <code>NA</code> values in the <code>rater1, rater2</code> columns."
   ]
  },
  {
   "cell_type": "code",
   "execution_count": 5,
   "metadata": {
    "collapsed": true
   },
   "outputs": [],
   "source": [
    "data.dropna(axis=0,subset=['rater1','rater2'], inplace=True)"
   ]
  },
  {
   "cell_type": "markdown",
   "metadata": {},
   "source": [
    "We search which columns contain <code>NA</code> values."
   ]
  },
  {
   "cell_type": "code",
   "execution_count": 6,
   "metadata": {
    "collapsed": false
   },
   "outputs": [
    {
     "name": "stdout",
     "output_type": "stream",
     "text": [
      "['meanIAT', 'nIAT', 'seIAT', 'meanExp', 'nExp', 'seExp']\n"
     ]
    }
   ],
   "source": [
    "columns_with_nan = pd.isnull(data).sum() > 0\n",
    "columns_with_nan = list(columns_with_nan[columns_with_nan].index)\n",
    "print(columns_with_nan)"
   ]
  },
  {
   "cell_type": "markdown",
   "metadata": {},
   "source": [
    "We fill the missing values with the median of each feature using the <code>fill_nan_values()</code> function from the <code>utils</code> file."
   ]
  },
  {
   "cell_type": "code",
   "execution_count": 7,
   "metadata": {
    "collapsed": false
   },
   "outputs": [],
   "source": [
    "for name in columns_with_nan:\n",
    "    data[name] = fill_nan_values(data[name])"
   ]
  },
  {
   "cell_type": "markdown",
   "metadata": {},
   "source": [
    "We convert the <code>leageCountry</code> feature to categorical and then use the respective categorical code for each country."
   ]
  },
  {
   "cell_type": "code",
   "execution_count": 8,
   "metadata": {
    "collapsed": false
   },
   "outputs": [],
   "source": [
    "# convert leageCountry to categorical\n",
    "data['leagueCountry'] = data['leagueCountry'].astype('category')\n",
    "# keep categorical columns\n",
    "cat_cols = data.select_dtypes(['category']).columns\n",
    "# convert strings into categorical codes\n",
    "data[cat_cols] = data[cat_cols].apply(lambda col : col.cat.codes) "
   ]
  },
  {
   "cell_type": "markdown",
   "metadata": {},
   "source": [
    "Also, we drom the <code>refNum</code> and <code>refCountry</code> attributes, since they are considered to be irrelevant with the clustering task."
   ]
  },
  {
   "cell_type": "code",
   "execution_count": 9,
   "metadata": {
    "collapsed": false
   },
   "outputs": [
    {
     "data": {
      "text/plain": [
       "(124621, 18)"
      ]
     },
     "execution_count": 9,
     "metadata": {},
     "output_type": "execute_result"
    }
   ],
   "source": [
    "referee_features = ['refNum','refCountry']\n",
    "data = data.drop(referee_features, axis=1)\n",
    "data.shape"
   ]
  },
  {
   "cell_type": "markdown",
   "metadata": {},
   "source": [
    "## Applied Machine Learning"
   ]
  },
  {
   "cell_type": "markdown",
   "metadata": {},
   "source": [
    "We start by bulding the **X** and **y** matrices that contain the features and the response respectively."
   ]
  },
  {
   "cell_type": "code",
   "execution_count": 10,
   "metadata": {
    "collapsed": true
   },
   "outputs": [],
   "source": [
    "X = data.drop(['rater1','rater2'], axis=1)"
   ]
  },
  {
   "cell_type": "markdown",
   "metadata": {},
   "source": [
    "For the skin colour, we consider people with 0, 0.25 and 0.5 labels as white and map them to a new label with value 0. The rest is considered to be black and are mapped to a new label with value 1."
   ]
  },
  {
   "cell_type": "code",
   "execution_count": 11,
   "metadata": {
    "collapsed": false
   },
   "outputs": [
    {
     "data": {
      "text/html": [
       "<div>\n",
       "<table border=\"1\" class=\"dataframe\">\n",
       "  <thead>\n",
       "    <tr style=\"text-align: right;\">\n",
       "      <th></th>\n",
       "      <th>playerShort</th>\n",
       "      <th>rater1</th>\n",
       "    </tr>\n",
       "  </thead>\n",
       "  <tbody>\n",
       "    <tr>\n",
       "      <th>0</th>\n",
       "      <td>aaron-hughes</td>\n",
       "      <td>0</td>\n",
       "    </tr>\n",
       "    <tr>\n",
       "      <th>1</th>\n",
       "      <td>aaron-hunt</td>\n",
       "      <td>0</td>\n",
       "    </tr>\n",
       "    <tr>\n",
       "      <th>2</th>\n",
       "      <td>aaron-lennon</td>\n",
       "      <td>0</td>\n",
       "    </tr>\n",
       "    <tr>\n",
       "      <th>3</th>\n",
       "      <td>aaron-ramsey</td>\n",
       "      <td>0</td>\n",
       "    </tr>\n",
       "    <tr>\n",
       "      <th>4</th>\n",
       "      <td>abdelhamid-el-kaoutari</td>\n",
       "      <td>0</td>\n",
       "    </tr>\n",
       "    <tr>\n",
       "      <th>5</th>\n",
       "      <td>abdou-traore_2</td>\n",
       "      <td>1</td>\n",
       "    </tr>\n",
       "    <tr>\n",
       "      <th>6</th>\n",
       "      <td>abdoulaye-diallo_2</td>\n",
       "      <td>1</td>\n",
       "    </tr>\n",
       "    <tr>\n",
       "      <th>7</th>\n",
       "      <td>abdoulaye-keita_2</td>\n",
       "      <td>1</td>\n",
       "    </tr>\n",
       "  </tbody>\n",
       "</table>\n",
       "</div>"
      ],
      "text/plain": [
       "              playerShort  rater1\n",
       "0            aaron-hughes       0\n",
       "1              aaron-hunt       0\n",
       "2            aaron-lennon       0\n",
       "3            aaron-ramsey       0\n",
       "4  abdelhamid-el-kaoutari       0\n",
       "5          abdou-traore_2       1\n",
       "6      abdoulaye-diallo_2       1\n",
       "7       abdoulaye-keita_2       1"
      ]
     },
     "execution_count": 11,
     "metadata": {},
     "output_type": "execute_result"
    }
   ],
   "source": [
    "y = data[['playerShort', 'rater1']]\n",
    "y['rater1'] = y['rater1'].map({0.0:0, 0.25:0, 0.5:0, 0.75:1, 1.0:1})\n",
    "y = y.groupby('playerShort', as_index=False).mean()\n",
    "y.head(8)"
   ]
  },
  {
   "cell_type": "markdown",
   "metadata": {},
   "source": [
    "**NOTE**: We also tried a mapping of <code>{0.0:0, 0.25:0, 0.5:1, 0.75:1, 1.0:1}</code> but we got worse results"
   ]
  },
  {
   "cell_type": "markdown",
   "metadata": {},
   "source": [
    "After grouping by soccer player, we drop the <code>playerShort</code> feature in the **y** matrix since it is no longer necessary."
   ]
  },
  {
   "cell_type": "code",
   "execution_count": 12,
   "metadata": {
    "collapsed": true
   },
   "outputs": [],
   "source": [
    "y.drop(['playerShort'], axis=1, inplace=True)"
   ]
  },
  {
   "cell_type": "markdown",
   "metadata": {},
   "source": [
    "Now, **X** matrix contains two set of features. The first set should be aggregated using the <code>sum</code> function. These features are:\n",
    "* games\t\n",
    "* victories\t\n",
    "* ties\t\n",
    "* defeats\t\n",
    "* goals\t\n",
    "* yellowCards\t\n",
    "* yellowReds\t\n",
    "* redCards\n",
    "\n",
    "The meaning of these features indicated that there is no reason to perform an aggragation using the <code>mean()</code> function. We see that these features have an <code>int64</code> type."
   ]
  },
  {
   "cell_type": "code",
   "execution_count": 13,
   "metadata": {
    "collapsed": false
   },
   "outputs": [],
   "source": [
    "X1_columns = X.select_dtypes(['object', 'int64']).columns\n",
    "X1 = X[X1_columns]\n",
    "# group and aggregate by sum\n",
    "X1 = X1.groupby(by='playerShort', as_index=False).sum()"
   ]
  },
  {
   "cell_type": "code",
   "execution_count": 14,
   "metadata": {
    "collapsed": false
   },
   "outputs": [
    {
     "data": {
      "text/html": [
       "<div>\n",
       "<table border=\"1\" class=\"dataframe\">\n",
       "  <thead>\n",
       "    <tr style=\"text-align: right;\">\n",
       "      <th></th>\n",
       "      <th>playerShort</th>\n",
       "      <th>games</th>\n",
       "      <th>victories</th>\n",
       "      <th>ties</th>\n",
       "      <th>defeats</th>\n",
       "      <th>goals</th>\n",
       "      <th>yellowCards</th>\n",
       "      <th>yellowReds</th>\n",
       "      <th>redCards</th>\n",
       "    </tr>\n",
       "  </thead>\n",
       "  <tbody>\n",
       "    <tr>\n",
       "      <th>0</th>\n",
       "      <td>aaron-hughes</td>\n",
       "      <td>654</td>\n",
       "      <td>247</td>\n",
       "      <td>179</td>\n",
       "      <td>228</td>\n",
       "      <td>9</td>\n",
       "      <td>19</td>\n",
       "      <td>0</td>\n",
       "      <td>0</td>\n",
       "    </tr>\n",
       "    <tr>\n",
       "      <th>1</th>\n",
       "      <td>aaron-hunt</td>\n",
       "      <td>336</td>\n",
       "      <td>141</td>\n",
       "      <td>73</td>\n",
       "      <td>122</td>\n",
       "      <td>62</td>\n",
       "      <td>42</td>\n",
       "      <td>0</td>\n",
       "      <td>1</td>\n",
       "    </tr>\n",
       "    <tr>\n",
       "      <th>2</th>\n",
       "      <td>aaron-lennon</td>\n",
       "      <td>412</td>\n",
       "      <td>200</td>\n",
       "      <td>97</td>\n",
       "      <td>115</td>\n",
       "      <td>31</td>\n",
       "      <td>11</td>\n",
       "      <td>0</td>\n",
       "      <td>0</td>\n",
       "    </tr>\n",
       "    <tr>\n",
       "      <th>3</th>\n",
       "      <td>aaron-ramsey</td>\n",
       "      <td>260</td>\n",
       "      <td>150</td>\n",
       "      <td>42</td>\n",
       "      <td>68</td>\n",
       "      <td>39</td>\n",
       "      <td>31</td>\n",
       "      <td>0</td>\n",
       "      <td>1</td>\n",
       "    </tr>\n",
       "    <tr>\n",
       "      <th>4</th>\n",
       "      <td>abdelhamid-el-kaoutari</td>\n",
       "      <td>124</td>\n",
       "      <td>41</td>\n",
       "      <td>40</td>\n",
       "      <td>43</td>\n",
       "      <td>1</td>\n",
       "      <td>8</td>\n",
       "      <td>4</td>\n",
       "      <td>2</td>\n",
       "    </tr>\n",
       "  </tbody>\n",
       "</table>\n",
       "</div>"
      ],
      "text/plain": [
       "              playerShort  games  victories  ties  defeats  goals  \\\n",
       "0            aaron-hughes    654        247   179      228      9   \n",
       "1              aaron-hunt    336        141    73      122     62   \n",
       "2            aaron-lennon    412        200    97      115     31   \n",
       "3            aaron-ramsey    260        150    42       68     39   \n",
       "4  abdelhamid-el-kaoutari    124         41    40       43      1   \n",
       "\n",
       "   yellowCards  yellowReds  redCards  \n",
       "0           19           0         0  \n",
       "1           42           0         1  \n",
       "2           11           0         0  \n",
       "3           31           0         1  \n",
       "4            8           4         2  "
      ]
     },
     "execution_count": 14,
     "metadata": {},
     "output_type": "execute_result"
    }
   ],
   "source": [
    "X1.head()"
   ]
  },
  {
   "cell_type": "markdown",
   "metadata": {},
   "source": [
    "The second set of features in the **X** matrix should be aggregated using the <code>mean</code> function. These features are:\n",
    "* meanIAT\t\n",
    "* nIAT\t\n",
    "* seIAT\t\n",
    "* meanExp\t\n",
    "* nExp \n",
    "* seExp\n",
    "\n",
    "The meaning of these features indicated that there is no reason to perform an aggragation using the <code>sum()</code> function. We see that these features have an <code>float64</code> type."
   ]
  },
  {
   "cell_type": "code",
   "execution_count": 15,
   "metadata": {
    "collapsed": false
   },
   "outputs": [],
   "source": [
    "# we should keep the playerShort features as a key for the inner join (performed later)\n",
    "names = pd.DataFrame(X['playerShort'])\n",
    "X2_columns = X.select_dtypes(['float64']).columns\n",
    "X2 = X[X2_columns]\n",
    "# join names with X2 (float matrix). Names are used as the join key in future steps\n",
    "X2 = pd.merge(names, X2, left_index=True, right_index=True)\n",
    "# group and aggregate by mean\n",
    "X2 = X2.groupby(by='playerShort', as_index=False).mean()"
   ]
  },
  {
   "cell_type": "code",
   "execution_count": 16,
   "metadata": {
    "collapsed": false
   },
   "outputs": [
    {
     "data": {
      "text/html": [
       "<div>\n",
       "<table border=\"1\" class=\"dataframe\">\n",
       "  <thead>\n",
       "    <tr style=\"text-align: right;\">\n",
       "      <th></th>\n",
       "      <th>playerShort</th>\n",
       "      <th>meanIAT</th>\n",
       "      <th>nIAT</th>\n",
       "      <th>seIAT</th>\n",
       "      <th>meanExp</th>\n",
       "      <th>nExp</th>\n",
       "      <th>seExp</th>\n",
       "    </tr>\n",
       "  </thead>\n",
       "  <tbody>\n",
       "    <tr>\n",
       "      <th>0</th>\n",
       "      <td>aaron-hughes</td>\n",
       "      <td>0.346459</td>\n",
       "      <td>19710.156627</td>\n",
       "      <td>0.000652</td>\n",
       "      <td>0.494575</td>\n",
       "      <td>20637.277108</td>\n",
       "      <td>0.004065</td>\n",
       "    </tr>\n",
       "    <tr>\n",
       "      <th>1</th>\n",
       "      <td>aaron-hunt</td>\n",
       "      <td>0.348818</td>\n",
       "      <td>26104.292929</td>\n",
       "      <td>0.000219</td>\n",
       "      <td>0.449220</td>\n",
       "      <td>26864.454545</td>\n",
       "      <td>0.000993</td>\n",
       "    </tr>\n",
       "    <tr>\n",
       "      <th>2</th>\n",
       "      <td>aaron-lennon</td>\n",
       "      <td>0.345893</td>\n",
       "      <td>21234.861386</td>\n",
       "      <td>0.000367</td>\n",
       "      <td>0.491482</td>\n",
       "      <td>22238.742574</td>\n",
       "      <td>0.002032</td>\n",
       "    </tr>\n",
       "    <tr>\n",
       "      <th>3</th>\n",
       "      <td>aaron-ramsey</td>\n",
       "      <td>0.346821</td>\n",
       "      <td>38285.826923</td>\n",
       "      <td>0.003334</td>\n",
       "      <td>0.514693</td>\n",
       "      <td>39719.980769</td>\n",
       "      <td>0.013522</td>\n",
       "    </tr>\n",
       "    <tr>\n",
       "      <th>4</th>\n",
       "      <td>abdelhamid-el-kaoutari</td>\n",
       "      <td>0.331600</td>\n",
       "      <td>2832.351351</td>\n",
       "      <td>0.001488</td>\n",
       "      <td>0.335587</td>\n",
       "      <td>2953.837838</td>\n",
       "      <td>0.005296</td>\n",
       "    </tr>\n",
       "  </tbody>\n",
       "</table>\n",
       "</div>"
      ],
      "text/plain": [
       "              playerShort   meanIAT          nIAT     seIAT   meanExp  \\\n",
       "0            aaron-hughes  0.346459  19710.156627  0.000652  0.494575   \n",
       "1              aaron-hunt  0.348818  26104.292929  0.000219  0.449220   \n",
       "2            aaron-lennon  0.345893  21234.861386  0.000367  0.491482   \n",
       "3            aaron-ramsey  0.346821  38285.826923  0.003334  0.514693   \n",
       "4  abdelhamid-el-kaoutari  0.331600   2832.351351  0.001488  0.335587   \n",
       "\n",
       "           nExp     seExp  \n",
       "0  20637.277108  0.004065  \n",
       "1  26864.454545  0.000993  \n",
       "2  22238.742574  0.002032  \n",
       "3  39719.980769  0.013522  \n",
       "4   2953.837838  0.005296  "
      ]
     },
     "execution_count": 16,
     "metadata": {},
     "output_type": "execute_result"
    }
   ],
   "source": [
    "X2.head()"
   ]
  },
  {
   "cell_type": "markdown",
   "metadata": {},
   "source": [
    "Now, we construct the final **X** matrix, that contains the features."
   ]
  },
  {
   "cell_type": "code",
   "execution_count": 17,
   "metadata": {
    "collapsed": false
   },
   "outputs": [],
   "source": [
    "X = pd.merge(X1, X2, how='inner', left_on='playerShort', right_on='playerShort')"
   ]
  },
  {
   "cell_type": "code",
   "execution_count": 18,
   "metadata": {
    "collapsed": false
   },
   "outputs": [
    {
     "data": {
      "text/html": [
       "<div>\n",
       "<table border=\"1\" class=\"dataframe\">\n",
       "  <thead>\n",
       "    <tr style=\"text-align: right;\">\n",
       "      <th></th>\n",
       "      <th>playerShort</th>\n",
       "      <th>games</th>\n",
       "      <th>victories</th>\n",
       "      <th>ties</th>\n",
       "      <th>defeats</th>\n",
       "      <th>goals</th>\n",
       "      <th>yellowCards</th>\n",
       "      <th>yellowReds</th>\n",
       "      <th>redCards</th>\n",
       "      <th>meanIAT</th>\n",
       "      <th>nIAT</th>\n",
       "      <th>seIAT</th>\n",
       "      <th>meanExp</th>\n",
       "      <th>nExp</th>\n",
       "      <th>seExp</th>\n",
       "    </tr>\n",
       "  </thead>\n",
       "  <tbody>\n",
       "    <tr>\n",
       "      <th>0</th>\n",
       "      <td>aaron-hughes</td>\n",
       "      <td>654</td>\n",
       "      <td>247</td>\n",
       "      <td>179</td>\n",
       "      <td>228</td>\n",
       "      <td>9</td>\n",
       "      <td>19</td>\n",
       "      <td>0</td>\n",
       "      <td>0</td>\n",
       "      <td>0.346459</td>\n",
       "      <td>19710.156627</td>\n",
       "      <td>0.000652</td>\n",
       "      <td>0.494575</td>\n",
       "      <td>20637.277108</td>\n",
       "      <td>0.004065</td>\n",
       "    </tr>\n",
       "    <tr>\n",
       "      <th>1</th>\n",
       "      <td>aaron-hunt</td>\n",
       "      <td>336</td>\n",
       "      <td>141</td>\n",
       "      <td>73</td>\n",
       "      <td>122</td>\n",
       "      <td>62</td>\n",
       "      <td>42</td>\n",
       "      <td>0</td>\n",
       "      <td>1</td>\n",
       "      <td>0.348818</td>\n",
       "      <td>26104.292929</td>\n",
       "      <td>0.000219</td>\n",
       "      <td>0.449220</td>\n",
       "      <td>26864.454545</td>\n",
       "      <td>0.000993</td>\n",
       "    </tr>\n",
       "    <tr>\n",
       "      <th>2</th>\n",
       "      <td>aaron-lennon</td>\n",
       "      <td>412</td>\n",
       "      <td>200</td>\n",
       "      <td>97</td>\n",
       "      <td>115</td>\n",
       "      <td>31</td>\n",
       "      <td>11</td>\n",
       "      <td>0</td>\n",
       "      <td>0</td>\n",
       "      <td>0.345893</td>\n",
       "      <td>21234.861386</td>\n",
       "      <td>0.000367</td>\n",
       "      <td>0.491482</td>\n",
       "      <td>22238.742574</td>\n",
       "      <td>0.002032</td>\n",
       "    </tr>\n",
       "    <tr>\n",
       "      <th>3</th>\n",
       "      <td>aaron-ramsey</td>\n",
       "      <td>260</td>\n",
       "      <td>150</td>\n",
       "      <td>42</td>\n",
       "      <td>68</td>\n",
       "      <td>39</td>\n",
       "      <td>31</td>\n",
       "      <td>0</td>\n",
       "      <td>1</td>\n",
       "      <td>0.346821</td>\n",
       "      <td>38285.826923</td>\n",
       "      <td>0.003334</td>\n",
       "      <td>0.514693</td>\n",
       "      <td>39719.980769</td>\n",
       "      <td>0.013522</td>\n",
       "    </tr>\n",
       "    <tr>\n",
       "      <th>4</th>\n",
       "      <td>abdelhamid-el-kaoutari</td>\n",
       "      <td>124</td>\n",
       "      <td>41</td>\n",
       "      <td>40</td>\n",
       "      <td>43</td>\n",
       "      <td>1</td>\n",
       "      <td>8</td>\n",
       "      <td>4</td>\n",
       "      <td>2</td>\n",
       "      <td>0.331600</td>\n",
       "      <td>2832.351351</td>\n",
       "      <td>0.001488</td>\n",
       "      <td>0.335587</td>\n",
       "      <td>2953.837838</td>\n",
       "      <td>0.005296</td>\n",
       "    </tr>\n",
       "  </tbody>\n",
       "</table>\n",
       "</div>"
      ],
      "text/plain": [
       "              playerShort  games  victories  ties  defeats  goals  \\\n",
       "0            aaron-hughes    654        247   179      228      9   \n",
       "1              aaron-hunt    336        141    73      122     62   \n",
       "2            aaron-lennon    412        200    97      115     31   \n",
       "3            aaron-ramsey    260        150    42       68     39   \n",
       "4  abdelhamid-el-kaoutari    124         41    40       43      1   \n",
       "\n",
       "   yellowCards  yellowReds  redCards   meanIAT          nIAT     seIAT  \\\n",
       "0           19           0         0  0.346459  19710.156627  0.000652   \n",
       "1           42           0         1  0.348818  26104.292929  0.000219   \n",
       "2           11           0         0  0.345893  21234.861386  0.000367   \n",
       "3           31           0         1  0.346821  38285.826923  0.003334   \n",
       "4            8           4         2  0.331600   2832.351351  0.001488   \n",
       "\n",
       "    meanExp          nExp     seExp  \n",
       "0  0.494575  20637.277108  0.004065  \n",
       "1  0.449220  26864.454545  0.000993  \n",
       "2  0.491482  22238.742574  0.002032  \n",
       "3  0.514693  39719.980769  0.013522  \n",
       "4  0.335587   2953.837838  0.005296  "
      ]
     },
     "execution_count": 18,
     "metadata": {},
     "output_type": "execute_result"
    }
   ],
   "source": [
    "X.head()"
   ]
  },
  {
   "cell_type": "code",
   "execution_count": 19,
   "metadata": {
    "collapsed": false,
    "scrolled": true
   },
   "outputs": [],
   "source": [
    "X.drop('playerShort', inplace=True, axis=1)"
   ]
  },
  {
   "cell_type": "markdown",
   "metadata": {
    "collapsed": false
   },
   "source": [
    "## Data Visualization"
   ]
  },
  {
   "cell_type": "code",
   "execution_count": 20,
   "metadata": {
    "collapsed": false,
    "scrolled": true
   },
   "outputs": [
    {
     "data": {
      "text/html": [
       "<div>\n",
       "<table border=\"1\" class=\"dataframe\">\n",
       "  <thead>\n",
       "    <tr style=\"text-align: right;\">\n",
       "      <th></th>\n",
       "      <th>games</th>\n",
       "      <th>victories</th>\n",
       "      <th>ties</th>\n",
       "      <th>defeats</th>\n",
       "      <th>goals</th>\n",
       "      <th>yellowCards</th>\n",
       "      <th>yellowReds</th>\n",
       "      <th>redCards</th>\n",
       "      <th>meanIAT</th>\n",
       "      <th>nIAT</th>\n",
       "      <th>seIAT</th>\n",
       "      <th>meanExp</th>\n",
       "      <th>nExp</th>\n",
       "      <th>seExp</th>\n",
       "    </tr>\n",
       "  </thead>\n",
       "  <tbody>\n",
       "    <tr>\n",
       "      <th>count</th>\n",
       "      <td>1585.000000</td>\n",
       "      <td>1585.000000</td>\n",
       "      <td>1585.000000</td>\n",
       "      <td>1585.000000</td>\n",
       "      <td>1585.000000</td>\n",
       "      <td>1585.000000</td>\n",
       "      <td>1585.000000</td>\n",
       "      <td>1585.000000</td>\n",
       "      <td>1585.000000</td>\n",
       "      <td>1585.000000</td>\n",
       "      <td>1585.000000</td>\n",
       "      <td>1585.000000</td>\n",
       "      <td>1585.000000</td>\n",
       "      <td>1585.000000</td>\n",
       "    </tr>\n",
       "    <tr>\n",
       "      <th>mean</th>\n",
       "      <td>235.373502</td>\n",
       "      <td>105.567192</td>\n",
       "      <td>56.214511</td>\n",
       "      <td>73.591798</td>\n",
       "      <td>27.788644</td>\n",
       "      <td>31.384858</td>\n",
       "      <td>0.948265</td>\n",
       "      <td>1.002524</td>\n",
       "      <td>0.348317</td>\n",
       "      <td>16297.957712</td>\n",
       "      <td>0.000608</td>\n",
       "      <td>0.463272</td>\n",
       "      <td>16908.045366</td>\n",
       "      <td>0.002848</td>\n",
       "    </tr>\n",
       "    <tr>\n",
       "      <th>std</th>\n",
       "      <td>142.592308</td>\n",
       "      <td>77.571550</td>\n",
       "      <td>34.100482</td>\n",
       "      <td>41.228598</td>\n",
       "      <td>41.517690</td>\n",
       "      <td>25.030628</td>\n",
       "      <td>1.389844</td>\n",
       "      <td>1.338057</td>\n",
       "      <td>0.013437</td>\n",
       "      <td>26764.592701</td>\n",
       "      <td>0.001013</td>\n",
       "      <td>0.095187</td>\n",
       "      <td>27566.989977</td>\n",
       "      <td>0.004606</td>\n",
       "    </tr>\n",
       "    <tr>\n",
       "      <th>min</th>\n",
       "      <td>1.000000</td>\n",
       "      <td>0.000000</td>\n",
       "      <td>0.000000</td>\n",
       "      <td>0.000000</td>\n",
       "      <td>0.000000</td>\n",
       "      <td>0.000000</td>\n",
       "      <td>0.000000</td>\n",
       "      <td>0.000000</td>\n",
       "      <td>0.274185</td>\n",
       "      <td>483.666667</td>\n",
       "      <td>0.000010</td>\n",
       "      <td>-0.072948</td>\n",
       "      <td>500.333333</td>\n",
       "      <td>0.000037</td>\n",
       "    </tr>\n",
       "    <tr>\n",
       "      <th>25%</th>\n",
       "      <td>131.000000</td>\n",
       "      <td>52.000000</td>\n",
       "      <td>31.000000</td>\n",
       "      <td>43.000000</td>\n",
       "      <td>4.000000</td>\n",
       "      <td>13.000000</td>\n",
       "      <td>0.000000</td>\n",
       "      <td>0.000000</td>\n",
       "      <td>0.338413</td>\n",
       "      <td>3967.865672</td>\n",
       "      <td>0.000221</td>\n",
       "      <td>0.387794</td>\n",
       "      <td>4150.385965</td>\n",
       "      <td>0.000995</td>\n",
       "    </tr>\n",
       "    <tr>\n",
       "      <th>50%</th>\n",
       "      <td>213.000000</td>\n",
       "      <td>85.000000</td>\n",
       "      <td>52.000000</td>\n",
       "      <td>69.000000</td>\n",
       "      <td>13.000000</td>\n",
       "      <td>26.000000</td>\n",
       "      <td>0.000000</td>\n",
       "      <td>1.000000</td>\n",
       "      <td>0.346294</td>\n",
       "      <td>7485.852273</td>\n",
       "      <td>0.000321</td>\n",
       "      <td>0.455001</td>\n",
       "      <td>7735.181818</td>\n",
       "      <td>0.001509</td>\n",
       "    </tr>\n",
       "    <tr>\n",
       "      <th>75%</th>\n",
       "      <td>322.000000</td>\n",
       "      <td>140.000000</td>\n",
       "      <td>77.000000</td>\n",
       "      <td>98.000000</td>\n",
       "      <td>35.000000</td>\n",
       "      <td>43.000000</td>\n",
       "      <td>1.000000</td>\n",
       "      <td>1.000000</td>\n",
       "      <td>0.357694</td>\n",
       "      <td>22666.782609</td>\n",
       "      <td>0.000582</td>\n",
       "      <td>0.540081</td>\n",
       "      <td>23614.838710</td>\n",
       "      <td>0.002898</td>\n",
       "    </tr>\n",
       "    <tr>\n",
       "      <th>max</th>\n",
       "      <td>914.000000</td>\n",
       "      <td>527.000000</td>\n",
       "      <td>197.000000</td>\n",
       "      <td>259.000000</td>\n",
       "      <td>420.000000</td>\n",
       "      <td>197.000000</td>\n",
       "      <td>12.000000</td>\n",
       "      <td>13.000000</td>\n",
       "      <td>0.413096</td>\n",
       "      <td>429801.926829</td>\n",
       "      <td>0.018361</td>\n",
       "      <td>1.122201</td>\n",
       "      <td>441869.926829</td>\n",
       "      <td>0.089830</td>\n",
       "    </tr>\n",
       "  </tbody>\n",
       "</table>\n",
       "</div>"
      ],
      "text/plain": [
       "             games    victories         ties      defeats        goals  \\\n",
       "count  1585.000000  1585.000000  1585.000000  1585.000000  1585.000000   \n",
       "mean    235.373502   105.567192    56.214511    73.591798    27.788644   \n",
       "std     142.592308    77.571550    34.100482    41.228598    41.517690   \n",
       "min       1.000000     0.000000     0.000000     0.000000     0.000000   \n",
       "25%     131.000000    52.000000    31.000000    43.000000     4.000000   \n",
       "50%     213.000000    85.000000    52.000000    69.000000    13.000000   \n",
       "75%     322.000000   140.000000    77.000000    98.000000    35.000000   \n",
       "max     914.000000   527.000000   197.000000   259.000000   420.000000   \n",
       "\n",
       "       yellowCards   yellowReds     redCards      meanIAT           nIAT  \\\n",
       "count  1585.000000  1585.000000  1585.000000  1585.000000    1585.000000   \n",
       "mean     31.384858     0.948265     1.002524     0.348317   16297.957712   \n",
       "std      25.030628     1.389844     1.338057     0.013437   26764.592701   \n",
       "min       0.000000     0.000000     0.000000     0.274185     483.666667   \n",
       "25%      13.000000     0.000000     0.000000     0.338413    3967.865672   \n",
       "50%      26.000000     0.000000     1.000000     0.346294    7485.852273   \n",
       "75%      43.000000     1.000000     1.000000     0.357694   22666.782609   \n",
       "max     197.000000    12.000000    13.000000     0.413096  429801.926829   \n",
       "\n",
       "             seIAT      meanExp           nExp        seExp  \n",
       "count  1585.000000  1585.000000    1585.000000  1585.000000  \n",
       "mean      0.000608     0.463272   16908.045366     0.002848  \n",
       "std       0.001013     0.095187   27566.989977     0.004606  \n",
       "min       0.000010    -0.072948     500.333333     0.000037  \n",
       "25%       0.000221     0.387794    4150.385965     0.000995  \n",
       "50%       0.000321     0.455001    7735.181818     0.001509  \n",
       "75%       0.000582     0.540081   23614.838710     0.002898  \n",
       "max       0.018361     1.122201  441869.926829     0.089830  "
      ]
     },
     "execution_count": 20,
     "metadata": {},
     "output_type": "execute_result"
    }
   ],
   "source": [
    "X.describe()"
   ]
  },
  {
   "cell_type": "markdown",
   "metadata": {},
   "source": [
    "We perform **PCA** in order to be able to visualize the data. However, normalization is required before performing PCA. We use the <code>StandardScaler</code>. This method normalizes the data with $μ = 0$ and $σ = 1$."
   ]
  },
  {
   "cell_type": "code",
   "execution_count": 21,
   "metadata": {
    "collapsed": true
   },
   "outputs": [],
   "source": [
    "from sklearn import preprocessing"
   ]
  },
  {
   "cell_type": "code",
   "execution_count": 22,
   "metadata": {
    "collapsed": false
   },
   "outputs": [],
   "source": [
    "scaler = preprocessing.StandardScaler().fit(X)\n",
    "# normalize data with μ=0 and σ=1 \n",
    "X_normalized = scaler.transform(X)  "
   ]
  },
  {
   "cell_type": "code",
   "execution_count": 23,
   "metadata": {
    "collapsed": true
   },
   "outputs": [],
   "source": [
    "# convert X_normalized from array to dataframe\n",
    "X_normalized = pd.DataFrame(X_normalized, columns=X.columns.values)"
   ]
  },
  {
   "cell_type": "code",
   "execution_count": 24,
   "metadata": {
    "collapsed": false
   },
   "outputs": [
    {
     "data": {
      "text/plain": [
       "False"
      ]
     },
     "execution_count": 24,
     "metadata": {},
     "output_type": "execute_result"
    }
   ],
   "source": [
    "X_normalized.isnull().values.any()"
   ]
  },
  {
   "cell_type": "markdown",
   "metadata": {},
   "source": [
    "Now, we perform PCA and keep the two important principal components."
   ]
  },
  {
   "cell_type": "code",
   "execution_count": 25,
   "metadata": {
    "collapsed": false
   },
   "outputs": [],
   "source": [
    "from sklearn.decomposition import PCA"
   ]
  },
  {
   "cell_type": "code",
   "execution_count": 26,
   "metadata": {
    "collapsed": false
   },
   "outputs": [
    {
     "data": {
      "text/html": [
       "<div>\n",
       "<table border=\"1\" class=\"dataframe\">\n",
       "  <thead>\n",
       "    <tr style=\"text-align: right;\">\n",
       "      <th></th>\n",
       "      <th>comp1</th>\n",
       "      <th>comp2</th>\n",
       "    </tr>\n",
       "  </thead>\n",
       "  <tbody>\n",
       "    <tr>\n",
       "      <th>0</th>\n",
       "      <td>4.471090</td>\n",
       "      <td>0.499914</td>\n",
       "    </tr>\n",
       "    <tr>\n",
       "      <th>1</th>\n",
       "      <td>1.425652</td>\n",
       "      <td>0.055812</td>\n",
       "    </tr>\n",
       "    <tr>\n",
       "      <th>2</th>\n",
       "      <td>1.387547</td>\n",
       "      <td>0.186248</td>\n",
       "    </tr>\n",
       "    <tr>\n",
       "      <th>3</th>\n",
       "      <td>0.233261</td>\n",
       "      <td>2.359496</td>\n",
       "    </tr>\n",
       "    <tr>\n",
       "      <th>4</th>\n",
       "      <td>-1.167183</td>\n",
       "      <td>1.256295</td>\n",
       "    </tr>\n",
       "  </tbody>\n",
       "</table>\n",
       "</div>"
      ],
      "text/plain": [
       "      comp1     comp2\n",
       "0  4.471090  0.499914\n",
       "1  1.425652  0.055812\n",
       "2  1.387547  0.186248\n",
       "3  0.233261  2.359496\n",
       "4 -1.167183  1.256295"
      ]
     },
     "execution_count": 26,
     "metadata": {},
     "output_type": "execute_result"
    }
   ],
   "source": [
    "# keep 2 principal compoments\n",
    "pca = PCA(n_components=2)\n",
    "X_reduced = pca.fit(X_normalized).transform(X_normalized)\n",
    "X_reduced = pd.DataFrame(X_reduced, columns=['comp1', 'comp2'])\n",
    "X_reduced.head()"
   ]
  },
  {
   "cell_type": "markdown",
   "metadata": {},
   "source": [
    "We find the variance of the data explained using the first 2 principal components."
   ]
  },
  {
   "cell_type": "code",
   "execution_count": 27,
   "metadata": {
    "collapsed": false
   },
   "outputs": [
    {
     "name": "stdout",
     "output_type": "stream",
     "text": [
      "Explained variance ratio (first two components): [ 0.3447504   0.17620607]\n"
     ]
    }
   ],
   "source": [
    "print('Explained variance ratio (first two components): %s'% str(pca.explained_variance_ratio_))"
   ]
  },
  {
   "cell_type": "markdown",
   "metadata": {},
   "source": [
    "We aggregate the 2 principal components and the labels into one dataframe to ease visualization."
   ]
  },
  {
   "cell_type": "code",
   "execution_count": 28,
   "metadata": {
    "collapsed": false
   },
   "outputs": [
    {
     "data": {
      "text/html": [
       "<div>\n",
       "<table border=\"1\" class=\"dataframe\">\n",
       "  <thead>\n",
       "    <tr style=\"text-align: right;\">\n",
       "      <th></th>\n",
       "      <th>comp1</th>\n",
       "      <th>comp2</th>\n",
       "      <th>rater1</th>\n",
       "    </tr>\n",
       "  </thead>\n",
       "  <tbody>\n",
       "    <tr>\n",
       "      <th>0</th>\n",
       "      <td>4.471090</td>\n",
       "      <td>0.499914</td>\n",
       "      <td>0</td>\n",
       "    </tr>\n",
       "    <tr>\n",
       "      <th>1</th>\n",
       "      <td>1.425652</td>\n",
       "      <td>0.055812</td>\n",
       "      <td>0</td>\n",
       "    </tr>\n",
       "    <tr>\n",
       "      <th>2</th>\n",
       "      <td>1.387547</td>\n",
       "      <td>0.186248</td>\n",
       "      <td>0</td>\n",
       "    </tr>\n",
       "    <tr>\n",
       "      <th>3</th>\n",
       "      <td>0.233261</td>\n",
       "      <td>2.359496</td>\n",
       "      <td>0</td>\n",
       "    </tr>\n",
       "    <tr>\n",
       "      <th>4</th>\n",
       "      <td>-1.167183</td>\n",
       "      <td>1.256295</td>\n",
       "      <td>0</td>\n",
       "    </tr>\n",
       "    <tr>\n",
       "      <th>5</th>\n",
       "      <td>-2.292132</td>\n",
       "      <td>2.949087</td>\n",
       "      <td>1</td>\n",
       "    </tr>\n",
       "    <tr>\n",
       "      <th>6</th>\n",
       "      <td>-3.455438</td>\n",
       "      <td>0.079138</td>\n",
       "      <td>1</td>\n",
       "    </tr>\n",
       "  </tbody>\n",
       "</table>\n",
       "</div>"
      ],
      "text/plain": [
       "      comp1     comp2  rater1\n",
       "0  4.471090  0.499914       0\n",
       "1  1.425652  0.055812       0\n",
       "2  1.387547  0.186248       0\n",
       "3  0.233261  2.359496       0\n",
       "4 -1.167183  1.256295       0\n",
       "5 -2.292132  2.949087       1\n",
       "6 -3.455438  0.079138       1"
      ]
     },
     "execution_count": 28,
     "metadata": {},
     "output_type": "execute_result"
    }
   ],
   "source": [
    "aggregated_data = pd.merge(X_reduced, y, left_index=True, right_index=True)\n",
    "aggregated_data.head(7)"
   ]
  },
  {
   "cell_type": "code",
   "execution_count": 29,
   "metadata": {
    "collapsed": false
   },
   "outputs": [
    {
     "data": {
      "image/png": "[encoded data removed]",
      "text/plain": [
       "<matplotlib.figure.Figure at 0x7f9663df7320>"
      ]
     },
     "metadata": {},
     "output_type": "display_data"
    }
   ],
   "source": [
    "visualize_pca(aggregated_data)"
   ]
  },
  {
   "cell_type": "markdown",
   "metadata": {},
   "source": [
    "We see that it is very difficult to define two different clusters even after using PCA. We proceed with the clustering analysis using k-means."
   ]
  },
  {
   "cell_type": "markdown",
   "metadata": {},
   "source": [
    "## Clustering Analysis"
   ]
  },
  {
   "cell_type": "code",
   "execution_count": 30,
   "metadata": {
    "collapsed": true
   },
   "outputs": [],
   "source": [
    "from sklearn.cluster import KMeans\n",
    "from sklearn import metrics"
   ]
  },
  {
   "cell_type": "markdown",
   "metadata": {},
   "source": [
    "First, we plot the distribution of each feature to see if our dataset contains outliers."
   ]
  },
  {
   "cell_type": "code",
   "execution_count": 31,
   "metadata": {
    "collapsed": false
   },
   "outputs": [
    {
     "data": {
      "image/png": "[encoded data removed]",
      "text/plain": [
       "<matplotlib.figure.Figure at 0x7f9663e28748>"
      ]
     },
     "metadata": {},
     "output_type": "display_data"
    }
   ],
   "source": [
    "plot_hist_of_features(X_normalized)"
   ]
  },
  {
   "cell_type": "markdown",
   "metadata": {},
   "source": [
    "Some features contain outliers, that should be removed."
   ]
  },
  {
   "cell_type": "markdown",
   "metadata": {},
   "source": [
    "### Outliers\n",
    "\n",
    "We remove the outliers of the dataset."
   ]
  },
  {
   "cell_type": "code",
   "execution_count": 32,
   "metadata": {
    "collapsed": false
   },
   "outputs": [],
   "source": [
    "# remove outlierf from dataset\n",
    "y_new, x_new = detect_outliers(X_normalized, y)"
   ]
  },
  {
   "cell_type": "code",
   "execution_count": 33,
   "metadata": {
    "collapsed": true
   },
   "outputs": [],
   "source": [
    "# rename variables\n",
    "X = x_new\n",
    "y = y_new"
   ]
  },
  {
   "cell_type": "code",
   "execution_count": 34,
   "metadata": {
    "collapsed": false
   },
   "outputs": [],
   "source": [
    "features = X.columns.values"
   ]
  },
  {
   "cell_type": "markdown",
   "metadata": {},
   "source": [
    "### Forward Feature Selection"
   ]
  },
  {
   "cell_type": "markdown",
   "metadata": {},
   "source": [
    "We perform forward feature selection using a greedy algorithm. We start using a null model (i.e. no predictors) and add the predictor that gives the greatest additional improvement. In the second round, we iterate through all remaining predictors and add the one that again gives the greatest additional improvement and so forth. We repeat this procedure k times, where k is the total number of features."
   ]
  },
  {
   "cell_type": "code",
   "execution_count": 35,
   "metadata": {
    "collapsed": false
   },
   "outputs": [
    {
     "name": "stdout",
     "output_type": "stream",
     "text": [
      "---------------------------------------------------------\n",
      "Clustering with 1 feature(s)\n",
      "Best feature combination:\n",
      " \t redCards\n",
      "Silhouette score:  0.880393996248 \n",
      "\n",
      "---------------------------------------------------------\n",
      "Clustering with 2 feature(s)\n",
      "Best feature combination:\n",
      " \t redCards, seIAT\n",
      "Silhouette score:  0.734492632706 \n",
      "\n",
      "---------------------------------------------------------\n",
      "Clustering with 3 feature(s)\n",
      "Best feature combination:\n",
      " \t redCards, seIAT, seExp\n",
      "Silhouette score:  0.620826281583 \n",
      "\n",
      "---------------------------------------------------------\n",
      "Clustering with 4 feature(s)\n",
      "Best feature combination:\n",
      " \t redCards, seIAT, seExp, meanExp\n",
      "Silhouette score:  0.536345240859 \n",
      "\n",
      "---------------------------------------------------------\n",
      "Clustering with 5 feature(s)\n",
      "Best feature combination:\n",
      " \t redCards, seIAT, seExp, meanExp, meanIAT\n",
      "Silhouette score:  0.608888692594 \n",
      "\n",
      "---------------------------------------------------------\n",
      "Clustering with 6 feature(s)\n",
      "Best feature combination:\n",
      " \t redCards, seIAT, seExp, meanExp, meanIAT, nIAT\n",
      "Silhouette score:  0.571627822681 \n",
      "\n",
      "---------------------------------------------------------\n",
      "Clustering with 7 feature(s)\n",
      "Best feature combination:\n",
      " \t redCards, seIAT, seExp, meanExp, meanIAT, nIAT, nExp\n",
      "Silhouette score:  0.539436547666 \n",
      "\n",
      "---------------------------------------------------------\n",
      "Clustering with 8 feature(s)\n",
      "Best feature combination:\n",
      " \t redCards, seIAT, seExp, meanExp, meanIAT, nIAT, nExp, goals\n",
      "Silhouette score:  0.503121628997 \n",
      "\n",
      "---------------------------------------------------------\n",
      "Clustering with 9 feature(s)\n",
      "Best feature combination:\n",
      " \t redCards, seIAT, seExp, meanExp, meanIAT, nIAT, nExp, goals, victories\n",
      "Silhouette score:  0.464185332998 \n",
      "\n",
      "---------------------------------------------------------\n",
      "Clustering with 10 feature(s)\n",
      "Best feature combination:\n",
      " \t redCards, seIAT, seExp, meanExp, meanIAT, nIAT, nExp, goals, victories, yellowReds\n",
      "Silhouette score:  0.429362286516 \n",
      "\n",
      "---------------------------------------------------------\n",
      "Clustering with 11 feature(s)\n",
      "Best feature combination:\n",
      " \t redCards, seIAT, seExp, meanExp, meanIAT, nIAT, nExp, goals, victories, yellowReds, yellowCards\n",
      "Silhouette score:  0.399014462134 \n",
      "\n",
      "---------------------------------------------------------\n",
      "Clustering with 12 feature(s)\n",
      "Best feature combination:\n",
      " \t redCards, seIAT, seExp, meanExp, meanIAT, nIAT, nExp, goals, victories, yellowReds, yellowCards, games\n",
      "Silhouette score:  0.372518201283 \n",
      "\n",
      "---------------------------------------------------------\n",
      "Clustering with 13 feature(s)\n",
      "Best feature combination:\n",
      " \t redCards, seIAT, seExp, meanExp, meanIAT, nIAT, nExp, goals, victories, yellowReds, yellowCards, games, ties\n",
      "Silhouette score:  0.357489171173 \n",
      "\n",
      "---------------------------------------------------------\n",
      "Clustering with 14 feature(s)\n",
      "Best feature combination:\n",
      " \t redCards, seIAT, seExp, meanExp, meanIAT, nIAT, nExp, goals, victories, yellowReds, yellowCards, games, ties, defeats\n",
      "Silhouette score:  0.383159380725 \n",
      "\n"
     ]
    }
   ],
   "source": [
    "ffs = forward_feature_selection(X)"
   ]
  },
  {
   "cell_type": "markdown",
   "metadata": {},
   "source": [
    "We see that the more features we add, the worst score we get. This means that our data are really noisy and extra features do not help in building two separate clusters."
   ]
  },
  {
   "cell_type": "code",
   "execution_count": 36,
   "metadata": {
    "collapsed": false
   },
   "outputs": [
    {
     "data": {
      "image/png": "[encoded data removed]",
      "text/plain": [
       "<matplotlib.figure.Figure at 0x7f965efd07b8>"
      ]
     },
     "metadata": {},
     "output_type": "display_data"
    }
   ],
   "source": [
    "visualize_silhouette_score(ffs)"
   ]
  },
  {
   "cell_type": "markdown",
   "metadata": {},
   "source": [
    "### Backward Feature Selection\n",
    "\n",
    "It is the opposite of forward stepwise selection. We start using the full set of predictors and removing the least useful predictor, one-at-a-time."
   ]
  },
  {
   "cell_type": "code",
   "execution_count": 37,
   "metadata": {
    "collapsed": false
   },
   "outputs": [
    {
     "name": "stdout",
     "output_type": "stream",
     "text": [
      "---------------------------------------------------------\n",
      "Clustering with 13 feature(s)\n",
      "Best feature combination:\n",
      " \t games, victories, ties, defeats, goals, yellowCards, yellowReds, redCards, nIAT, seIAT, meanExp, nExp, seExp\n",
      "Silhouette score:  0.420667351956 \n",
      "\n",
      "---------------------------------------------------------\n",
      "Clustering with 12 feature(s)\n",
      "Best feature combination:\n",
      " \t games, victories, ties, defeats, goals, yellowCards, yellowReds, redCards, nIAT, seIAT, nExp, seExp\n",
      "Silhouette score:  0.470380700573 \n",
      "\n",
      "---------------------------------------------------------\n",
      "Clustering with 11 feature(s)\n",
      "Best feature combination:\n",
      " \t games, victories, ties, defeats, goals, yellowCards, redCards, nIAT, seIAT, nExp, seExp\n",
      "Silhouette score:  0.493685912145 \n",
      "\n",
      "---------------------------------------------------------\n",
      "Clustering with 10 feature(s)\n",
      "Best feature combination:\n",
      " \t games, victories, ties, defeats, goals, yellowCards, nIAT, seIAT, nExp, seExp\n",
      "Silhouette score:  0.511884510822 \n",
      "\n",
      "---------------------------------------------------------\n",
      "Clustering with 9 feature(s)\n",
      "Best feature combination:\n",
      " \t games, victories, ties, defeats, yellowCards, nIAT, seIAT, nExp, seExp\n",
      "Silhouette score:  0.544664805644 \n",
      "\n",
      "---------------------------------------------------------\n",
      "Clustering with 8 feature(s)\n",
      "Best feature combination:\n",
      " \t games, victories, ties, defeats, yellowCards, nIAT, seIAT, seExp\n",
      "Silhouette score:  0.564959596673 \n",
      "\n",
      "---------------------------------------------------------\n",
      "Clustering with 7 feature(s)\n",
      "Best feature combination:\n",
      " \t games, victories, ties, defeats, yellowCards, seIAT, seExp\n",
      "Silhouette score:  0.57882057991 \n",
      "\n",
      "---------------------------------------------------------\n",
      "Clustering with 6 feature(s)\n",
      "Best feature combination:\n",
      " \t games, victories, ties, defeats, seIAT, seExp\n",
      "Silhouette score:  0.608523982959 \n",
      "\n",
      "---------------------------------------------------------\n",
      "Clustering with 5 feature(s)\n",
      "Best feature combination:\n",
      " \t games, victories, ties, defeats, seIAT\n",
      "Silhouette score:  0.639375998857 \n",
      "\n",
      "---------------------------------------------------------\n",
      "Clustering with 4 feature(s)\n",
      "Best feature combination:\n",
      " \t games, victories, ties, defeats\n",
      "Silhouette score:  0.670542993045 \n",
      "\n",
      "---------------------------------------------------------\n",
      "Clustering with 3 feature(s)\n",
      "Best feature combination:\n",
      " \t games, ties, defeats\n",
      "Silhouette score:  0.694857304354 \n",
      "\n",
      "---------------------------------------------------------\n",
      "Clustering with 2 feature(s)\n",
      "Best feature combination:\n",
      " \t games, ties\n",
      "Silhouette score:  0.721900654185 \n",
      "\n",
      "---------------------------------------------------------\n",
      "Clustering with 1 feature(s)\n",
      "Best feature combination:\n",
      " \t ties\n",
      "Silhouette score:  0.754141239866 \n",
      "\n"
     ]
    }
   ],
   "source": [
    "bfs = backward_feature_selection(X)"
   ]
  },
  {
   "cell_type": "markdown",
   "metadata": {},
   "source": [
    "We see that we got different results from the forward feature selection. We keep <code>[games, ties]</code> as best feature combination since both <code>games, ties</code> are continuous variables (compared to the <code>[redCards, seIAT]</code> of the forward feature selection). "
   ]
  },
  {
   "cell_type": "markdown",
   "metadata": {},
   "source": [
    "## Clustering in labeled dataset\n",
    "\n",
    "Kmeans is an unsupervised technique used for clustering. However, some datasets, like the one provided, that labeled data. In such cases, we can perform the clustering and use the labels in the visualization part, in order to see if the data classes can be separated with Kmeans. "
   ]
  },
  {
   "cell_type": "code",
   "execution_count": 38,
   "metadata": {
    "collapsed": false
   },
   "outputs": [],
   "source": [
    "y_df = pd.DataFrame(y)\n",
    "data = pd.merge(y_df, X, left_index=True, right_index=True)"
   ]
  },
  {
   "cell_type": "markdown",
   "metadata": {},
   "source": [
    "<a name=\"real-visualization\"></a>\n",
    "\n",
    "### Real Data Vizualization"
   ]
  },
  {
   "cell_type": "code",
   "execution_count": 39,
   "metadata": {
    "collapsed": false
   },
   "outputs": [
    {
     "data": {
      "image/png": "[encoded data removed]",
      "text/plain": [
       "<matplotlib.figure.Figure at 0x7f965eab36a0>"
      ]
     },
     "metadata": {},
     "output_type": "display_data"
    }
   ],
   "source": [
    "groups = data.groupby('rater1')\n",
    "fig, ax = plt.subplots()\n",
    "ax.margins(0.05) # Optional, just adds 5% padding to the autoscaling\n",
    "labels = ['white', 'black']\n",
    "label_id = 0\n",
    "for name, group in groups:\n",
    "    ax.plot(group.games, group.ties, marker='o', linestyle='', ms=8, label=labels[label_id])\n",
    "    plt.xlabel('Games feature')\n",
    "    plt.ylabel('Ties feature')\n",
    "    label_id += 1\n",
    "ax.legend()\n",
    "plt.show()"
   ]
  },
  {
   "cell_type": "markdown",
   "metadata": {},
   "source": [
    "After PCA, this is a second evidence that the data cannot be splitted properly in two clusters, where the one cluster represents white and the second cluster black soccer players."
   ]
  },
  {
   "cell_type": "markdown",
   "metadata": {},
   "source": [
    "## K-means with the 2 most importand features"
   ]
  },
  {
   "cell_type": "markdown",
   "metadata": {},
   "source": [
    "We keep the two most important features given by the forward feature selection"
   ]
  },
  {
   "cell_type": "code",
   "execution_count": 40,
   "metadata": {
    "collapsed": true
   },
   "outputs": [],
   "source": [
    "important_features = ['games', 'ties']"
   ]
  },
  {
   "cell_type": "code",
   "execution_count": 41,
   "metadata": {
    "collapsed": false
   },
   "outputs": [
    {
     "data": {
      "text/plain": [
       "0.72190065418487848"
      ]
     },
     "execution_count": 41,
     "metadata": {},
     "output_type": "execute_result"
    }
   ],
   "source": [
    "# number of clusters\n",
    "n_clusters = 2\n",
    "# initialize kmeans\n",
    "kmeans = KMeans(n_clusters=2, random_state=0)\n",
    "kmeans.fit(X[important_features])\n",
    "# compute score\n",
    "silhouette_score = metrics.silhouette_score(X[important_features], kmeans.labels_, metric='sqeuclidean')\n",
    "silhouette_score"
   ]
  },
  {
   "cell_type": "code",
   "execution_count": 42,
   "metadata": {
    "collapsed": false
   },
   "outputs": [
    {
     "data": {
      "image/png": "[encoded data removed]",
      "text/plain": [
       "<matplotlib.figure.Figure at 0x7f965eeda4e0>"
      ]
     },
     "metadata": {},
     "output_type": "display_data"
    }
   ],
   "source": [
    "visualize_clusters(kmeans, X[important_features], important_features,  n_clusters)"
   ]
  },
  {
   "cell_type": "markdown",
   "metadata": {},
   "source": [
    "**NOTE:** Here, the colours represent the cluster in which a data point belongs to. They have nothing to do with the skin colour of the player."
   ]
  },
  {
   "cell_type": "markdown",
   "metadata": {},
   "source": [
    "Silhouette analysis can be used to study the separation distance between the resulting clusters. The silhouette plot displays a measure of how close each point in one cluster is to points in the neighboring clusters and thus provides a way to assess parameters like number of clusters visually. This measure has a range of [-1, 1].\n",
    "\n",
    "Silhouette coefficients near +1 indicate that the sample is far away from the neighboring clusters. A value of 0 indicates that the sample is on or very close to the decision boundary between two neighboring clusters and negative values indicate that those samples might have been assigned to the wrong cluster."
   ]
  },
  {
   "cell_type": "code",
   "execution_count": 43,
   "metadata": {
    "collapsed": false,
    "scrolled": false
   },
   "outputs": [
    {
     "name": "stdout",
     "output_type": "stream",
     "text": [
      "For n_clusters = 2 The average silhouette_score is : 0.54058228002\n"
     ]
    },
    {
     "data": {
      "image/png": "[encoded data removed]",
      "text/plain": [
       "<matplotlib.figure.Figure at 0x7f965ccb8400>"
      ]
     },
     "metadata": {},
     "output_type": "display_data"
    }
   ],
   "source": [
    "silhouette_analysis(X[important_features])"
   ]
  },
  {
   "cell_type": "markdown",
   "metadata": {},
   "source": [
    "### Gaussian Mixture Model"
   ]
  },
  {
   "cell_type": "markdown",
   "metadata": {},
   "source": [
    "Also we perform clustering using Gaussian Mixture Models. A quick introduction to GMMs can be found [here](http://www.nehalemlabs.net/prototype/blog/2014/04/03/quick-introduction-to-gaussian-mixture-models-with-python/). This type of model performs soft clustering, as it assigns each data point to a cluster with certain probability. The cluster may have elliptic or shperical shapes."
   ]
  },
  {
   "cell_type": "code",
   "execution_count": 44,
   "metadata": {
    "collapsed": false
   },
   "outputs": [
    {
     "data": {
      "text/plain": [
       "GMM(covariance_type='full', init_params='wmc', min_covar=0.001,\n",
       "  n_components=2, n_init=1, n_iter=100, params='wmc', random_state=None,\n",
       "  tol=0.001, verbose=0)"
      ]
     },
     "execution_count": 44,
     "metadata": {},
     "output_type": "execute_result"
    }
   ],
   "source": [
    "from sklearn import mixture\n",
    "gmix = mixture.GMM(n_components=2, covariance_type='full')\n",
    "gmix.fit(X[important_features])"
   ]
  },
  {
   "cell_type": "markdown",
   "metadata": {},
   "source": [
    "The centers of the cluster are:"
   ]
  },
  {
   "cell_type": "code",
   "execution_count": 45,
   "metadata": {
    "collapsed": false
   },
   "outputs": [
    {
     "name": "stdout",
     "output_type": "stream",
     "text": [
      "[[ 0.57459779  0.61452789]\n",
      " [-0.35609109 -0.33691101]]\n"
     ]
    }
   ],
   "source": [
    "print(gmix.means_)"
   ]
  },
  {
   "cell_type": "code",
   "execution_count": 46,
   "metadata": {
    "collapsed": false
   },
   "outputs": [
    {
     "data": {
      "image/png": "[encoded data removed]",
      "text/plain": [
       "<matplotlib.figure.Figure at 0x7f965e9fa208>"
      ]
     },
     "metadata": {},
     "output_type": "display_data"
    }
   ],
   "source": [
    "plot_gmm(gmix, X[important_features], important_features)"
   ]
  },
  {
   "cell_type": "code",
   "execution_count": 47,
   "metadata": {
    "collapsed": false
   },
   "outputs": [
    {
     "data": {
      "text/plain": [
       "0.51442445807132009"
      ]
     },
     "execution_count": 47,
     "metadata": {},
     "output_type": "execute_result"
    }
   ],
   "source": [
    "metrics.silhouette_score(X[important_features], gmix.predict(X[important_features]), metric='euclidean')"
   ]
  },
  {
   "cell_type": "markdown",
   "metadata": {},
   "source": [
    "We indentify two clusters, slightly different than Kmeans. However, these clusteres do not represent the [real](#real-visualization) distribution of white and black soccer players."
   ]
  }
 ],
 "metadata": {
  "anaconda-cloud": {},
  "kernelspec": {
   "display_name": "Python [Root]",
   "language": "python",
   "name": "Python [Root]"
  },
  "language_info": {
   "codemirror_mode": {
    "name": "ipython",
    "version": 3
   },
   "file_extension": ".py",
   "mimetype": "text/x-python",
   "name": "python",
   "nbconvert_exporter": "python",
   "pygments_lexer": "ipython3",
   "version": "3.5.2"
  }
 },
 "nbformat": 4,
 "nbformat_minor": 1
}
